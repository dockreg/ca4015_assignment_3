{
 "cells": [
  {
   "cell_type": "markdown",
   "id": "a0e54c4d",
   "metadata": {},
   "source": [
    "<h1><center>Music Recommender System</center></h1>"
   ]
  },
  {
   "cell_type": "markdown",
   "id": "ac529a5f",
   "metadata": {},
   "source": [
    "<img src=\"https://www.incimages.com/uploaded_files/image/1920x1080/getty_626660256_2000108620009280158_379902.jpg\" width=750 height=7500 />"
   ]
  },
  {
   "cell_type": "markdown",
   "id": "26c31ed5",
   "metadata": {},
   "source": [
    "This will detail all of the steps involved in creating this music recommender system. This code is based on the google colab notebook and educational code available at: \n",
    "\n",
    "https://colab.research.google.com/github/google/eng-edu/blob/main/ml/recommendation-systems/recommendation-systems.ipynb?utm_source=ss-recommendation-systems&utm_campaign=colab-external&utm_medium=referral&utm_content=recommendation-systems#scrollTo=StMo4lDmLqpc \n",
    "\n",
    "\n",
    "#### The notebook is split into 4 sections:\n",
    "\n",
    "1) Building rating matrix/ Calculating error\n",
    "\n",
    "2) Training the matrix factorisation model\n",
    "\n",
    "3) Inspecting embeddings\n",
    "\n",
    "4) Regularisation in matrix factorisation\n",
    "\n"
   ]
  },
  {
   "cell_type": "markdown",
   "id": "14c48af9",
   "metadata": {},
   "source": [
    "## Import required dependencies"
   ]
  },
  {
   "cell_type": "code",
   "execution_count": 1,
   "id": "7880865c",
   "metadata": {},
   "outputs": [
    {
     "name": "stdout",
     "output_type": "stream",
     "text": [
      "WARNING:tensorflow:From /Users/dockreg/anaconda3/lib/python3.7/site-packages/tensorflow/python/compat/v2_compat.py:111: disable_resource_variables (from tensorflow.python.ops.variable_scope) is deprecated and will be removed in a future version.\n",
      "Instructions for updating:\n",
      "non-resource variables are not supported in the long term\n"
     ]
    }
   ],
   "source": [
    "from __future__ import print_function\n",
    "import seaborn as sns\n",
    "import numpy as np\n",
    "import pandas as pd\n",
    "import collections\n",
    "from mpl_toolkits.mplot3d import Axes3D\n",
    "from IPython import display\n",
    "from matplotlib import pyplot as plt\n",
    "import sklearn\n",
    "import sklearn.manifold\n",
    "import tensorflow.compat.v1 as tf\n",
    "tf.disable_v2_behavior()\n",
    "tf.logging.set_verbosity(tf.logging.ERROR)"
   ]
  },
  {
   "cell_type": "markdown",
   "id": "7de40567",
   "metadata": {},
   "source": [
    "## 1) Preliminaries"
   ]
  },
  {
   "cell_type": "code",
   "execution_count": 2,
   "id": "0ff5b83e",
   "metadata": {},
   "outputs": [],
   "source": [
    "artists = pd.read_csv('../Data/artists.dat', sep='\t')\n",
    "tags = pd.read_csv('../Data/tags.dat', sep='\t', encoding='latin-1')\n",
    "user_artists = pd.read_csv('../Data/user_artists.dat', sep='\t')\n",
    "user_friends = pd.read_csv('../Data/user_friends.dat', sep='\t')\n",
    "user_tagged_artists_tstamp = pd.read_csv('../Data/user_taggedartists-timestamps.dat', sep='\t')\n",
    "user_tagged_artists = pd.read_csv('../Data/user_taggedartists.dat', sep='\t')"
   ]
  },
  {
   "cell_type": "markdown",
   "id": "4c4f4799",
   "metadata": {},
   "source": [
    "We create a function to be used later for splitting the data in testing and training sets"
   ]
  },
  {
   "cell_type": "code",
   "execution_count": 3,
   "id": "f088685f",
   "metadata": {},
   "outputs": [],
   "source": [
    "# Split the data into training and test sets.\n",
    "def split_dataframe(df, holdout_fraction=0.1):\n",
    "    test = df.sample(frac=holdout_fraction, replace=False)\n",
    "    train = df[~df.index.isin(test.index)]\n",
    "    return train, test"
   ]
  },
  {
   "cell_type": "markdown",
   "id": "3defdd8d",
   "metadata": {},
   "source": [
    "### Building matrix\n",
    "\n",
    "We design a function that maps the ```user_artists``` data to a tensorflow sparsetensor representation. Most users will not have rated each artist so this is full of 0's and hence becomes a very large matrix. This function allows us to efficiently capture this data"
   ]
  },
  {
   "cell_type": "code",
   "execution_count": 4,
   "id": "22f012c9",
   "metadata": {},
   "outputs": [],
   "source": [
    "def build_rating_sparse_tensor(user_artists_df):\n",
    "    indices = user_artists_df[['userID', 'artistID']].values\n",
    "    values = user_artists_df['weight'].values\n",
    "    return tf.SparseTensor(\n",
    "        indices=indices,\n",
    "        values=values,\n",
    "        dense_shape=[len(user_artists['userID'].unique()), len(artists['id'].unique())])"
   ]
  },
  {
   "cell_type": "markdown",
   "id": "03429d77",
   "metadata": {},
   "source": [
    "### Calculating the error\n",
    "\n",
    "The model approximates the ratings matrix by a low-rank product. We need a way to measure the approximation error. We'll start by using the Mean Squared Error of observed entries only. It is defined as\n",
    "\n",
    "$$\n",
    "\\begin{align*}\n",
    "\\text{MSE}(A, UV^\\top)\n",
    "&= \\frac{1}{|\\Omega|}\\sum_{(i, j) \\in\\Omega}{( A_{ij} - (UV^\\top)_{ij})^2} \\\\\n",
    "&= \\frac{1}{|\\Omega|}\\sum_{(i, j) \\in\\Omega}{( A_{ij} - \\langle U_i, V_j\\rangle)^2}\n",
    "\\end{align*}\n",
    "$$\n",
    "\n",
    "The function below is created to calculate this"
   ]
  },
  {
   "cell_type": "code",
   "execution_count": 5,
   "id": "2c7c804f",
   "metadata": {},
   "outputs": [],
   "source": [
    "def sparse_mean_square_error(sparse_ratings, user_embeddings, music_embeddings):\n",
    "    predictions = tf.reduce_sum(\n",
    "        tf.gather(user_embeddings, sparse_ratings.indices[:, 0]) *\n",
    "        tf.gather(music_embeddings, sparse_ratings.indices[:, 1]),\n",
    "        axis=1)\n",
    "    loss = tf.losses.mean_squared_error(sparse_ratings.values, predictions)\n",
    "    return loss"
   ]
  },
  {
   "cell_type": "markdown",
   "id": "70595082",
   "metadata": {},
   "source": [
    "## 2) Training the Matrix Factorization model\n",
    "\n",
    "### Collaborative Filtering Model (CF Model)\n",
    "This class trains a matrix factorization model. Stochastic gradient descent is used in the function as the optimiser.\n"
   ]
  },
  {
   "cell_type": "code",
   "execution_count": 6,
   "id": "fcd483db",
   "metadata": {},
   "outputs": [],
   "source": [
    "class CFModel(object):\n",
    "    def __init__(self, embedding_vars, loss, metrics=None):\n",
    "        self._embedding_vars = embedding_vars\n",
    "        self._loss = loss\n",
    "        self._metrics = metrics\n",
    "        self._embeddings = {k: None for k in embedding_vars}\n",
    "        self._session = None\n",
    "\n",
    "    @property\n",
    "    def embeddings(self):\n",
    "        return self._embeddings\n",
    "\n",
    "    def train(self, num_iterations=100, learning_rate=1.0, plot_results=True,\n",
    "            optimizer=tf.train.GradientDescentOptimizer):\n",
    "        with self._loss.graph.as_default():\n",
    "            opt = optimizer(learning_rate)\n",
    "            train_op = opt.minimize(self._loss)\n",
    "            local_init_op = tf.group(\n",
    "              tf.variables_initializer(opt.variables()),\n",
    "              tf.local_variables_initializer())\n",
    "            if self._session is None:\n",
    "                self._session = tf.Session()\n",
    "                with self._session.as_default():\n",
    "                    self._session.run(tf.global_variables_initializer())\n",
    "                    self._session.run(tf.tables_initializer())\n",
    "                    tf.train.start_queue_runners()\n",
    "\n",
    "        with self._session.as_default():\n",
    "            local_init_op.run()\n",
    "            iterations = []\n",
    "            metrics = self._metrics or ({},)\n",
    "            metrics_vals = [collections.defaultdict(list) for _ in self._metrics]\n",
    "\n",
    "            # Train and append results.\n",
    "            for i in range(num_iterations + 1):\n",
    "                _, results = self._session.run((train_op, metrics))\n",
    "                if (i % 10 == 0) or i == num_iterations:\n",
    "                    print(\"\\r iteration %d: \" % i + \", \".join([\"%s=%f\" % (k, v) for r in results for k, v in r.items()]),\n",
    "                        end='')\n",
    "                    iterations.append(i)\n",
    "                    for metric_val, result in zip(metrics_vals, results):\n",
    "                        for k, v in result.items():\n",
    "                            metric_val[k].append(v)\n",
    "\n",
    "            for k, v in self._embedding_vars.items():\n",
    "                self._embeddings[k] = v.eval()\n",
    "\n",
    "            if plot_results:\n",
    "                # Plot the metrics.\n",
    "                num_subplots = len(metrics)+1\n",
    "                fig = plt.figure()\n",
    "                fig.set_size_inches(num_subplots*10, 8)\n",
    "                for i, metric_vals in enumerate(metrics_vals):\n",
    "                    ax = fig.add_subplot(1, num_subplots, i+1)\n",
    "                    for k, v in metric_vals.items():\n",
    "                        ax.plot(iterations, v, label=k)\n",
    "                    ax.set_xlim([1, num_iterations])\n",
    "                    ax.legend()\n",
    "            return results"
   ]
  },
  {
   "cell_type": "markdown",
   "id": "c66716a0",
   "metadata": {},
   "source": [
    "### Build the model\n",
    "\n",
    "We build the model that uses the `sparse_mean_square_error` function. We write a function that builds a `CFModel` by creating the embedding variables and the train and test losses."
   ]
  },
  {
   "cell_type": "code",
   "execution_count": 7,
   "id": "5b1c187f",
   "metadata": {},
   "outputs": [],
   "source": [
    "def build_model(ratings, embedding_dim=3, init_stddev=1.):\n",
    "    \n",
    "    # Split the ratings DataFrame into train and test.\n",
    "    train_ratings, test_ratings = split_dataframe(ratings)\n",
    "    # SparseTensor representation of the train and test datasets.\n",
    "    A_train = build_rating_sparse_tensor(train_ratings)\n",
    "    A_test = build_rating_sparse_tensor(test_ratings)\n",
    "    # Initialize the embeddings using a normal distribution.\n",
    "    U = tf.Variable(tf.random_normal(\n",
    "      [A_train.dense_shape[0], embedding_dim], stddev=init_stddev))\n",
    "    V = tf.Variable(tf.random_normal(\n",
    "      [A_train.dense_shape[1], embedding_dim], stddev=init_stddev))\n",
    "    train_loss = sparse_mean_square_error(A_train, U, V)\n",
    "    test_loss = sparse_mean_square_error(A_test, U, V)\n",
    "    metrics = {\n",
    "      'train_error': train_loss,\n",
    "      'test_error': test_loss\n",
    "  }\n",
    "    embeddings = {\n",
    "      \"userID\": U,\n",
    "      \"artistID\": V\n",
    "  }\n",
    "    return CFModel(embeddings, train_loss, [metrics])"
   ]
  },
  {
   "cell_type": "code",
   "execution_count": 8,
   "id": "bca10fc1",
   "metadata": {},
   "outputs": [
    {
     "data": {
      "text/html": [
       "<div>\n",
       "<style scoped>\n",
       "    .dataframe tbody tr th:only-of-type {\n",
       "        vertical-align: middle;\n",
       "    }\n",
       "\n",
       "    .dataframe tbody tr th {\n",
       "        vertical-align: top;\n",
       "    }\n",
       "\n",
       "    .dataframe thead th {\n",
       "        text-align: right;\n",
       "    }\n",
       "</style>\n",
       "<table border=\"1\" class=\"dataframe\">\n",
       "  <thead>\n",
       "    <tr style=\"text-align: right;\">\n",
       "      <th></th>\n",
       "      <th>userID</th>\n",
       "      <th>artistID</th>\n",
       "      <th>weight</th>\n",
       "    </tr>\n",
       "  </thead>\n",
       "  <tbody>\n",
       "    <tr>\n",
       "      <th>0</th>\n",
       "      <td>2</td>\n",
       "      <td>51</td>\n",
       "      <td>13883</td>\n",
       "    </tr>\n",
       "    <tr>\n",
       "      <th>1</th>\n",
       "      <td>2</td>\n",
       "      <td>52</td>\n",
       "      <td>11690</td>\n",
       "    </tr>\n",
       "    <tr>\n",
       "      <th>2</th>\n",
       "      <td>2</td>\n",
       "      <td>53</td>\n",
       "      <td>11351</td>\n",
       "    </tr>\n",
       "    <tr>\n",
       "      <th>3</th>\n",
       "      <td>2</td>\n",
       "      <td>54</td>\n",
       "      <td>10300</td>\n",
       "    </tr>\n",
       "    <tr>\n",
       "      <th>4</th>\n",
       "      <td>2</td>\n",
       "      <td>55</td>\n",
       "      <td>8983</td>\n",
       "    </tr>\n",
       "    <tr>\n",
       "      <th>...</th>\n",
       "      <td>...</td>\n",
       "      <td>...</td>\n",
       "      <td>...</td>\n",
       "    </tr>\n",
       "    <tr>\n",
       "      <th>92829</th>\n",
       "      <td>2100</td>\n",
       "      <td>18726</td>\n",
       "      <td>337</td>\n",
       "    </tr>\n",
       "    <tr>\n",
       "      <th>92830</th>\n",
       "      <td>2100</td>\n",
       "      <td>18727</td>\n",
       "      <td>297</td>\n",
       "    </tr>\n",
       "    <tr>\n",
       "      <th>92831</th>\n",
       "      <td>2100</td>\n",
       "      <td>18728</td>\n",
       "      <td>281</td>\n",
       "    </tr>\n",
       "    <tr>\n",
       "      <th>92832</th>\n",
       "      <td>2100</td>\n",
       "      <td>18729</td>\n",
       "      <td>280</td>\n",
       "    </tr>\n",
       "    <tr>\n",
       "      <th>92833</th>\n",
       "      <td>2100</td>\n",
       "      <td>18730</td>\n",
       "      <td>263</td>\n",
       "    </tr>\n",
       "  </tbody>\n",
       "</table>\n",
       "<p>92834 rows × 3 columns</p>\n",
       "</div>"
      ],
      "text/plain": [
       "       userID  artistID  weight\n",
       "0           2        51   13883\n",
       "1           2        52   11690\n",
       "2           2        53   11351\n",
       "3           2        54   10300\n",
       "4           2        55    8983\n",
       "...       ...       ...     ...\n",
       "92829    2100     18726     337\n",
       "92830    2100     18727     297\n",
       "92831    2100     18728     281\n",
       "92832    2100     18729     280\n",
       "92833    2100     18730     263\n",
       "\n",
       "[92834 rows x 3 columns]"
      ]
     },
     "execution_count": 8,
     "metadata": {},
     "output_type": "execute_result"
    }
   ],
   "source": [
    "user_artists"
   ]
  },
  {
   "cell_type": "markdown",
   "id": "f48c2b57",
   "metadata": {},
   "source": [
    " We convert our columns into the appropriate data type before running it through the model"
   ]
  },
  {
   "cell_type": "markdown",
   "id": "12cd544e",
   "metadata": {},
   "source": [
    "### Changing user id and artist id\n",
    "\n",
    "We get errors when using the user data as is, as the user ID values and artist ID values are not in sequential order and are often higher than the index value so we will change them so they run from 0-1891, and 0-17631 respectively."
   ]
  },
  {
   "cell_type": "code",
   "execution_count": 9,
   "id": "4c1efd07",
   "metadata": {},
   "outputs": [
    {
     "data": {
      "text/plain": [
       "2100"
      ]
     },
     "execution_count": 9,
     "metadata": {},
     "output_type": "execute_result"
    }
   ],
   "source": [
    "user_artists.userID.unique().astype(int).max()"
   ]
  },
  {
   "cell_type": "code",
   "execution_count": 10,
   "id": "1e5903c0",
   "metadata": {},
   "outputs": [
    {
     "data": {
      "text/plain": [
       "18745"
      ]
     },
     "execution_count": 10,
     "metadata": {},
     "output_type": "execute_result"
    }
   ],
   "source": [
    "user_artists.artistID.unique().astype(int).max()"
   ]
  },
  {
   "cell_type": "code",
   "execution_count": 11,
   "id": "804fd41c",
   "metadata": {},
   "outputs": [],
   "source": [
    "def return_inverse(x):\n",
    "    p = np.zeros(x.max()+1, dtype=bool)\n",
    "    p[x] = 1\n",
    "\n",
    "    p2 = np.empty(x.max()+1, dtype=np.uint64)\n",
    "    c = p.sum()\n",
    "    p2[p] = np.arange(c)    \n",
    "    out = p2[x]\n",
    "    return out"
   ]
  },
  {
   "cell_type": "code",
   "execution_count": 12,
   "id": "600ee7b6",
   "metadata": {},
   "outputs": [
    {
     "data": {
      "text/plain": [
       "array([   0,    0,    0, ..., 1891, 1891, 1891], dtype=uint64)"
      ]
     },
     "execution_count": 12,
     "metadata": {},
     "output_type": "execute_result"
    }
   ],
   "source": [
    "inverse_user_id = return_inverse(user_artists.userID)\n",
    "inverse_user_id"
   ]
  },
  {
   "cell_type": "code",
   "execution_count": 13,
   "id": "28c4ba69",
   "metadata": {},
   "outputs": [
    {
     "data": {
      "text/plain": [
       "array([   45,    46,    47, ..., 17617, 17618, 17619], dtype=uint64)"
      ]
     },
     "execution_count": 13,
     "metadata": {},
     "output_type": "execute_result"
    }
   ],
   "source": [
    "inverse_artist_id = return_inverse(user_artists.artistID)\n",
    "inverse_artist_id"
   ]
  },
  {
   "cell_type": "code",
   "execution_count": 14,
   "id": "3da3a89f",
   "metadata": {},
   "outputs": [],
   "source": [
    "# Replace id columns\n",
    "user_artists['userID'] = inverse_user_id\n",
    "user_artists['artistID'] = inverse_artist_id"
   ]
  },
  {
   "cell_type": "code",
   "execution_count": 15,
   "id": "7a464f93",
   "metadata": {},
   "outputs": [
    {
     "data": {
      "text/html": [
       "<div>\n",
       "<style scoped>\n",
       "    .dataframe tbody tr th:only-of-type {\n",
       "        vertical-align: middle;\n",
       "    }\n",
       "\n",
       "    .dataframe tbody tr th {\n",
       "        vertical-align: top;\n",
       "    }\n",
       "\n",
       "    .dataframe thead th {\n",
       "        text-align: right;\n",
       "    }\n",
       "</style>\n",
       "<table border=\"1\" class=\"dataframe\">\n",
       "  <thead>\n",
       "    <tr style=\"text-align: right;\">\n",
       "      <th></th>\n",
       "      <th>userID</th>\n",
       "      <th>artistID</th>\n",
       "      <th>weight</th>\n",
       "    </tr>\n",
       "  </thead>\n",
       "  <tbody>\n",
       "    <tr>\n",
       "      <th>count</th>\n",
       "      <td>92834.000000</td>\n",
       "      <td>92834.000000</td>\n",
       "      <td>92834.00000</td>\n",
       "    </tr>\n",
       "    <tr>\n",
       "      <th>mean</th>\n",
       "      <td>944.222483</td>\n",
       "      <td>3235.736724</td>\n",
       "      <td>745.24393</td>\n",
       "    </tr>\n",
       "    <tr>\n",
       "      <th>std</th>\n",
       "      <td>546.751074</td>\n",
       "      <td>4197.216910</td>\n",
       "      <td>3751.32208</td>\n",
       "    </tr>\n",
       "    <tr>\n",
       "      <th>min</th>\n",
       "      <td>0.000000</td>\n",
       "      <td>0.000000</td>\n",
       "      <td>1.00000</td>\n",
       "    </tr>\n",
       "    <tr>\n",
       "      <th>25%</th>\n",
       "      <td>470.000000</td>\n",
       "      <td>430.000000</td>\n",
       "      <td>107.00000</td>\n",
       "    </tr>\n",
       "    <tr>\n",
       "      <th>50%</th>\n",
       "      <td>944.000000</td>\n",
       "      <td>1237.000000</td>\n",
       "      <td>260.00000</td>\n",
       "    </tr>\n",
       "    <tr>\n",
       "      <th>75%</th>\n",
       "      <td>1416.000000</td>\n",
       "      <td>4266.000000</td>\n",
       "      <td>614.00000</td>\n",
       "    </tr>\n",
       "    <tr>\n",
       "      <th>max</th>\n",
       "      <td>1891.000000</td>\n",
       "      <td>17631.000000</td>\n",
       "      <td>352698.00000</td>\n",
       "    </tr>\n",
       "  </tbody>\n",
       "</table>\n",
       "</div>"
      ],
      "text/plain": [
       "             userID      artistID        weight\n",
       "count  92834.000000  92834.000000   92834.00000\n",
       "mean     944.222483   3235.736724     745.24393\n",
       "std      546.751074   4197.216910    3751.32208\n",
       "min        0.000000      0.000000       1.00000\n",
       "25%      470.000000    430.000000     107.00000\n",
       "50%      944.000000   1237.000000     260.00000\n",
       "75%     1416.000000   4266.000000     614.00000\n",
       "max     1891.000000  17631.000000  352698.00000"
      ]
     },
     "execution_count": 15,
     "metadata": {},
     "output_type": "execute_result"
    }
   ],
   "source": [
    "user_artists.describe()"
   ]
  },
  {
   "cell_type": "markdown",
   "id": "9df1cc0e",
   "metadata": {},
   "source": [
    "We can see the userID now has a max value of 1,891 and artistID has a max value of 17,631"
   ]
  },
  {
   "cell_type": "markdown",
   "id": "eeee2a36",
   "metadata": {},
   "source": [
    "### Normalisation\n",
    "\n",
    "The variety in weights are very large which will cause issues with our ```CFModel``` so we normalise these values between a value of 0-1 \n",
    "\n",
    "The code below can be uncommented to try a z score normalisation for different results"
   ]
  },
  {
   "cell_type": "code",
   "execution_count": 16,
   "id": "2a4c57f4",
   "metadata": {},
   "outputs": [
    {
     "data": {
      "text/html": [
       "<div>\n",
       "<style scoped>\n",
       "    .dataframe tbody tr th:only-of-type {\n",
       "        vertical-align: middle;\n",
       "    }\n",
       "\n",
       "    .dataframe tbody tr th {\n",
       "        vertical-align: top;\n",
       "    }\n",
       "\n",
       "    .dataframe thead th {\n",
       "        text-align: right;\n",
       "    }\n",
       "</style>\n",
       "<table border=\"1\" class=\"dataframe\">\n",
       "  <thead>\n",
       "    <tr style=\"text-align: right;\">\n",
       "      <th></th>\n",
       "      <th>userID</th>\n",
       "      <th>artistID</th>\n",
       "      <th>weight</th>\n",
       "    </tr>\n",
       "  </thead>\n",
       "  <tbody>\n",
       "    <tr>\n",
       "      <th>0</th>\n",
       "      <td>0</td>\n",
       "      <td>45</td>\n",
       "      <td>0.039360</td>\n",
       "    </tr>\n",
       "    <tr>\n",
       "      <th>1</th>\n",
       "      <td>0</td>\n",
       "      <td>46</td>\n",
       "      <td>0.033142</td>\n",
       "    </tr>\n",
       "    <tr>\n",
       "      <th>2</th>\n",
       "      <td>0</td>\n",
       "      <td>47</td>\n",
       "      <td>0.032181</td>\n",
       "    </tr>\n",
       "    <tr>\n",
       "      <th>3</th>\n",
       "      <td>0</td>\n",
       "      <td>48</td>\n",
       "      <td>0.029201</td>\n",
       "    </tr>\n",
       "    <tr>\n",
       "      <th>4</th>\n",
       "      <td>0</td>\n",
       "      <td>49</td>\n",
       "      <td>0.025467</td>\n",
       "    </tr>\n",
       "  </tbody>\n",
       "</table>\n",
       "</div>"
      ],
      "text/plain": [
       "   userID  artistID    weight\n",
       "0       0        45  0.039360\n",
       "1       0        46  0.033142\n",
       "2       0        47  0.032181\n",
       "3       0        48  0.029201\n",
       "4       0        49  0.025467"
      ]
     },
     "execution_count": 16,
     "metadata": {},
     "output_type": "execute_result"
    }
   ],
   "source": [
    "# copy the data\n",
    "user_artists_norm = user_artists.copy()\n",
    "  \n",
    "# apply normalization techniques by Column weight\n",
    "column = 'weight'\n",
    "user_artists_norm[column] = (user_artists_norm[column] - user_artists_norm[column].min()) / (user_artists_norm[column].max() - user_artists_norm[column].min())    \n",
    "\n",
    "# z score normalisation\n",
    "#user_artists_norm[column] = (user_artists_norm[column] - user_artists_norm[column].mean()) / user_artists_norm[column].std()    \n",
    "  \n",
    "# view normalized data\n",
    "user_artists_norm.head()"
   ]
  },
  {
   "cell_type": "markdown",
   "id": "d2963663",
   "metadata": {},
   "source": [
    "### Build the CF Model and train it"
   ]
  },
  {
   "cell_type": "code",
   "execution_count": 17,
   "id": "94218eab",
   "metadata": {},
   "outputs": [
    {
     "name": "stderr",
     "output_type": "stream",
     "text": [
      "2021-12-01 16:12:45.780764: I tensorflow/core/platform/cpu_feature_guard.cc:151] This TensorFlow binary is optimized with oneAPI Deep Neural Network Library (oneDNN) to use the following CPU instructions in performance-critical operations:  AVX2 FMA\n",
      "To enable them in other operations, rebuild TensorFlow with the appropriate compiler flags.\n"
     ]
    },
    {
     "name": "stdout",
     "output_type": "stream",
     "text": [
      "\r",
      " iteration 0: train_error=1.867858, test_error=1.864001\r",
      " iteration 10: train_error=1.524332, test_error=1.642613"
     ]
    },
    {
     "name": "stdout",
     "output_type": "stream",
     "text": [
      "\r",
      " iteration 20: train_error=1.281129, test_error=1.483649\r",
      " iteration 30: train_error=1.098678, test_error=1.362766\r",
      " iteration 40: train_error=0.956328, test_error=1.267085"
     ]
    },
    {
     "name": "stdout",
     "output_type": "stream",
     "text": [
      "\r",
      " iteration 50: train_error=0.842079, test_error=1.189087\r",
      " iteration 60: train_error=0.748398, test_error=1.124052\r",
      " iteration 70: train_error=0.670282, test_error=1.068851"
     ]
    },
    {
     "name": "stdout",
     "output_type": "stream",
     "text": [
      "\r",
      " iteration 80: train_error=0.604252, test_error=1.021320\r",
      " iteration 90: train_error=0.547809, test_error=0.979903\r",
      " iteration 100: train_error=0.499101, test_error=0.943451"
     ]
    },
    {
     "name": "stdout",
     "output_type": "stream",
     "text": [
      "\r",
      " iteration 110: train_error=0.456723, test_error=0.911094\r",
      " iteration 120: train_error=0.419590, test_error=0.882161\r",
      " iteration 130: train_error=0.386849, test_error=0.856122"
     ]
    },
    {
     "name": "stdout",
     "output_type": "stream",
     "text": [
      "\r",
      " iteration 140: train_error=0.357818, test_error=0.832555\r",
      " iteration 150: train_error=0.331949, test_error=0.811116\r",
      " iteration 160: train_error=0.308792, test_error=0.791526"
     ]
    },
    {
     "name": "stdout",
     "output_type": "stream",
     "text": [
      "\r",
      " iteration 170: train_error=0.287976, test_error=0.773550\r",
      " iteration 180: train_error=0.269195, test_error=0.756996\r",
      " iteration 190: train_error=0.252189, test_error=0.741698"
     ]
    },
    {
     "name": "stdout",
     "output_type": "stream",
     "text": [
      "\r",
      " iteration 200: train_error=0.236741, test_error=0.727518\r",
      " iteration 210: train_error=0.222665, test_error=0.714336\r",
      " iteration 220: train_error=0.209804, test_error=0.702049"
     ]
    },
    {
     "name": "stdout",
     "output_type": "stream",
     "text": [
      "\r",
      " iteration 230: train_error=0.198021, test_error=0.690569\r",
      " iteration 240: train_error=0.187200, test_error=0.679818\r",
      " iteration 250: train_error=0.177238, test_error=0.669728"
     ]
    },
    {
     "name": "stdout",
     "output_type": "stream",
     "text": [
      "\r",
      " iteration 260: train_error=0.168048, test_error=0.660239\r",
      " iteration 270: train_error=0.159551, test_error=0.651299\r",
      " iteration 280: train_error=0.151679, test_error=0.642862"
     ]
    },
    {
     "name": "stdout",
     "output_type": "stream",
     "text": [
      "\r",
      " iteration 290: train_error=0.144374, test_error=0.634885\r",
      " iteration 300: train_error=0.137581, test_error=0.627333\r",
      " iteration 310: train_error=0.131255, test_error=0.620171"
     ]
    },
    {
     "name": "stdout",
     "output_type": "stream",
     "text": [
      "\r",
      " iteration 320: train_error=0.125353, test_error=0.613370\r",
      " iteration 330: train_error=0.119839, test_error=0.606904\r",
      " iteration 340: train_error=0.114679, test_error=0.600747"
     ]
    },
    {
     "name": "stdout",
     "output_type": "stream",
     "text": [
      "\r",
      " iteration 350: train_error=0.109843, test_error=0.594879\r",
      " iteration 360: train_error=0.105306, test_error=0.589279\r",
      " iteration 370: train_error=0.101043, test_error=0.583929"
     ]
    },
    {
     "name": "stdout",
     "output_type": "stream",
     "text": [
      "\r",
      " iteration 380: train_error=0.097032, test_error=0.578813\r",
      " iteration 390: train_error=0.093254, test_error=0.573916\r",
      " iteration 400: train_error=0.089692, test_error=0.569223"
     ]
    },
    {
     "name": "stdout",
     "output_type": "stream",
     "text": [
      "\r",
      " iteration 410: train_error=0.086328, test_error=0.564722\r",
      " iteration 420: train_error=0.083149, test_error=0.560402\r",
      " iteration 430: train_error=0.080142, test_error=0.556252"
     ]
    },
    {
     "name": "stdout",
     "output_type": "stream",
     "text": [
      "\r",
      " iteration 440: train_error=0.077294, test_error=0.552261\r",
      " iteration 450: train_error=0.074594, test_error=0.548422\r",
      " iteration 460: train_error=0.072032, test_error=0.544724"
     ]
    },
    {
     "name": "stdout",
     "output_type": "stream",
     "text": [
      "\r",
      " iteration 470: train_error=0.069599, test_error=0.541162\r",
      " iteration 480: train_error=0.067287, test_error=0.537726\r",
      " iteration 490: train_error=0.065086, test_error=0.534411"
     ]
    },
    {
     "name": "stdout",
     "output_type": "stream",
     "text": [
      "\r",
      " iteration 500: train_error=0.062992, test_error=0.531211\r",
      " iteration 510: train_error=0.060996, test_error=0.528118\r",
      " iteration 520: train_error=0.059092, test_error=0.525129"
     ]
    },
    {
     "name": "stdout",
     "output_type": "stream",
     "text": [
      "\r",
      " iteration 530: train_error=0.057276, test_error=0.522238\r",
      " iteration 540: train_error=0.055541, test_error=0.519440\r",
      " iteration 550: train_error=0.053883, test_error=0.516730"
     ]
    },
    {
     "name": "stdout",
     "output_type": "stream",
     "text": [
      "\r",
      " iteration 560: train_error=0.052297, test_error=0.514105\r",
      " iteration 570: train_error=0.050780, test_error=0.511561\r",
      " iteration 580: train_error=0.049327, test_error=0.509093"
     ]
    },
    {
     "name": "stdout",
     "output_type": "stream",
     "text": [
      "\r",
      " iteration 590: train_error=0.047935, test_error=0.506700\r",
      " iteration 600: train_error=0.046601, test_error=0.504376\r",
      " iteration 610: train_error=0.045320, test_error=0.502119"
     ]
    },
    {
     "name": "stdout",
     "output_type": "stream",
     "text": [
      "\r",
      " iteration 620: train_error=0.044092, test_error=0.499927\r",
      " iteration 630: train_error=0.042911, test_error=0.497796\r",
      " iteration 640: train_error=0.041777, test_error=0.495725"
     ]
    },
    {
     "name": "stdout",
     "output_type": "stream",
     "text": [
      "\r",
      " iteration 650: train_error=0.040687, test_error=0.493710\r",
      " iteration 660: train_error=0.039639, test_error=0.491749\r",
      " iteration 670: train_error=0.038629, test_error=0.489840"
     ]
    },
    {
     "name": "stdout",
     "output_type": "stream",
     "text": [
      "\r",
      " iteration 680: train_error=0.037658, test_error=0.487982\r",
      " iteration 690: train_error=0.036722, test_error=0.486171\r",
      " iteration 700: train_error=0.035820, test_error=0.484407"
     ]
    },
    {
     "name": "stdout",
     "output_type": "stream",
     "text": [
      "\r",
      " iteration 710: train_error=0.034950, test_error=0.482687\r",
      " iteration 720: train_error=0.034111, test_error=0.481010\r",
      " iteration 730: train_error=0.033301, test_error=0.479375"
     ]
    },
    {
     "name": "stdout",
     "output_type": "stream",
     "text": [
      "\r",
      " iteration 740: train_error=0.032520, test_error=0.477779\r",
      " iteration 750: train_error=0.031765, test_error=0.476221"
     ]
    },
    {
     "name": "stdout",
     "output_type": "stream",
     "text": [
      "\r",
      " iteration 760: train_error=0.031036, test_error=0.474701\r",
      " iteration 770: train_error=0.030331, test_error=0.473216\r",
      " iteration 780: train_error=0.029649, test_error=0.471766"
     ]
    },
    {
     "name": "stdout",
     "output_type": "stream",
     "text": [
      "\r",
      " iteration 790: train_error=0.028990, test_error=0.470349\r",
      " iteration 800: train_error=0.028352, test_error=0.468963\r",
      " iteration 810: train_error=0.027735, test_error=0.467609"
     ]
    },
    {
     "name": "stdout",
     "output_type": "stream",
     "text": [
      "\r",
      " iteration 820: train_error=0.027137, test_error=0.466285\r",
      " iteration 830: train_error=0.026558, test_error=0.464990"
     ]
    },
    {
     "name": "stdout",
     "output_type": "stream",
     "text": [
      "\r",
      " iteration 840: train_error=0.025997, test_error=0.463723\r",
      " iteration 850: train_error=0.025453, test_error=0.462484\r",
      " iteration 860: train_error=0.024926, test_error=0.461270"
     ]
    },
    {
     "name": "stdout",
     "output_type": "stream",
     "text": [
      "\r",
      " iteration 870: train_error=0.024414, test_error=0.460082\r",
      " iteration 880: train_error=0.023918, test_error=0.458919\r",
      " iteration 890: train_error=0.023437, test_error=0.457780"
     ]
    },
    {
     "name": "stdout",
     "output_type": "stream",
     "text": [
      "\r",
      " iteration 900: train_error=0.022969, test_error=0.456664\r",
      " iteration 910: train_error=0.022516, test_error=0.455570"
     ]
    },
    {
     "name": "stdout",
     "output_type": "stream",
     "text": [
      "\r",
      " iteration 920: train_error=0.022075, test_error=0.454498\r",
      " iteration 930: train_error=0.021646, test_error=0.453448\r",
      " iteration 940: train_error=0.021230, test_error=0.452418"
     ]
    },
    {
     "name": "stdout",
     "output_type": "stream",
     "text": [
      "\r",
      " iteration 950: train_error=0.020826, test_error=0.451408\r",
      " iteration 960: train_error=0.020432, test_error=0.450418\r",
      " iteration 970: train_error=0.020050, test_error=0.449446"
     ]
    },
    {
     "name": "stdout",
     "output_type": "stream",
     "text": [
      "\r",
      " iteration 980: train_error=0.019678, test_error=0.448493\r",
      " iteration 990: train_error=0.019316, test_error=0.447557\r",
      " iteration 1000: train_error=0.018963, test_error=0.446639"
     ]
    },
    {
     "data": {
      "text/plain": [
       "[{'train_error': 0.018963082, 'test_error': 0.44663915}]"
      ]
     },
     "execution_count": 17,
     "metadata": {},
     "output_type": "execute_result"
    },
    {
     "data": {
      "image/png": "[encoded data removed]",
      "text/plain": [
       "<Figure size 1440x576 with 1 Axes>"
      ]
     },
     "metadata": {
      "filenames": {
       "image/png": "/Users/dockreg/ca4015_assignment_3/book/_build/jupyter_execute/Recommender_System_31_37.png"
      },
      "needs_background": "light"
     },
     "output_type": "display_data"
    }
   ],
   "source": [
    "model = build_model(user_artists_norm, embedding_dim=30, init_stddev=0.5)\n",
    "model.train(num_iterations=1000, learning_rate=10)"
   ]
  },
  {
   "cell_type": "markdown",
   "id": "2d6fb0e0",
   "metadata": {},
   "source": [
    "## 3) Inspecting the Embeddings\n",
    "\n",
    "We look at the recommendations of the system using the dot product and cosine similarity which are two different similarity measures. We create a nearest neighbours function to recommend similar artists."
   ]
  },
  {
   "cell_type": "code",
   "execution_count": 18,
   "id": "1cf61d42",
   "metadata": {},
   "outputs": [],
   "source": [
    "DOT = 'dot'\n",
    "COSINE = 'cosine'\n",
    "def compute_scores(query_embedding, item_embeddings, measure=DOT):\n",
    "\n",
    "    u = query_embedding\n",
    "    V = item_embeddings\n",
    "    if measure == COSINE:\n",
    "        V = V / np.linalg.norm(V, axis=1, keepdims=True)\n",
    "        u = u / np.linalg.norm(u)\n",
    "    scores = u.dot(V.T)\n",
    "    return scores"
   ]
  },
  {
   "cell_type": "code",
   "execution_count": 19,
   "id": "d860980a",
   "metadata": {},
   "outputs": [],
   "source": [
    "def artist_neighbors(model, title_substring, measure=DOT, k=6):\n",
    "  ids =  artists[artists['name'].str.contains(title_substring)].index.values\n",
    "  titles = artists.iloc[ids]['name'].values\n",
    "  if len(titles) == 0:\n",
    "    raise ValueError(\"Found no artists with title %s\" % title_substring)\n",
    "  print(\"Nearest neighbors of : %s.\" % titles[0])\n",
    "  if len(titles) > 1:\n",
    "    print(\"[Found more than one matching artist. Other candidates: {}]\".format(\n",
    "        \", \".join(titles[1:])))\n",
    "  artistID = ids[0]\n",
    "  scores = compute_scores(\n",
    "      model.embeddings[\"artistID\"][artistID], model.embeddings[\"artistID\"],\n",
    "      measure)\n",
    "  score_key = measure + ' score'\n",
    "  df = pd.DataFrame({\n",
    "      score_key: list(scores),\n",
    "      'names': artists['name']\n",
    "  })\n",
    "  display.display(df.sort_values([score_key], ascending=False).head(k))"
   ]
  },
  {
   "cell_type": "markdown",
   "id": "0fcd2987",
   "metadata": {},
   "source": [
    "### Testing\n",
    "\n",
    "We input an artist to see what recommendations our system returns to us"
   ]
  },
  {
   "cell_type": "code",
   "execution_count": 20,
   "id": "464f9aa8",
   "metadata": {
    "scrolled": false
   },
   "outputs": [
    {
     "name": "stdout",
     "output_type": "stream",
     "text": [
      "Nearest neighbors of : Johnny Cash.\n",
      "[Found more than one matching artist. Other candidates: Johnny Cash & Willie Nelson]\n"
     ]
    },
    {
     "data": {
      "text/html": [
       "<div>\n",
       "<style scoped>\n",
       "    .dataframe tbody tr th:only-of-type {\n",
       "        vertical-align: middle;\n",
       "    }\n",
       "\n",
       "    .dataframe tbody tr th {\n",
       "        vertical-align: top;\n",
       "    }\n",
       "\n",
       "    .dataframe thead th {\n",
       "        text-align: right;\n",
       "    }\n",
       "</style>\n",
       "<table border=\"1\" class=\"dataframe\">\n",
       "  <thead>\n",
       "    <tr style=\"text-align: right;\">\n",
       "      <th></th>\n",
       "      <th>dot score</th>\n",
       "      <th>names</th>\n",
       "    </tr>\n",
       "  </thead>\n",
       "  <tbody>\n",
       "    <tr>\n",
       "      <th>7371</th>\n",
       "      <td>3.564784</td>\n",
       "      <td>Yatu</td>\n",
       "    </tr>\n",
       "    <tr>\n",
       "      <th>4237</th>\n",
       "      <td>3.213859</td>\n",
       "      <td>Galneryus</td>\n",
       "    </tr>\n",
       "    <tr>\n",
       "      <th>2350</th>\n",
       "      <td>3.034864</td>\n",
       "      <td>Audrey Horne</td>\n",
       "    </tr>\n",
       "    <tr>\n",
       "      <th>14097</th>\n",
       "      <td>2.985254</td>\n",
       "      <td>Gabriel Ananda</td>\n",
       "    </tr>\n",
       "    <tr>\n",
       "      <th>7087</th>\n",
       "      <td>2.962192</td>\n",
       "      <td>Stray Cats</td>\n",
       "    </tr>\n",
       "    <tr>\n",
       "      <th>9062</th>\n",
       "      <td>2.926044</td>\n",
       "      <td>Billy Murray</td>\n",
       "    </tr>\n",
       "  </tbody>\n",
       "</table>\n",
       "</div>"
      ],
      "text/plain": [
       "       dot score           names\n",
       "7371    3.564784            Yatu\n",
       "4237    3.213859       Galneryus\n",
       "2350    3.034864    Audrey Horne\n",
       "14097   2.985254  Gabriel Ananda\n",
       "7087    2.962192      Stray Cats\n",
       "9062    2.926044    Billy Murray"
      ]
     },
     "metadata": {},
     "output_type": "display_data"
    },
    {
     "name": "stdout",
     "output_type": "stream",
     "text": [
      "Nearest neighbors of : Johnny Cash.\n",
      "[Found more than one matching artist. Other candidates: Johnny Cash & Willie Nelson]\n"
     ]
    },
    {
     "data": {
      "text/html": [
       "<div>\n",
       "<style scoped>\n",
       "    .dataframe tbody tr th:only-of-type {\n",
       "        vertical-align: middle;\n",
       "    }\n",
       "\n",
       "    .dataframe tbody tr th {\n",
       "        vertical-align: top;\n",
       "    }\n",
       "\n",
       "    .dataframe thead th {\n",
       "        text-align: right;\n",
       "    }\n",
       "</style>\n",
       "<table border=\"1\" class=\"dataframe\">\n",
       "  <thead>\n",
       "    <tr style=\"text-align: right;\">\n",
       "      <th></th>\n",
       "      <th>cosine score</th>\n",
       "      <th>names</th>\n",
       "    </tr>\n",
       "  </thead>\n",
       "  <tbody>\n",
       "    <tr>\n",
       "      <th>712</th>\n",
       "      <td>1.000000</td>\n",
       "      <td>Johnny Cash</td>\n",
       "    </tr>\n",
       "    <tr>\n",
       "      <th>4047</th>\n",
       "      <td>0.646658</td>\n",
       "      <td>Smokie</td>\n",
       "    </tr>\n",
       "    <tr>\n",
       "      <th>7087</th>\n",
       "      <td>0.630746</td>\n",
       "      <td>Stray Cats</td>\n",
       "    </tr>\n",
       "    <tr>\n",
       "      <th>1819</th>\n",
       "      <td>0.624069</td>\n",
       "      <td>Chaka Khan</td>\n",
       "    </tr>\n",
       "    <tr>\n",
       "      <th>7371</th>\n",
       "      <td>0.615773</td>\n",
       "      <td>Yatu</td>\n",
       "    </tr>\n",
       "    <tr>\n",
       "      <th>2350</th>\n",
       "      <td>0.611446</td>\n",
       "      <td>Audrey Horne</td>\n",
       "    </tr>\n",
       "  </tbody>\n",
       "</table>\n",
       "</div>"
      ],
      "text/plain": [
       "      cosine score         names\n",
       "712       1.000000   Johnny Cash\n",
       "4047      0.646658        Smokie\n",
       "7087      0.630746    Stray Cats\n",
       "1819      0.624069    Chaka Khan\n",
       "7371      0.615773          Yatu\n",
       "2350      0.611446  Audrey Horne"
      ]
     },
     "metadata": {},
     "output_type": "display_data"
    }
   ],
   "source": [
    "artist_neighbors(model, \"Johnny Cash\", DOT)\n",
    "artist_neighbors(model, \"Johnny Cash\", COSINE)"
   ]
  },
  {
   "cell_type": "markdown",
   "id": "2f84c031",
   "metadata": {},
   "source": [
    "These results are interesting but it seems our system could be improved upon."
   ]
  },
  {
   "cell_type": "markdown",
   "id": "02720f77",
   "metadata": {},
   "source": [
    "### Model initialisation\n",
    "\n",
    "It seems the initialisation parameters may play a factor in the results of our system as artists with few ratings may have had their embeddings initialised with a high norm. We use regularisation to combat this by adjusting the value of ```init_stdev``` (previously at 0.5 now changed to 0.05)"
   ]
  },
  {
   "cell_type": "code",
   "execution_count": 21,
   "id": "260dc9af",
   "metadata": {},
   "outputs": [
    {
     "name": "stdout",
     "output_type": "stream",
     "text": [
      "\r",
      " iteration 0: train_error=0.000309, test_error=0.000294\r",
      " iteration 10: train_error=0.000308, test_error=0.000294"
     ]
    },
    {
     "name": "stdout",
     "output_type": "stream",
     "text": [
      "\r",
      " iteration 20: train_error=0.000308, test_error=0.000293\r",
      " iteration 30: train_error=0.000307, test_error=0.000293\r",
      " iteration 40: train_error=0.000307, test_error=0.000293"
     ]
    },
    {
     "name": "stdout",
     "output_type": "stream",
     "text": [
      "\r",
      " iteration 50: train_error=0.000306, test_error=0.000293\r",
      " iteration 60: train_error=0.000306, test_error=0.000292\r",
      " iteration 70: train_error=0.000305, test_error=0.000292"
     ]
    },
    {
     "name": "stdout",
     "output_type": "stream",
     "text": [
      "\r",
      " iteration 80: train_error=0.000305, test_error=0.000292\r",
      " iteration 90: train_error=0.000304, test_error=0.000291\r",
      " iteration 100: train_error=0.000304, test_error=0.000291"
     ]
    },
    {
     "name": "stdout",
     "output_type": "stream",
     "text": [
      "\r",
      " iteration 110: train_error=0.000303, test_error=0.000291\r",
      " iteration 120: train_error=0.000303, test_error=0.000291\r",
      " iteration 130: train_error=0.000302, test_error=0.000290"
     ]
    },
    {
     "name": "stdout",
     "output_type": "stream",
     "text": [
      "\r",
      " iteration 140: train_error=0.000302, test_error=0.000290\r",
      " iteration 150: train_error=0.000301, test_error=0.000290"
     ]
    },
    {
     "name": "stdout",
     "output_type": "stream",
     "text": [
      "\r",
      " iteration 160: train_error=0.000301, test_error=0.000290\r",
      " iteration 170: train_error=0.000300, test_error=0.000289\r",
      " iteration 180: train_error=0.000300, test_error=0.000289"
     ]
    },
    {
     "name": "stdout",
     "output_type": "stream",
     "text": [
      "\r",
      " iteration 190: train_error=0.000299, test_error=0.000289\r",
      " iteration 200: train_error=0.000299, test_error=0.000289\r",
      " iteration 210: train_error=0.000298, test_error=0.000288"
     ]
    },
    {
     "name": "stdout",
     "output_type": "stream",
     "text": [
      "\r",
      " iteration 220: train_error=0.000298, test_error=0.000288\r",
      " iteration 230: train_error=0.000297, test_error=0.000288\r",
      " iteration 240: train_error=0.000297, test_error=0.000288"
     ]
    },
    {
     "name": "stdout",
     "output_type": "stream",
     "text": [
      "\r",
      " iteration 250: train_error=0.000296, test_error=0.000287\r",
      " iteration 260: train_error=0.000296, test_error=0.000287\r",
      " iteration 270: train_error=0.000296, test_error=0.000287"
     ]
    },
    {
     "name": "stdout",
     "output_type": "stream",
     "text": [
      "\r",
      " iteration 280: train_error=0.000295, test_error=0.000287\r",
      " iteration 290: train_error=0.000295, test_error=0.000286\r",
      " iteration 300: train_error=0.000294, test_error=0.000286"
     ]
    },
    {
     "name": "stdout",
     "output_type": "stream",
     "text": [
      "\r",
      " iteration 310: train_error=0.000294, test_error=0.000286\r",
      " iteration 320: train_error=0.000293, test_error=0.000286\r",
      " iteration 330: train_error=0.000293, test_error=0.000285"
     ]
    },
    {
     "name": "stdout",
     "output_type": "stream",
     "text": [
      "\r",
      " iteration 340: train_error=0.000292, test_error=0.000285\r",
      " iteration 350: train_error=0.000292, test_error=0.000285\r",
      " iteration 360: train_error=0.000292, test_error=0.000285"
     ]
    },
    {
     "name": "stdout",
     "output_type": "stream",
     "text": [
      "\r",
      " iteration 370: train_error=0.000291, test_error=0.000284\r",
      " iteration 380: train_error=0.000291, test_error=0.000284"
     ]
    },
    {
     "name": "stdout",
     "output_type": "stream",
     "text": [
      "\r",
      " iteration 390: train_error=0.000290, test_error=0.000284\r",
      " iteration 400: train_error=0.000290, test_error=0.000284\r",
      " iteration 410: train_error=0.000289, test_error=0.000283"
     ]
    },
    {
     "name": "stdout",
     "output_type": "stream",
     "text": [
      "\r",
      " iteration 420: train_error=0.000289, test_error=0.000283\r",
      " iteration 430: train_error=0.000289, test_error=0.000283\r",
      " iteration 440: train_error=0.000288, test_error=0.000283"
     ]
    },
    {
     "name": "stdout",
     "output_type": "stream",
     "text": [
      "\r",
      " iteration 450: train_error=0.000288, test_error=0.000282\r",
      " iteration 460: train_error=0.000287, test_error=0.000282"
     ]
    },
    {
     "name": "stdout",
     "output_type": "stream",
     "text": [
      "\r",
      " iteration 470: train_error=0.000287, test_error=0.000282\r",
      " iteration 480: train_error=0.000286, test_error=0.000282"
     ]
    },
    {
     "name": "stdout",
     "output_type": "stream",
     "text": [
      "\r",
      " iteration 490: train_error=0.000286, test_error=0.000282\r",
      " iteration 500: train_error=0.000286, test_error=0.000281"
     ]
    },
    {
     "name": "stdout",
     "output_type": "stream",
     "text": [
      "\r",
      " iteration 510: train_error=0.000285, test_error=0.000281\r",
      " iteration 520: train_error=0.000285, test_error=0.000281\r",
      " iteration 530: train_error=0.000284, test_error=0.000281"
     ]
    },
    {
     "name": "stdout",
     "output_type": "stream",
     "text": [
      "\r",
      " iteration 540: train_error=0.000284, test_error=0.000280\r",
      " iteration 550: train_error=0.000284, test_error=0.000280\r",
      " iteration 560: train_error=0.000283, test_error=0.000280"
     ]
    },
    {
     "name": "stdout",
     "output_type": "stream",
     "text": [
      "\r",
      " iteration 570: train_error=0.000283, test_error=0.000280\r",
      " iteration 580: train_error=0.000282, test_error=0.000280\r",
      " iteration 590: train_error=0.000282, test_error=0.000279"
     ]
    },
    {
     "name": "stdout",
     "output_type": "stream",
     "text": [
      "\r",
      " iteration 600: train_error=0.000282, test_error=0.000279\r",
      " iteration 610: train_error=0.000281, test_error=0.000279\r",
      " iteration 620: train_error=0.000281, test_error=0.000279"
     ]
    },
    {
     "name": "stdout",
     "output_type": "stream",
     "text": [
      "\r",
      " iteration 630: train_error=0.000280, test_error=0.000278\r",
      " iteration 640: train_error=0.000280, test_error=0.000278\r",
      " iteration 650: train_error=0.000280, test_error=0.000278"
     ]
    },
    {
     "name": "stdout",
     "output_type": "stream",
     "text": [
      "\r",
      " iteration 660: train_error=0.000279, test_error=0.000278\r",
      " iteration 670: train_error=0.000279, test_error=0.000278\r",
      " iteration 680: train_error=0.000278, test_error=0.000277"
     ]
    },
    {
     "name": "stdout",
     "output_type": "stream",
     "text": [
      "\r",
      " iteration 690: train_error=0.000278, test_error=0.000277\r",
      " iteration 700: train_error=0.000278, test_error=0.000277\r",
      " iteration 710: train_error=0.000277, test_error=0.000277"
     ]
    },
    {
     "name": "stdout",
     "output_type": "stream",
     "text": [
      "\r",
      " iteration 720: train_error=0.000277, test_error=0.000277\r",
      " iteration 730: train_error=0.000276, test_error=0.000276\r",
      " iteration 740: train_error=0.000276, test_error=0.000276"
     ]
    },
    {
     "name": "stdout",
     "output_type": "stream",
     "text": [
      "\r",
      " iteration 750: train_error=0.000276, test_error=0.000276\r",
      " iteration 760: train_error=0.000275, test_error=0.000276\r",
      " iteration 770: train_error=0.000275, test_error=0.000275"
     ]
    },
    {
     "name": "stdout",
     "output_type": "stream",
     "text": [
      "\r",
      " iteration 780: train_error=0.000275, test_error=0.000275\r",
      " iteration 790: train_error=0.000274, test_error=0.000275\r",
      " iteration 800: train_error=0.000274, test_error=0.000275"
     ]
    },
    {
     "name": "stdout",
     "output_type": "stream",
     "text": [
      "\r",
      " iteration 810: train_error=0.000273, test_error=0.000275\r",
      " iteration 820: train_error=0.000273, test_error=0.000274\r",
      " iteration 830: train_error=0.000273, test_error=0.000274"
     ]
    },
    {
     "name": "stdout",
     "output_type": "stream",
     "text": [
      "\r",
      " iteration 840: train_error=0.000272, test_error=0.000274\r",
      " iteration 850: train_error=0.000272, test_error=0.000274\r",
      " iteration 860: train_error=0.000272, test_error=0.000274"
     ]
    },
    {
     "name": "stdout",
     "output_type": "stream",
     "text": [
      "\r",
      " iteration 870: train_error=0.000271, test_error=0.000274\r",
      " iteration 880: train_error=0.000271, test_error=0.000273\r",
      " iteration 890: train_error=0.000271, test_error=0.000273"
     ]
    },
    {
     "name": "stdout",
     "output_type": "stream",
     "text": [
      "\r",
      " iteration 900: train_error=0.000270, test_error=0.000273\r",
      " iteration 910: train_error=0.000270, test_error=0.000273\r",
      " iteration 920: train_error=0.000269, test_error=0.000273"
     ]
    },
    {
     "name": "stdout",
     "output_type": "stream",
     "text": [
      "\r",
      " iteration 930: train_error=0.000269, test_error=0.000272\r",
      " iteration 940: train_error=0.000269, test_error=0.000272\r",
      " iteration 950: train_error=0.000268, test_error=0.000272"
     ]
    },
    {
     "name": "stdout",
     "output_type": "stream",
     "text": [
      "\r",
      " iteration 960: train_error=0.000268, test_error=0.000272\r",
      " iteration 970: train_error=0.000268, test_error=0.000272\r",
      " iteration 980: train_error=0.000267, test_error=0.000271"
     ]
    },
    {
     "name": "stdout",
     "output_type": "stream",
     "text": [
      "\r",
      " iteration 990: train_error=0.000267, test_error=0.000271\r",
      " iteration 1000: train_error=0.000267, test_error=0.000271Nearest neighbors of : Johnny Cash.\n",
      "[Found more than one matching artist. Other candidates: Johnny Cash & Willie Nelson]\n"
     ]
    },
    {
     "data": {
      "text/html": [
       "<div>\n",
       "<style scoped>\n",
       "    .dataframe tbody tr th:only-of-type {\n",
       "        vertical-align: middle;\n",
       "    }\n",
       "\n",
       "    .dataframe tbody tr th {\n",
       "        vertical-align: top;\n",
       "    }\n",
       "\n",
       "    .dataframe thead th {\n",
       "        text-align: right;\n",
       "    }\n",
       "</style>\n",
       "<table border=\"1\" class=\"dataframe\">\n",
       "  <thead>\n",
       "    <tr style=\"text-align: right;\">\n",
       "      <th></th>\n",
       "      <th>dot score</th>\n",
       "      <th>names</th>\n",
       "    </tr>\n",
       "  </thead>\n",
       "  <tbody>\n",
       "    <tr>\n",
       "      <th>712</th>\n",
       "      <td>0.099054</td>\n",
       "      <td>Johnny Cash</td>\n",
       "    </tr>\n",
       "    <tr>\n",
       "      <th>9476</th>\n",
       "      <td>0.074225</td>\n",
       "      <td>J. Tillman</td>\n",
       "    </tr>\n",
       "    <tr>\n",
       "      <th>783</th>\n",
       "      <td>0.056667</td>\n",
       "      <td>Thalía</td>\n",
       "    </tr>\n",
       "    <tr>\n",
       "      <th>14760</th>\n",
       "      <td>0.056656</td>\n",
       "      <td>Kuolleet Kukat</td>\n",
       "    </tr>\n",
       "    <tr>\n",
       "      <th>14430</th>\n",
       "      <td>0.056206</td>\n",
       "      <td>bso</td>\n",
       "    </tr>\n",
       "    <tr>\n",
       "      <th>11049</th>\n",
       "      <td>0.055591</td>\n",
       "      <td>Peter Hammill</td>\n",
       "    </tr>\n",
       "  </tbody>\n",
       "</table>\n",
       "</div>"
      ],
      "text/plain": [
       "       dot score           names\n",
       "712     0.099054     Johnny Cash\n",
       "9476    0.074225      J. Tillman\n",
       "783     0.056667          Thalía\n",
       "14760   0.056656  Kuolleet Kukat\n",
       "14430   0.056206             bso\n",
       "11049   0.055591   Peter Hammill"
      ]
     },
     "metadata": {},
     "output_type": "display_data"
    },
    {
     "name": "stdout",
     "output_type": "stream",
     "text": [
      "Nearest neighbors of : Johnny Cash.\n",
      "[Found more than one matching artist. Other candidates: Johnny Cash & Willie Nelson]\n"
     ]
    },
    {
     "data": {
      "text/html": [
       "<div>\n",
       "<style scoped>\n",
       "    .dataframe tbody tr th:only-of-type {\n",
       "        vertical-align: middle;\n",
       "    }\n",
       "\n",
       "    .dataframe tbody tr th {\n",
       "        vertical-align: top;\n",
       "    }\n",
       "\n",
       "    .dataframe thead th {\n",
       "        text-align: right;\n",
       "    }\n",
       "</style>\n",
       "<table border=\"1\" class=\"dataframe\">\n",
       "  <thead>\n",
       "    <tr style=\"text-align: right;\">\n",
       "      <th></th>\n",
       "      <th>cosine score</th>\n",
       "      <th>names</th>\n",
       "    </tr>\n",
       "  </thead>\n",
       "  <tbody>\n",
       "    <tr>\n",
       "      <th>712</th>\n",
       "      <td>1.000000</td>\n",
       "      <td>Johnny Cash</td>\n",
       "    </tr>\n",
       "    <tr>\n",
       "      <th>9476</th>\n",
       "      <td>0.674250</td>\n",
       "      <td>J. Tillman</td>\n",
       "    </tr>\n",
       "    <tr>\n",
       "      <th>14430</th>\n",
       "      <td>0.623293</td>\n",
       "      <td>bso</td>\n",
       "    </tr>\n",
       "    <tr>\n",
       "      <th>2351</th>\n",
       "      <td>0.609271</td>\n",
       "      <td>Karnivool</td>\n",
       "    </tr>\n",
       "    <tr>\n",
       "      <th>1850</th>\n",
       "      <td>0.597485</td>\n",
       "      <td>Thousand Foot Krutch</td>\n",
       "    </tr>\n",
       "    <tr>\n",
       "      <th>16376</th>\n",
       "      <td>0.571668</td>\n",
       "      <td>The Boy Least Likely To</td>\n",
       "    </tr>\n",
       "  </tbody>\n",
       "</table>\n",
       "</div>"
      ],
      "text/plain": [
       "       cosine score                    names\n",
       "712        1.000000              Johnny Cash\n",
       "9476       0.674250               J. Tillman\n",
       "14430      0.623293                      bso\n",
       "2351       0.609271                Karnivool\n",
       "1850       0.597485     Thousand Foot Krutch\n",
       "16376      0.571668  The Boy Least Likely To"
      ]
     },
     "metadata": {},
     "output_type": "display_data"
    },
    {
     "data": {
      "image/png": "[encoded data removed]",
      "text/plain": [
       "<Figure size 1440x576 with 1 Axes>"
      ]
     },
     "metadata": {
      "filenames": {
       "image/png": "/Users/dockreg/ca4015_assignment_3/book/_build/jupyter_execute/Recommender_System_39_39.png"
      },
      "needs_background": "light"
     },
     "output_type": "display_data"
    }
   ],
   "source": [
    "# Solution\n",
    "model_lowinit = build_model(user_artists_norm, embedding_dim=30, init_stddev=0.05)\n",
    "model_lowinit.train(num_iterations=1000, learning_rate=10.)\n",
    "artist_neighbors(model_lowinit, \"Johnny Cash\", DOT)\n",
    "artist_neighbors(model_lowinit, \"Johnny Cash\", COSINE)\n",
    "#movie_embedding_norm([model, model_lowinit])"
   ]
  },
  {
   "cell_type": "markdown",
   "id": "d413918a",
   "metadata": {},
   "source": [
    "## 4) Regularization In Matrix Factorization\n",
    "\n",
    "In the code above, loss was defined as the mean squared error on the observed part of the rating matrix.  This can often cause issues when the model does not learn how to place the embeddings of irrelevant artists. This is called *folding*.\n",
    "\n",
    "We add some regularization terms to deal with this problem:\n",
    "- Regularization of the model parameters. This is a common regularization term on the embedding matrices, given by \n",
    "$$\n",
    "r(U, V) =  \\frac{1}{N} \\sum_i \\|U_i\\|^2 + \\frac{1}{M}\\sum_j \\|V_j\\|^2\n",
    "$$\n",
    "- A global prior that pushes the prediction of any pair towards zero, called the *gravity* term. This is given by \n",
    "$$\n",
    "g(U, V) = \\frac{1}{MN} \\sum_{i = 1}^N \\sum_{j = 1}^M \\langle U_i, V_j \\rangle^2\n",
    "$$\n",
    "\n",
    "Total loss can now be calculated as:\n",
    "$$\n",
    "\\frac{1}{|\\Omega|}\\sum_{(i, j) \\in \\Omega} (A_{ij} - \\langle U_i, V_j\\rangle)^2 + \\lambda _r r(U, V) + \\lambda_g g(U, V)\n",
    "$$"
   ]
  },
  {
   "cell_type": "code",
   "execution_count": 22,
   "id": "d510c4e3",
   "metadata": {},
   "outputs": [],
   "source": [
    "\n",
    "def gravity(U, V):\n",
    "  return 1. / (U.shape[0].value*V.shape[0].value) * tf.reduce_sum(\n",
    "      tf.matmul(U, U, transpose_a=True) * tf.matmul(V, V, transpose_a=True))\n",
    "\n",
    "def build_regularized_model(\n",
    "    ratings, embedding_dim=3, regularization_coeff=.1, gravity_coeff=1.,\n",
    "    init_stddev=0.1):\n",
    "  # Split the ratings DataFrame into train and test.\n",
    "  train_ratings, test_ratings = split_dataframe(ratings)\n",
    "  # SparseTensor representation of the train and test datasets.\n",
    "  A_train = build_rating_sparse_tensor(train_ratings)\n",
    "  A_test = build_rating_sparse_tensor(test_ratings)\n",
    "  U = tf.Variable(tf.random_normal(\n",
    "      [A_train.dense_shape[0], embedding_dim], stddev=init_stddev))\n",
    "  V = tf.Variable(tf.random_normal(\n",
    "      [A_train.dense_shape[1], embedding_dim], stddev=init_stddev))\n",
    "\n",
    "  error_train = sparse_mean_square_error(A_train, U, V)\n",
    "  error_test = sparse_mean_square_error(A_test, U, V)\n",
    "  gravity_loss = gravity_coeff * gravity(U, V)\n",
    "  regularization_loss = regularization_coeff * (\n",
    "      tf.reduce_sum(U*U)/U.shape[0].value + tf.reduce_sum(V*V)/V.shape[0].value)\n",
    "  total_loss = error_train + regularization_loss + gravity_loss\n",
    "  losses = {\n",
    "      'train_error_observed': error_train,\n",
    "      'test_error_observed': error_test,\n",
    "  }\n",
    "  loss_components = {\n",
    "      'observed_loss': error_train,\n",
    "      'regularization_loss': regularization_loss,\n",
    "      'gravity_loss': gravity_loss,\n",
    "  }\n",
    "  embeddings = {\"userId\": U, \"artistID\": V}\n",
    "\n",
    "  return CFModel(embeddings, total_loss, [losses, loss_components])"
   ]
  },
  {
   "cell_type": "markdown",
   "id": "ec9d8f97",
   "metadata": {},
   "source": [
    "We build the regularised model and observe the results"
   ]
  },
  {
   "cell_type": "code",
   "execution_count": 23,
   "id": "8d3e08dd",
   "metadata": {},
   "outputs": [
    {
     "name": "stdout",
     "output_type": "stream",
     "text": [
      "\r",
      " iteration 0: train_error_observed=0.000350, test_error_observed=0.000259, observed_loss=0.000350, regularization_loss=0.017577, gravity_loss=0.000221\r",
      " iteration 10: train_error_observed=0.000338, test_error_observed=0.000248, observed_loss=0.000338, regularization_loss=0.017152, gravity_loss=0.000210"
     ]
    },
    {
     "name": "stdout",
     "output_type": "stream",
     "text": [
      "\r",
      " iteration 20: train_error_observed=0.000327, test_error_observed=0.000238, observed_loss=0.000327, regularization_loss=0.016744, gravity_loss=0.000200\r",
      " iteration 30: train_error_observed=0.000317, test_error_observed=0.000228, observed_loss=0.000317, regularization_loss=0.016352, gravity_loss=0.000190"
     ]
    },
    {
     "name": "stdout",
     "output_type": "stream",
     "text": [
      "\r",
      " iteration 40: train_error_observed=0.000307, test_error_observed=0.000219, observed_loss=0.000307, regularization_loss=0.015976, gravity_loss=0.000181\r",
      " iteration 50: train_error_observed=0.000297, test_error_observed=0.000211, observed_loss=0.000297, regularization_loss=0.015614, gravity_loss=0.000173"
     ]
    },
    {
     "name": "stdout",
     "output_type": "stream",
     "text": [
      "\r",
      " iteration 60: train_error_observed=0.000288, test_error_observed=0.000202, observed_loss=0.000288, regularization_loss=0.015267, gravity_loss=0.000164\r",
      " iteration 70: train_error_observed=0.000280, test_error_observed=0.000194, observed_loss=0.000280, regularization_loss=0.014934, gravity_loss=0.000156"
     ]
    },
    {
     "name": "stdout",
     "output_type": "stream",
     "text": [
      "\r",
      " iteration 80: train_error_observed=0.000272, test_error_observed=0.000187, observed_loss=0.000272, regularization_loss=0.014614, gravity_loss=0.000149\r",
      " iteration 90: train_error_observed=0.000264, test_error_observed=0.000180, observed_loss=0.000264, regularization_loss=0.014306, gravity_loss=0.000142"
     ]
    },
    {
     "name": "stdout",
     "output_type": "stream",
     "text": [
      "\r",
      " iteration 100: train_error_observed=0.000257, test_error_observed=0.000173, observed_loss=0.000257, regularization_loss=0.014010, gravity_loss=0.000135\r",
      " iteration 110: train_error_observed=0.000251, test_error_observed=0.000167, observed_loss=0.000251, regularization_loss=0.013726, gravity_loss=0.000129"
     ]
    },
    {
     "name": "stdout",
     "output_type": "stream",
     "text": [
      "\r",
      " iteration 120: train_error_observed=0.000244, test_error_observed=0.000161, observed_loss=0.000244, regularization_loss=0.013453, gravity_loss=0.000122\r",
      " iteration 130: train_error_observed=0.000238, test_error_observed=0.000155, observed_loss=0.000238, regularization_loss=0.013190, gravity_loss=0.000117"
     ]
    },
    {
     "name": "stdout",
     "output_type": "stream",
     "text": [
      "\r",
      " iteration 140: train_error_observed=0.000232, test_error_observed=0.000149, observed_loss=0.000232, regularization_loss=0.012937, gravity_loss=0.000111\r",
      " iteration 150: train_error_observed=0.000227, test_error_observed=0.000144, observed_loss=0.000227, regularization_loss=0.012693, gravity_loss=0.000106"
     ]
    },
    {
     "name": "stdout",
     "output_type": "stream",
     "text": [
      "\r",
      " iteration 160: train_error_observed=0.000222, test_error_observed=0.000139, observed_loss=0.000222, regularization_loss=0.012459, gravity_loss=0.000101\r",
      " iteration 170: train_error_observed=0.000217, test_error_observed=0.000135, observed_loss=0.000217, regularization_loss=0.012234, gravity_loss=0.000096"
     ]
    },
    {
     "name": "stdout",
     "output_type": "stream",
     "text": [
      "\r",
      " iteration 180: train_error_observed=0.000212, test_error_observed=0.000130, observed_loss=0.000212, regularization_loss=0.012017, gravity_loss=0.000091\r",
      " iteration 190: train_error_observed=0.000208, test_error_observed=0.000126, observed_loss=0.000208, regularization_loss=0.011807, gravity_loss=0.000087"
     ]
    },
    {
     "name": "stdout",
     "output_type": "stream",
     "text": [
      "\r",
      " iteration 200: train_error_observed=0.000203, test_error_observed=0.000122, observed_loss=0.000203, regularization_loss=0.011606, gravity_loss=0.000083\r",
      " iteration 210: train_error_observed=0.000199, test_error_observed=0.000118, observed_loss=0.000199, regularization_loss=0.011412, gravity_loss=0.000079"
     ]
    },
    {
     "name": "stdout",
     "output_type": "stream",
     "text": [
      "\r",
      " iteration 220: train_error_observed=0.000195, test_error_observed=0.000114, observed_loss=0.000195, regularization_loss=0.011225, gravity_loss=0.000075\r",
      " iteration 230: train_error_observed=0.000192, test_error_observed=0.000111, observed_loss=0.000192, regularization_loss=0.011045, gravity_loss=0.000072"
     ]
    },
    {
     "name": "stdout",
     "output_type": "stream",
     "text": [
      "\r",
      " iteration 240: train_error_observed=0.000188, test_error_observed=0.000108, observed_loss=0.000188, regularization_loss=0.010871, gravity_loss=0.000068\r",
      " iteration 250: train_error_observed=0.000185, test_error_observed=0.000104, observed_loss=0.000185, regularization_loss=0.010704, gravity_loss=0.000065"
     ]
    },
    {
     "name": "stdout",
     "output_type": "stream",
     "text": [
      "\r",
      " iteration 260: train_error_observed=0.000182, test_error_observed=0.000101, observed_loss=0.000182, regularization_loss=0.010542, gravity_loss=0.000062\r",
      " iteration 270: train_error_observed=0.000179, test_error_observed=0.000099, observed_loss=0.000179, regularization_loss=0.010386, gravity_loss=0.000059"
     ]
    },
    {
     "name": "stdout",
     "output_type": "stream",
     "text": [
      "\r",
      " iteration 280: train_error_observed=0.000176, test_error_observed=0.000096, observed_loss=0.000176, regularization_loss=0.010235, gravity_loss=0.000056\r",
      " iteration 290: train_error_observed=0.000174, test_error_observed=0.000093, observed_loss=0.000174, regularization_loss=0.010090, gravity_loss=0.000053"
     ]
    },
    {
     "name": "stdout",
     "output_type": "stream",
     "text": [
      "\r",
      " iteration 300: train_error_observed=0.000171, test_error_observed=0.000091, observed_loss=0.000171, regularization_loss=0.009949, gravity_loss=0.000051\r",
      " iteration 310: train_error_observed=0.000169, test_error_observed=0.000089, observed_loss=0.000169, regularization_loss=0.009813, gravity_loss=0.000048"
     ]
    },
    {
     "name": "stdout",
     "output_type": "stream",
     "text": [
      "\r",
      " iteration 320: train_error_observed=0.000167, test_error_observed=0.000086, observed_loss=0.000167, regularization_loss=0.009682, gravity_loss=0.000046\r",
      " iteration 330: train_error_observed=0.000164, test_error_observed=0.000084, observed_loss=0.000164, regularization_loss=0.009555, gravity_loss=0.000044"
     ]
    },
    {
     "name": "stdout",
     "output_type": "stream",
     "text": [
      "\r",
      " iteration 340: train_error_observed=0.000162, test_error_observed=0.000082, observed_loss=0.000162, regularization_loss=0.009433, gravity_loss=0.000042\r",
      " iteration 350: train_error_observed=0.000160, test_error_observed=0.000080, observed_loss=0.000160, regularization_loss=0.009314, gravity_loss=0.000040"
     ]
    },
    {
     "name": "stdout",
     "output_type": "stream",
     "text": [
      "\r",
      " iteration 360: train_error_observed=0.000159, test_error_observed=0.000078, observed_loss=0.000159, regularization_loss=0.009199, gravity_loss=0.000038\r",
      " iteration 370: train_error_observed=0.000157, test_error_observed=0.000077, observed_loss=0.000157, regularization_loss=0.009088, gravity_loss=0.000036"
     ]
    },
    {
     "name": "stdout",
     "output_type": "stream",
     "text": [
      "\r",
      " iteration 380: train_error_observed=0.000155, test_error_observed=0.000075, observed_loss=0.000155, regularization_loss=0.008981, gravity_loss=0.000034\r",
      " iteration 390: train_error_observed=0.000153, test_error_observed=0.000074, observed_loss=0.000153, regularization_loss=0.008876, gravity_loss=0.000033"
     ]
    },
    {
     "name": "stdout",
     "output_type": "stream",
     "text": [
      "\r",
      " iteration 400: train_error_observed=0.000152, test_error_observed=0.000072, observed_loss=0.000152, regularization_loss=0.008775, gravity_loss=0.000031\r",
      " iteration 410: train_error_observed=0.000151, test_error_observed=0.000071, observed_loss=0.000151, regularization_loss=0.008677, gravity_loss=0.000030"
     ]
    },
    {
     "name": "stdout",
     "output_type": "stream",
     "text": [
      "\r",
      " iteration 420: train_error_observed=0.000149, test_error_observed=0.000069, observed_loss=0.000149, regularization_loss=0.008582, gravity_loss=0.000028\r",
      " iteration 430: train_error_observed=0.000148, test_error_observed=0.000068, observed_loss=0.000148, regularization_loss=0.008490, gravity_loss=0.000027"
     ]
    },
    {
     "name": "stdout",
     "output_type": "stream",
     "text": [
      "\r",
      " iteration 440: train_error_observed=0.000147, test_error_observed=0.000067, observed_loss=0.000147, regularization_loss=0.008401, gravity_loss=0.000026\r",
      " iteration 450: train_error_observed=0.000145, test_error_observed=0.000066, observed_loss=0.000145, regularization_loss=0.008314, gravity_loss=0.000025"
     ]
    },
    {
     "name": "stdout",
     "output_type": "stream",
     "text": [
      "\r",
      " iteration 460: train_error_observed=0.000144, test_error_observed=0.000064, observed_loss=0.000144, regularization_loss=0.008230, gravity_loss=0.000023\r",
      " iteration 470: train_error_observed=0.000143, test_error_observed=0.000063, observed_loss=0.000143, regularization_loss=0.008148, gravity_loss=0.000022"
     ]
    },
    {
     "name": "stdout",
     "output_type": "stream",
     "text": [
      "\r",
      " iteration 480: train_error_observed=0.000142, test_error_observed=0.000062, observed_loss=0.000142, regularization_loss=0.008068, gravity_loss=0.000021\r",
      " iteration 490: train_error_observed=0.000141, test_error_observed=0.000061, observed_loss=0.000141, regularization_loss=0.007991, gravity_loss=0.000020"
     ]
    },
    {
     "name": "stdout",
     "output_type": "stream",
     "text": [
      "\r",
      " iteration 500: train_error_observed=0.000140, test_error_observed=0.000061, observed_loss=0.000140, regularization_loss=0.007916, gravity_loss=0.000019\r",
      " iteration 510: train_error_observed=0.000140, test_error_observed=0.000060, observed_loss=0.000140, regularization_loss=0.007842, gravity_loss=0.000018"
     ]
    },
    {
     "name": "stdout",
     "output_type": "stream",
     "text": [
      "\r",
      " iteration 520: train_error_observed=0.000139, test_error_observed=0.000059, observed_loss=0.000139, regularization_loss=0.007771, gravity_loss=0.000017\r",
      " iteration 530: train_error_observed=0.000138, test_error_observed=0.000058, observed_loss=0.000138, regularization_loss=0.007702, gravity_loss=0.000017"
     ]
    },
    {
     "name": "stdout",
     "output_type": "stream",
     "text": [
      "\r",
      " iteration 540: train_error_observed=0.000137, test_error_observed=0.000057, observed_loss=0.000137, regularization_loss=0.007634, gravity_loss=0.000016\r",
      " iteration 550: train_error_observed=0.000136, test_error_observed=0.000057, observed_loss=0.000136, regularization_loss=0.007568, gravity_loss=0.000015"
     ]
    },
    {
     "name": "stdout",
     "output_type": "stream",
     "text": [
      "\r",
      " iteration 560: train_error_observed=0.000136, test_error_observed=0.000056, observed_loss=0.000136, regularization_loss=0.007504, gravity_loss=0.000014\r",
      " iteration 570: train_error_observed=0.000135, test_error_observed=0.000055, observed_loss=0.000135, regularization_loss=0.007441, gravity_loss=0.000014"
     ]
    },
    {
     "name": "stdout",
     "output_type": "stream",
     "text": [
      "\r",
      " iteration 580: train_error_observed=0.000135, test_error_observed=0.000055, observed_loss=0.000135, regularization_loss=0.007380, gravity_loss=0.000013\r",
      " iteration 590: train_error_observed=0.000134, test_error_observed=0.000054, observed_loss=0.000134, regularization_loss=0.007320, gravity_loss=0.000012"
     ]
    },
    {
     "name": "stdout",
     "output_type": "stream",
     "text": [
      "\r",
      " iteration 600: train_error_observed=0.000133, test_error_observed=0.000053, observed_loss=0.000133, regularization_loss=0.007262, gravity_loss=0.000012\r",
      " iteration 610: train_error_observed=0.000133, test_error_observed=0.000053, observed_loss=0.000133, regularization_loss=0.007205, gravity_loss=0.000011"
     ]
    },
    {
     "name": "stdout",
     "output_type": "stream",
     "text": [
      "\r",
      " iteration 620: train_error_observed=0.000132, test_error_observed=0.000052, observed_loss=0.000132, regularization_loss=0.007150, gravity_loss=0.000011\r",
      " iteration 630: train_error_observed=0.000132, test_error_observed=0.000052, observed_loss=0.000132, regularization_loss=0.007095, gravity_loss=0.000010"
     ]
    },
    {
     "name": "stdout",
     "output_type": "stream",
     "text": [
      "\r",
      " iteration 640: train_error_observed=0.000131, test_error_observed=0.000051, observed_loss=0.000131, regularization_loss=0.007042, gravity_loss=0.000010\r",
      " iteration 650: train_error_observed=0.000131, test_error_observed=0.000051, observed_loss=0.000131, regularization_loss=0.006990, gravity_loss=0.000009"
     ]
    },
    {
     "name": "stdout",
     "output_type": "stream",
     "text": [
      "\r",
      " iteration 660: train_error_observed=0.000131, test_error_observed=0.000051, observed_loss=0.000131, regularization_loss=0.006939, gravity_loss=0.000009\r",
      " iteration 670: train_error_observed=0.000130, test_error_observed=0.000050, observed_loss=0.000130, regularization_loss=0.006889, gravity_loss=0.000008"
     ]
    },
    {
     "name": "stdout",
     "output_type": "stream",
     "text": [
      "\r",
      " iteration 680: train_error_observed=0.000130, test_error_observed=0.000050, observed_loss=0.000130, regularization_loss=0.006840, gravity_loss=0.000008\r",
      " iteration 690: train_error_observed=0.000129, test_error_observed=0.000049, observed_loss=0.000129, regularization_loss=0.006792, gravity_loss=0.000008"
     ]
    },
    {
     "name": "stdout",
     "output_type": "stream",
     "text": [
      "\r",
      " iteration 700: train_error_observed=0.000129, test_error_observed=0.000049, observed_loss=0.000129, regularization_loss=0.006746, gravity_loss=0.000007\r",
      " iteration 710: train_error_observed=0.000129, test_error_observed=0.000049, observed_loss=0.000129, regularization_loss=0.006700, gravity_loss=0.000007"
     ]
    },
    {
     "name": "stdout",
     "output_type": "stream",
     "text": [
      "\r",
      " iteration 720: train_error_observed=0.000129, test_error_observed=0.000048, observed_loss=0.000129, regularization_loss=0.006654, gravity_loss=0.000007\r",
      " iteration 730: train_error_observed=0.000128, test_error_observed=0.000048, observed_loss=0.000128, regularization_loss=0.006610, gravity_loss=0.000006"
     ]
    },
    {
     "name": "stdout",
     "output_type": "stream",
     "text": [
      "\r",
      " iteration 740: train_error_observed=0.000128, test_error_observed=0.000048, observed_loss=0.000128, regularization_loss=0.006567, gravity_loss=0.000006\r",
      " iteration 750: train_error_observed=0.000128, test_error_observed=0.000048, observed_loss=0.000128, regularization_loss=0.006524, gravity_loss=0.000006"
     ]
    },
    {
     "name": "stdout",
     "output_type": "stream",
     "text": [
      "\r",
      " iteration 760: train_error_observed=0.000127, test_error_observed=0.000047, observed_loss=0.000127, regularization_loss=0.006482, gravity_loss=0.000005\r",
      " iteration 770: train_error_observed=0.000127, test_error_observed=0.000047, observed_loss=0.000127, regularization_loss=0.006441, gravity_loss=0.000005"
     ]
    },
    {
     "name": "stdout",
     "output_type": "stream",
     "text": [
      "\r",
      " iteration 780: train_error_observed=0.000127, test_error_observed=0.000047, observed_loss=0.000127, regularization_loss=0.006400, gravity_loss=0.000005\r",
      " iteration 790: train_error_observed=0.000127, test_error_observed=0.000047, observed_loss=0.000127, regularization_loss=0.006360, gravity_loss=0.000005"
     ]
    },
    {
     "name": "stdout",
     "output_type": "stream",
     "text": [
      "\r",
      " iteration 800: train_error_observed=0.000127, test_error_observed=0.000046, observed_loss=0.000127, regularization_loss=0.006321, gravity_loss=0.000005\r",
      " iteration 810: train_error_observed=0.000126, test_error_observed=0.000046, observed_loss=0.000126, regularization_loss=0.006282, gravity_loss=0.000004"
     ]
    },
    {
     "name": "stdout",
     "output_type": "stream",
     "text": [
      "\r",
      " iteration 820: train_error_observed=0.000126, test_error_observed=0.000046, observed_loss=0.000126, regularization_loss=0.006245, gravity_loss=0.000004\r",
      " iteration 830: train_error_observed=0.000126, test_error_observed=0.000046, observed_loss=0.000126, regularization_loss=0.006207, gravity_loss=0.000004"
     ]
    },
    {
     "name": "stdout",
     "output_type": "stream",
     "text": [
      "\r",
      " iteration 840: train_error_observed=0.000126, test_error_observed=0.000046, observed_loss=0.000126, regularization_loss=0.006170, gravity_loss=0.000004\r",
      " iteration 850: train_error_observed=0.000126, test_error_observed=0.000045, observed_loss=0.000126, regularization_loss=0.006134, gravity_loss=0.000004"
     ]
    },
    {
     "name": "stdout",
     "output_type": "stream",
     "text": [
      "\r",
      " iteration 860: train_error_observed=0.000126, test_error_observed=0.000045, observed_loss=0.000126, regularization_loss=0.006098, gravity_loss=0.000003\r",
      " iteration 870: train_error_observed=0.000125, test_error_observed=0.000045, observed_loss=0.000125, regularization_loss=0.006063, gravity_loss=0.000003"
     ]
    },
    {
     "name": "stdout",
     "output_type": "stream",
     "text": [
      "\r",
      " iteration 880: train_error_observed=0.000125, test_error_observed=0.000045, observed_loss=0.000125, regularization_loss=0.006028, gravity_loss=0.000003\r",
      " iteration 890: train_error_observed=0.000125, test_error_observed=0.000045, observed_loss=0.000125, regularization_loss=0.005994, gravity_loss=0.000003"
     ]
    },
    {
     "name": "stdout",
     "output_type": "stream",
     "text": [
      "\r",
      " iteration 900: train_error_observed=0.000125, test_error_observed=0.000045, observed_loss=0.000125, regularization_loss=0.005960, gravity_loss=0.000003\r",
      " iteration 910: train_error_observed=0.000125, test_error_observed=0.000045, observed_loss=0.000125, regularization_loss=0.005927, gravity_loss=0.000003"
     ]
    },
    {
     "name": "stdout",
     "output_type": "stream",
     "text": [
      "\r",
      " iteration 920: train_error_observed=0.000125, test_error_observed=0.000044, observed_loss=0.000125, regularization_loss=0.005894, gravity_loss=0.000003\r",
      " iteration 930: train_error_observed=0.000125, test_error_observed=0.000044, observed_loss=0.000125, regularization_loss=0.005861, gravity_loss=0.000002"
     ]
    },
    {
     "name": "stdout",
     "output_type": "stream",
     "text": [
      "\r",
      " iteration 940: train_error_observed=0.000125, test_error_observed=0.000044, observed_loss=0.000125, regularization_loss=0.005829, gravity_loss=0.000002\r",
      " iteration 950: train_error_observed=0.000125, test_error_observed=0.000044, observed_loss=0.000125, regularization_loss=0.005797, gravity_loss=0.000002"
     ]
    },
    {
     "name": "stdout",
     "output_type": "stream",
     "text": [
      "\r",
      " iteration 960: train_error_observed=0.000125, test_error_observed=0.000044, observed_loss=0.000125, regularization_loss=0.005766, gravity_loss=0.000002\r",
      " iteration 970: train_error_observed=0.000124, test_error_observed=0.000044, observed_loss=0.000124, regularization_loss=0.005735, gravity_loss=0.000002"
     ]
    },
    {
     "name": "stdout",
     "output_type": "stream",
     "text": [
      "\r",
      " iteration 980: train_error_observed=0.000124, test_error_observed=0.000044, observed_loss=0.000124, regularization_loss=0.005704, gravity_loss=0.000002\r",
      " iteration 990: train_error_observed=0.000124, test_error_observed=0.000044, observed_loss=0.000124, regularization_loss=0.005674, gravity_loss=0.000002"
     ]
    },
    {
     "name": "stdout",
     "output_type": "stream",
     "text": [
      "\r",
      " iteration 1000: train_error_observed=0.000124, test_error_observed=0.000044, observed_loss=0.000124, regularization_loss=0.005644, gravity_loss=0.000002\r",
      " iteration 1010: train_error_observed=0.000124, test_error_observed=0.000044, observed_loss=0.000124, regularization_loss=0.005614, gravity_loss=0.000002"
     ]
    },
    {
     "name": "stdout",
     "output_type": "stream",
     "text": [
      "\r",
      " iteration 1020: train_error_observed=0.000124, test_error_observed=0.000044, observed_loss=0.000124, regularization_loss=0.005585, gravity_loss=0.000002\r",
      " iteration 1030: train_error_observed=0.000124, test_error_observed=0.000043, observed_loss=0.000124, regularization_loss=0.005555, gravity_loss=0.000002"
     ]
    },
    {
     "name": "stdout",
     "output_type": "stream",
     "text": [
      "\r",
      " iteration 1040: train_error_observed=0.000124, test_error_observed=0.000043, observed_loss=0.000124, regularization_loss=0.005527, gravity_loss=0.000001\r",
      " iteration 1050: train_error_observed=0.000124, test_error_observed=0.000043, observed_loss=0.000124, regularization_loss=0.005498, gravity_loss=0.000001"
     ]
    },
    {
     "name": "stdout",
     "output_type": "stream",
     "text": [
      "\r",
      " iteration 1060: train_error_observed=0.000124, test_error_observed=0.000043, observed_loss=0.000124, regularization_loss=0.005470, gravity_loss=0.000001\r",
      " iteration 1070: train_error_observed=0.000124, test_error_observed=0.000043, observed_loss=0.000124, regularization_loss=0.005442, gravity_loss=0.000001"
     ]
    },
    {
     "name": "stdout",
     "output_type": "stream",
     "text": [
      "\r",
      " iteration 1080: train_error_observed=0.000124, test_error_observed=0.000043, observed_loss=0.000124, regularization_loss=0.005414, gravity_loss=0.000001\r",
      " iteration 1090: train_error_observed=0.000124, test_error_observed=0.000043, observed_loss=0.000124, regularization_loss=0.005387, gravity_loss=0.000001"
     ]
    },
    {
     "name": "stdout",
     "output_type": "stream",
     "text": [
      "\r",
      " iteration 1100: train_error_observed=0.000124, test_error_observed=0.000043, observed_loss=0.000124, regularization_loss=0.005360, gravity_loss=0.000001\r",
      " iteration 1110: train_error_observed=0.000124, test_error_observed=0.000043, observed_loss=0.000124, regularization_loss=0.005333, gravity_loss=0.000001"
     ]
    },
    {
     "name": "stdout",
     "output_type": "stream",
     "text": [
      "\r",
      " iteration 1120: train_error_observed=0.000124, test_error_observed=0.000043, observed_loss=0.000124, regularization_loss=0.005306, gravity_loss=0.000001\r",
      " iteration 1130: train_error_observed=0.000124, test_error_observed=0.000043, observed_loss=0.000124, regularization_loss=0.005280, gravity_loss=0.000001"
     ]
    },
    {
     "name": "stdout",
     "output_type": "stream",
     "text": [
      "\r",
      " iteration 1140: train_error_observed=0.000124, test_error_observed=0.000043, observed_loss=0.000124, regularization_loss=0.005253, gravity_loss=0.000001\r",
      " iteration 1150: train_error_observed=0.000124, test_error_observed=0.000043, observed_loss=0.000124, regularization_loss=0.005227, gravity_loss=0.000001"
     ]
    },
    {
     "name": "stdout",
     "output_type": "stream",
     "text": [
      "\r",
      " iteration 1160: train_error_observed=0.000124, test_error_observed=0.000043, observed_loss=0.000124, regularization_loss=0.005202, gravity_loss=0.000001\r",
      " iteration 1170: train_error_observed=0.000123, test_error_observed=0.000043, observed_loss=0.000123, regularization_loss=0.005176, gravity_loss=0.000001"
     ]
    },
    {
     "name": "stdout",
     "output_type": "stream",
     "text": [
      "\r",
      " iteration 1180: train_error_observed=0.000123, test_error_observed=0.000043, observed_loss=0.000123, regularization_loss=0.005151, gravity_loss=0.000001\r",
      " iteration 1190: train_error_observed=0.000123, test_error_observed=0.000043, observed_loss=0.000123, regularization_loss=0.005125, gravity_loss=0.000001"
     ]
    },
    {
     "name": "stdout",
     "output_type": "stream",
     "text": [
      "\r",
      " iteration 1200: train_error_observed=0.000123, test_error_observed=0.000043, observed_loss=0.000123, regularization_loss=0.005100, gravity_loss=0.000001\r",
      " iteration 1210: train_error_observed=0.000123, test_error_observed=0.000043, observed_loss=0.000123, regularization_loss=0.005076, gravity_loss=0.000001"
     ]
    },
    {
     "name": "stdout",
     "output_type": "stream",
     "text": [
      "\r",
      " iteration 1220: train_error_observed=0.000123, test_error_observed=0.000043, observed_loss=0.000123, regularization_loss=0.005051, gravity_loss=0.000001\r",
      " iteration 1230: train_error_observed=0.000123, test_error_observed=0.000043, observed_loss=0.000123, regularization_loss=0.005026, gravity_loss=0.000001"
     ]
    },
    {
     "name": "stdout",
     "output_type": "stream",
     "text": [
      "\r",
      " iteration 1240: train_error_observed=0.000123, test_error_observed=0.000043, observed_loss=0.000123, regularization_loss=0.005002, gravity_loss=0.000001\r",
      " iteration 1250: train_error_observed=0.000123, test_error_observed=0.000042, observed_loss=0.000123, regularization_loss=0.004978, gravity_loss=0.000001"
     ]
    },
    {
     "name": "stdout",
     "output_type": "stream",
     "text": [
      "\r",
      " iteration 1260: train_error_observed=0.000123, test_error_observed=0.000042, observed_loss=0.000123, regularization_loss=0.004954, gravity_loss=0.000001\r",
      " iteration 1270: train_error_observed=0.000123, test_error_observed=0.000042, observed_loss=0.000123, regularization_loss=0.004930, gravity_loss=0.000000"
     ]
    },
    {
     "name": "stdout",
     "output_type": "stream",
     "text": [
      "\r",
      " iteration 1280: train_error_observed=0.000123, test_error_observed=0.000042, observed_loss=0.000123, regularization_loss=0.004907, gravity_loss=0.000000\r",
      " iteration 1290: train_error_observed=0.000123, test_error_observed=0.000042, observed_loss=0.000123, regularization_loss=0.004883, gravity_loss=0.000000"
     ]
    },
    {
     "name": "stdout",
     "output_type": "stream",
     "text": [
      "\r",
      " iteration 1300: train_error_observed=0.000123, test_error_observed=0.000042, observed_loss=0.000123, regularization_loss=0.004860, gravity_loss=0.000000\r",
      " iteration 1310: train_error_observed=0.000123, test_error_observed=0.000042, observed_loss=0.000123, regularization_loss=0.004837, gravity_loss=0.000000"
     ]
    },
    {
     "name": "stdout",
     "output_type": "stream",
     "text": [
      "\r",
      " iteration 1320: train_error_observed=0.000123, test_error_observed=0.000042, observed_loss=0.000123, regularization_loss=0.004814, gravity_loss=0.000000\r",
      " iteration 1330: train_error_observed=0.000123, test_error_observed=0.000042, observed_loss=0.000123, regularization_loss=0.004791, gravity_loss=0.000000"
     ]
    },
    {
     "name": "stdout",
     "output_type": "stream",
     "text": [
      "\r",
      " iteration 1340: train_error_observed=0.000123, test_error_observed=0.000042, observed_loss=0.000123, regularization_loss=0.004769, gravity_loss=0.000000\r",
      " iteration 1350: train_error_observed=0.000123, test_error_observed=0.000042, observed_loss=0.000123, regularization_loss=0.004746, gravity_loss=0.000000"
     ]
    },
    {
     "name": "stdout",
     "output_type": "stream",
     "text": [
      "\r",
      " iteration 1360: train_error_observed=0.000123, test_error_observed=0.000042, observed_loss=0.000123, regularization_loss=0.004724, gravity_loss=0.000000\r",
      " iteration 1370: train_error_observed=0.000123, test_error_observed=0.000042, observed_loss=0.000123, regularization_loss=0.004701, gravity_loss=0.000000"
     ]
    },
    {
     "name": "stdout",
     "output_type": "stream",
     "text": [
      "\r",
      " iteration 1380: train_error_observed=0.000123, test_error_observed=0.000042, observed_loss=0.000123, regularization_loss=0.004679, gravity_loss=0.000000\r",
      " iteration 1390: train_error_observed=0.000123, test_error_observed=0.000042, observed_loss=0.000123, regularization_loss=0.004657, gravity_loss=0.000000"
     ]
    },
    {
     "name": "stdout",
     "output_type": "stream",
     "text": [
      "\r",
      " iteration 1400: train_error_observed=0.000123, test_error_observed=0.000042, observed_loss=0.000123, regularization_loss=0.004636, gravity_loss=0.000000\r",
      " iteration 1410: train_error_observed=0.000123, test_error_observed=0.000042, observed_loss=0.000123, regularization_loss=0.004614, gravity_loss=0.000000"
     ]
    },
    {
     "name": "stdout",
     "output_type": "stream",
     "text": [
      "\r",
      " iteration 1420: train_error_observed=0.000123, test_error_observed=0.000042, observed_loss=0.000123, regularization_loss=0.004592, gravity_loss=0.000000\r",
      " iteration 1430: train_error_observed=0.000123, test_error_observed=0.000042, observed_loss=0.000123, regularization_loss=0.004571, gravity_loss=0.000000"
     ]
    },
    {
     "name": "stdout",
     "output_type": "stream",
     "text": [
      "\r",
      " iteration 1440: train_error_observed=0.000123, test_error_observed=0.000042, observed_loss=0.000123, regularization_loss=0.004549, gravity_loss=0.000000\r",
      " iteration 1450: train_error_observed=0.000123, test_error_observed=0.000042, observed_loss=0.000123, regularization_loss=0.004528, gravity_loss=0.000000"
     ]
    },
    {
     "name": "stdout",
     "output_type": "stream",
     "text": [
      "\r",
      " iteration 1460: train_error_observed=0.000123, test_error_observed=0.000042, observed_loss=0.000123, regularization_loss=0.004507, gravity_loss=0.000000\r",
      " iteration 1470: train_error_observed=0.000123, test_error_observed=0.000042, observed_loss=0.000123, regularization_loss=0.004486, gravity_loss=0.000000"
     ]
    },
    {
     "name": "stdout",
     "output_type": "stream",
     "text": [
      "\r",
      " iteration 1480: train_error_observed=0.000123, test_error_observed=0.000042, observed_loss=0.000123, regularization_loss=0.004465, gravity_loss=0.000000\r",
      " iteration 1490: train_error_observed=0.000123, test_error_observed=0.000042, observed_loss=0.000123, regularization_loss=0.004445, gravity_loss=0.000000"
     ]
    },
    {
     "name": "stdout",
     "output_type": "stream",
     "text": [
      "\r",
      " iteration 1500: train_error_observed=0.000123, test_error_observed=0.000042, observed_loss=0.000123, regularization_loss=0.004424, gravity_loss=0.000000\r",
      " iteration 1510: train_error_observed=0.000123, test_error_observed=0.000042, observed_loss=0.000123, regularization_loss=0.004404, gravity_loss=0.000000"
     ]
    },
    {
     "name": "stdout",
     "output_type": "stream",
     "text": [
      "\r",
      " iteration 1520: train_error_observed=0.000123, test_error_observed=0.000042, observed_loss=0.000123, regularization_loss=0.004383, gravity_loss=0.000000\r",
      " iteration 1530: train_error_observed=0.000123, test_error_observed=0.000042, observed_loss=0.000123, regularization_loss=0.004363, gravity_loss=0.000000"
     ]
    },
    {
     "name": "stdout",
     "output_type": "stream",
     "text": [
      "\r",
      " iteration 1540: train_error_observed=0.000123, test_error_observed=0.000042, observed_loss=0.000123, regularization_loss=0.004343, gravity_loss=0.000000\r",
      " iteration 1550: train_error_observed=0.000123, test_error_observed=0.000042, observed_loss=0.000123, regularization_loss=0.004323, gravity_loss=0.000000"
     ]
    },
    {
     "name": "stdout",
     "output_type": "stream",
     "text": [
      "\r",
      " iteration 1560: train_error_observed=0.000123, test_error_observed=0.000042, observed_loss=0.000123, regularization_loss=0.004303, gravity_loss=0.000000\r",
      " iteration 1570: train_error_observed=0.000123, test_error_observed=0.000042, observed_loss=0.000123, regularization_loss=0.004283, gravity_loss=0.000000"
     ]
    },
    {
     "name": "stdout",
     "output_type": "stream",
     "text": [
      "\r",
      " iteration 1580: train_error_observed=0.000123, test_error_observed=0.000042, observed_loss=0.000123, regularization_loss=0.004263, gravity_loss=0.000000\r",
      " iteration 1590: train_error_observed=0.000123, test_error_observed=0.000042, observed_loss=0.000123, regularization_loss=0.004244, gravity_loss=0.000000"
     ]
    },
    {
     "name": "stdout",
     "output_type": "stream",
     "text": [
      "\r",
      " iteration 1600: train_error_observed=0.000123, test_error_observed=0.000042, observed_loss=0.000123, regularization_loss=0.004224, gravity_loss=0.000000\r",
      " iteration 1610: train_error_observed=0.000123, test_error_observed=0.000042, observed_loss=0.000123, regularization_loss=0.004205, gravity_loss=0.000000"
     ]
    },
    {
     "name": "stdout",
     "output_type": "stream",
     "text": [
      "\r",
      " iteration 1620: train_error_observed=0.000123, test_error_observed=0.000042, observed_loss=0.000123, regularization_loss=0.004185, gravity_loss=0.000000\r",
      " iteration 1630: train_error_observed=0.000123, test_error_observed=0.000042, observed_loss=0.000123, regularization_loss=0.004166, gravity_loss=0.000000"
     ]
    },
    {
     "name": "stdout",
     "output_type": "stream",
     "text": [
      "\r",
      " iteration 1640: train_error_observed=0.000123, test_error_observed=0.000042, observed_loss=0.000123, regularization_loss=0.004147, gravity_loss=0.000000\r",
      " iteration 1650: train_error_observed=0.000123, test_error_observed=0.000042, observed_loss=0.000123, regularization_loss=0.004128, gravity_loss=0.000000"
     ]
    },
    {
     "name": "stdout",
     "output_type": "stream",
     "text": [
      "\r",
      " iteration 1660: train_error_observed=0.000123, test_error_observed=0.000042, observed_loss=0.000123, regularization_loss=0.004109, gravity_loss=0.000000\r",
      " iteration 1670: train_error_observed=0.000123, test_error_observed=0.000042, observed_loss=0.000123, regularization_loss=0.004090, gravity_loss=0.000000"
     ]
    },
    {
     "name": "stdout",
     "output_type": "stream",
     "text": [
      "\r",
      " iteration 1680: train_error_observed=0.000123, test_error_observed=0.000042, observed_loss=0.000123, regularization_loss=0.004072, gravity_loss=0.000000\r",
      " iteration 1690: train_error_observed=0.000123, test_error_observed=0.000042, observed_loss=0.000123, regularization_loss=0.004053, gravity_loss=0.000000"
     ]
    },
    {
     "name": "stdout",
     "output_type": "stream",
     "text": [
      "\r",
      " iteration 1700: train_error_observed=0.000123, test_error_observed=0.000042, observed_loss=0.000123, regularization_loss=0.004034, gravity_loss=0.000000\r",
      " iteration 1710: train_error_observed=0.000123, test_error_observed=0.000042, observed_loss=0.000123, regularization_loss=0.004016, gravity_loss=0.000000"
     ]
    },
    {
     "name": "stdout",
     "output_type": "stream",
     "text": [
      "\r",
      " iteration 1720: train_error_observed=0.000123, test_error_observed=0.000042, observed_loss=0.000123, regularization_loss=0.003998, gravity_loss=0.000000\r",
      " iteration 1730: train_error_observed=0.000123, test_error_observed=0.000042, observed_loss=0.000123, regularization_loss=0.003979, gravity_loss=0.000000"
     ]
    },
    {
     "name": "stdout",
     "output_type": "stream",
     "text": [
      "\r",
      " iteration 1740: train_error_observed=0.000123, test_error_observed=0.000042, observed_loss=0.000123, regularization_loss=0.003961, gravity_loss=0.000000\r",
      " iteration 1750: train_error_observed=0.000123, test_error_observed=0.000042, observed_loss=0.000123, regularization_loss=0.003943, gravity_loss=0.000000"
     ]
    },
    {
     "name": "stdout",
     "output_type": "stream",
     "text": [
      "\r",
      " iteration 1760: train_error_observed=0.000123, test_error_observed=0.000042, observed_loss=0.000123, regularization_loss=0.003925, gravity_loss=0.000000\r",
      " iteration 1770: train_error_observed=0.000123, test_error_observed=0.000042, observed_loss=0.000123, regularization_loss=0.003907, gravity_loss=0.000000"
     ]
    },
    {
     "name": "stdout",
     "output_type": "stream",
     "text": [
      "\r",
      " iteration 1780: train_error_observed=0.000123, test_error_observed=0.000042, observed_loss=0.000123, regularization_loss=0.003889, gravity_loss=0.000000"
     ]
    },
    {
     "name": "stdout",
     "output_type": "stream",
     "text": [
      "\r",
      " iteration 1790: train_error_observed=0.000123, test_error_observed=0.000042, observed_loss=0.000123, regularization_loss=0.003872, gravity_loss=0.000000\r",
      " iteration 1800: train_error_observed=0.000123, test_error_observed=0.000042, observed_loss=0.000123, regularization_loss=0.003854, gravity_loss=0.000000"
     ]
    },
    {
     "name": "stdout",
     "output_type": "stream",
     "text": [
      "\r",
      " iteration 1810: train_error_observed=0.000123, test_error_observed=0.000042, observed_loss=0.000123, regularization_loss=0.003836, gravity_loss=0.000000\r",
      " iteration 1820: train_error_observed=0.000123, test_error_observed=0.000042, observed_loss=0.000123, regularization_loss=0.003819, gravity_loss=0.000000"
     ]
    },
    {
     "name": "stdout",
     "output_type": "stream",
     "text": [
      "\r",
      " iteration 1830: train_error_observed=0.000123, test_error_observed=0.000042, observed_loss=0.000123, regularization_loss=0.003801, gravity_loss=0.000000\r",
      " iteration 1840: train_error_observed=0.000123, test_error_observed=0.000042, observed_loss=0.000123, regularization_loss=0.003784, gravity_loss=0.000000"
     ]
    },
    {
     "name": "stdout",
     "output_type": "stream",
     "text": [
      "\r",
      " iteration 1850: train_error_observed=0.000123, test_error_observed=0.000042, observed_loss=0.000123, regularization_loss=0.003767, gravity_loss=0.000000\r",
      " iteration 1860: train_error_observed=0.000123, test_error_observed=0.000042, observed_loss=0.000123, regularization_loss=0.003750, gravity_loss=0.000000"
     ]
    },
    {
     "name": "stdout",
     "output_type": "stream",
     "text": [
      "\r",
      " iteration 1870: train_error_observed=0.000123, test_error_observed=0.000042, observed_loss=0.000123, regularization_loss=0.003733, gravity_loss=0.000000\r",
      " iteration 1880: train_error_observed=0.000123, test_error_observed=0.000042, observed_loss=0.000123, regularization_loss=0.003716, gravity_loss=0.000000"
     ]
    },
    {
     "name": "stdout",
     "output_type": "stream",
     "text": [
      "\r",
      " iteration 1890: train_error_observed=0.000123, test_error_observed=0.000042, observed_loss=0.000123, regularization_loss=0.003699, gravity_loss=0.000000\r",
      " iteration 1900: train_error_observed=0.000123, test_error_observed=0.000042, observed_loss=0.000123, regularization_loss=0.003682, gravity_loss=0.000000"
     ]
    },
    {
     "name": "stdout",
     "output_type": "stream",
     "text": [
      "\r",
      " iteration 1910: train_error_observed=0.000123, test_error_observed=0.000042, observed_loss=0.000123, regularization_loss=0.003665, gravity_loss=0.000000\r",
      " iteration 1920: train_error_observed=0.000123, test_error_observed=0.000042, observed_loss=0.000123, regularization_loss=0.003649, gravity_loss=0.000000"
     ]
    },
    {
     "name": "stdout",
     "output_type": "stream",
     "text": [
      "\r",
      " iteration 1930: train_error_observed=0.000123, test_error_observed=0.000042, observed_loss=0.000123, regularization_loss=0.003632, gravity_loss=0.000000\r",
      " iteration 1940: train_error_observed=0.000123, test_error_observed=0.000042, observed_loss=0.000123, regularization_loss=0.003615, gravity_loss=0.000000"
     ]
    },
    {
     "name": "stdout",
     "output_type": "stream",
     "text": [
      "\r",
      " iteration 1950: train_error_observed=0.000123, test_error_observed=0.000042, observed_loss=0.000123, regularization_loss=0.003599, gravity_loss=0.000000\r",
      " iteration 1960: train_error_observed=0.000123, test_error_observed=0.000042, observed_loss=0.000123, regularization_loss=0.003583, gravity_loss=0.000000"
     ]
    },
    {
     "name": "stdout",
     "output_type": "stream",
     "text": [
      "\r",
      " iteration 1970: train_error_observed=0.000123, test_error_observed=0.000042, observed_loss=0.000123, regularization_loss=0.003566, gravity_loss=0.000000\r",
      " iteration 1980: train_error_observed=0.000124, test_error_observed=0.000042, observed_loss=0.000124, regularization_loss=0.003550, gravity_loss=0.000000"
     ]
    },
    {
     "name": "stdout",
     "output_type": "stream",
     "text": [
      "\r",
      " iteration 1990: train_error_observed=0.000124, test_error_observed=0.000042, observed_loss=0.000124, regularization_loss=0.003534, gravity_loss=0.000000\r",
      " iteration 2000: train_error_observed=0.000124, test_error_observed=0.000042, observed_loss=0.000124, regularization_loss=0.003518, gravity_loss=0.000000"
     ]
    },
    {
     "data": {
      "text/plain": [
       "[{'train_error_observed': 0.00012351715, 'test_error_observed': 4.192949e-05},\n",
       " {'observed_loss': 0.00012351715,\n",
       "  'regularization_loss': 0.0035179877,\n",
       "  'gravity_loss': 2.743915e-08}]"
      ]
     },
     "execution_count": 23,
     "metadata": {},
     "output_type": "execute_result"
    },
    {
     "data": {
      "image/png": "[encoded data removed]",
      "text/plain": [
       "<Figure size 2160x576 with 2 Axes>"
      ]
     },
     "metadata": {
      "filenames": {
       "image/png": "/Users/dockreg/ca4015_assignment_3/book/_build/jupyter_execute/Recommender_System_43_102.png"
      },
      "needs_background": "light"
     },
     "output_type": "display_data"
    }
   ],
   "source": [
    "reg_model = build_regularized_model(\n",
    "    user_artists_norm, regularization_coeff=0.1, gravity_coeff=1.0, embedding_dim=35,\n",
    "    init_stddev=.05)\n",
    "reg_model.train(num_iterations=2000, learning_rate=20.)"
   ]
  },
  {
   "cell_type": "markdown",
   "id": "6d627c12",
   "metadata": {},
   "source": [
    "### Testing"
   ]
  },
  {
   "cell_type": "code",
   "execution_count": 24,
   "id": "e06b6b7e",
   "metadata": {
    "scrolled": false
   },
   "outputs": [
    {
     "name": "stdout",
     "output_type": "stream",
     "text": [
      "Nearest neighbors of : Johnny Cash.\n",
      "[Found more than one matching artist. Other candidates: Johnny Cash & Willie Nelson]\n"
     ]
    },
    {
     "data": {
      "text/html": [
       "<div>\n",
       "<style scoped>\n",
       "    .dataframe tbody tr th:only-of-type {\n",
       "        vertical-align: middle;\n",
       "    }\n",
       "\n",
       "    .dataframe tbody tr th {\n",
       "        vertical-align: top;\n",
       "    }\n",
       "\n",
       "    .dataframe thead th {\n",
       "        text-align: right;\n",
       "    }\n",
       "</style>\n",
       "<table border=\"1\" class=\"dataframe\">\n",
       "  <thead>\n",
       "    <tr style=\"text-align: right;\">\n",
       "      <th></th>\n",
       "      <th>dot score</th>\n",
       "      <th>names</th>\n",
       "    </tr>\n",
       "  </thead>\n",
       "  <tbody>\n",
       "    <tr>\n",
       "      <th>712</th>\n",
       "      <td>0.099054</td>\n",
       "      <td>Johnny Cash</td>\n",
       "    </tr>\n",
       "    <tr>\n",
       "      <th>9476</th>\n",
       "      <td>0.074225</td>\n",
       "      <td>J. Tillman</td>\n",
       "    </tr>\n",
       "    <tr>\n",
       "      <th>783</th>\n",
       "      <td>0.056667</td>\n",
       "      <td>Thalía</td>\n",
       "    </tr>\n",
       "    <tr>\n",
       "      <th>14760</th>\n",
       "      <td>0.056656</td>\n",
       "      <td>Kuolleet Kukat</td>\n",
       "    </tr>\n",
       "    <tr>\n",
       "      <th>14430</th>\n",
       "      <td>0.056206</td>\n",
       "      <td>bso</td>\n",
       "    </tr>\n",
       "    <tr>\n",
       "      <th>11049</th>\n",
       "      <td>0.055591</td>\n",
       "      <td>Peter Hammill</td>\n",
       "    </tr>\n",
       "  </tbody>\n",
       "</table>\n",
       "</div>"
      ],
      "text/plain": [
       "       dot score           names\n",
       "712     0.099054     Johnny Cash\n",
       "9476    0.074225      J. Tillman\n",
       "783     0.056667          Thalía\n",
       "14760   0.056656  Kuolleet Kukat\n",
       "14430   0.056206             bso\n",
       "11049   0.055591   Peter Hammill"
      ]
     },
     "metadata": {},
     "output_type": "display_data"
    },
    {
     "name": "stdout",
     "output_type": "stream",
     "text": [
      "Nearest neighbors of : Johnny Cash.\n",
      "[Found more than one matching artist. Other candidates: Johnny Cash & Willie Nelson]\n"
     ]
    },
    {
     "data": {
      "text/html": [
       "<div>\n",
       "<style scoped>\n",
       "    .dataframe tbody tr th:only-of-type {\n",
       "        vertical-align: middle;\n",
       "    }\n",
       "\n",
       "    .dataframe tbody tr th {\n",
       "        vertical-align: top;\n",
       "    }\n",
       "\n",
       "    .dataframe thead th {\n",
       "        text-align: right;\n",
       "    }\n",
       "</style>\n",
       "<table border=\"1\" class=\"dataframe\">\n",
       "  <thead>\n",
       "    <tr style=\"text-align: right;\">\n",
       "      <th></th>\n",
       "      <th>cosine score</th>\n",
       "      <th>names</th>\n",
       "    </tr>\n",
       "  </thead>\n",
       "  <tbody>\n",
       "    <tr>\n",
       "      <th>712</th>\n",
       "      <td>1.000000</td>\n",
       "      <td>Johnny Cash</td>\n",
       "    </tr>\n",
       "    <tr>\n",
       "      <th>9476</th>\n",
       "      <td>0.674250</td>\n",
       "      <td>J. Tillman</td>\n",
       "    </tr>\n",
       "    <tr>\n",
       "      <th>14430</th>\n",
       "      <td>0.623293</td>\n",
       "      <td>bso</td>\n",
       "    </tr>\n",
       "    <tr>\n",
       "      <th>2351</th>\n",
       "      <td>0.609271</td>\n",
       "      <td>Karnivool</td>\n",
       "    </tr>\n",
       "    <tr>\n",
       "      <th>1850</th>\n",
       "      <td>0.597485</td>\n",
       "      <td>Thousand Foot Krutch</td>\n",
       "    </tr>\n",
       "    <tr>\n",
       "      <th>16376</th>\n",
       "      <td>0.571668</td>\n",
       "      <td>The Boy Least Likely To</td>\n",
       "    </tr>\n",
       "  </tbody>\n",
       "</table>\n",
       "</div>"
      ],
      "text/plain": [
       "       cosine score                    names\n",
       "712        1.000000              Johnny Cash\n",
       "9476       0.674250               J. Tillman\n",
       "14430      0.623293                      bso\n",
       "2351       0.609271                Karnivool\n",
       "1850       0.597485     Thousand Foot Krutch\n",
       "16376      0.571668  The Boy Least Likely To"
      ]
     },
     "metadata": {},
     "output_type": "display_data"
    }
   ],
   "source": [
    "artist_neighbors(model_lowinit, \"Johnny Cash\", DOT)\n",
    "artist_neighbors(model_lowinit, \"Johnny Cash\", COSINE)"
   ]
  },
  {
   "cell_type": "markdown",
   "id": "97b93670",
   "metadata": {},
   "source": [
    "## Results"
   ]
  },
  {
   "cell_type": "markdown",
   "id": "1be33a9f",
   "metadata": {},
   "source": [
    "Our recommender system is fully functional and outputs artists based on similarity metrics to whatever artist the user enters. The system appears to have some issues as there are often useful recommendations alongside other, not so useful recommendations. The inner workings of the systems need some work before this would be deemed acceptable however as a starting point it is a useful recommender system to be further fine tuned."
   ]
  },
  {
   "cell_type": "markdown",
   "id": "a31e2883",
   "metadata": {},
   "source": [
    "# Novel Lyrics Display\n",
    "\n",
    "This section details the novel lyrics aspect of this system. A user can input a favourite artist and song and will be returned some classic lyrics from that artist on screen."
   ]
  },
  {
   "cell_type": "code",
   "execution_count": 25,
   "id": "6eb350a4",
   "metadata": {
    "collapsed": true
   },
   "outputs": [
    {
     "name": "stdout",
     "output_type": "stream",
     "text": [
      "Requirement already satisfied: lyricsgenius in /Users/dockreg/anaconda3/lib/python3.7/site-packages (3.0.1)\r\n",
      "Requirement already satisfied: beautifulsoup4>=4.6.0 in /Users/dockreg/anaconda3/lib/python3.7/site-packages (from lyricsgenius) (4.10.0)\r\n"
     ]
    },
    {
     "name": "stdout",
     "output_type": "stream",
     "text": [
      "Requirement already satisfied: requests>=2.20.0 in /Users/dockreg/anaconda3/lib/python3.7/site-packages (from lyricsgenius) (2.26.0)\r\n",
      "Requirement already satisfied: soupsieve>1.2 in /Users/dockreg/anaconda3/lib/python3.7/site-packages (from beautifulsoup4>=4.6.0->lyricsgenius) (2.2.1)\r\n",
      "Requirement already satisfied: urllib3<1.27,>=1.21.1 in /Users/dockreg/anaconda3/lib/python3.7/site-packages (from requests>=2.20.0->lyricsgenius) (1.26.6)\r\n",
      "Requirement already satisfied: certifi>=2017.4.17 in /Users/dockreg/anaconda3/lib/python3.7/site-packages (from requests>=2.20.0->lyricsgenius) (2021.10.8)\r\n",
      "Requirement already satisfied: charset-normalizer~=2.0.0 in /Users/dockreg/anaconda3/lib/python3.7/site-packages (from requests>=2.20.0->lyricsgenius) (2.0.4)\r\n",
      "Requirement already satisfied: idna<4,>=2.5 in /Users/dockreg/anaconda3/lib/python3.7/site-packages (from requests>=2.20.0->lyricsgenius) (3.2)\r\n"
     ]
    },
    {
     "name": "stdout",
     "output_type": "stream",
     "text": [
      "Note: you may need to restart the kernel to use updated packages.\n"
     ]
    }
   ],
   "source": [
    "pip install lyricsgenius"
   ]
  },
  {
   "cell_type": "code",
   "execution_count": 26,
   "id": "b2603105",
   "metadata": {},
   "outputs": [],
   "source": [
    "import os\n",
    "import json\n",
    "import time"
   ]
  },
  {
   "cell_type": "markdown",
   "id": "a4d6652b",
   "metadata": {},
   "source": [
    "Token has been removed below after successfully running the API call"
   ]
  },
  {
   "cell_type": "code",
   "execution_count": 27,
   "id": "eb25d7db",
   "metadata": {},
   "outputs": [],
   "source": [
    "token = 'xxxxxxxxxxxxxxxxxxxxxxxxxxx'"
   ]
  },
  {
   "cell_type": "code",
   "execution_count": 28,
   "id": "251c061e",
   "metadata": {},
   "outputs": [],
   "source": [
    "import lyricsgenius as lg\n",
    "genius = lg.Genius(token)"
   ]
  },
  {
   "cell_type": "code",
   "execution_count": 29,
   "id": "fce9b10b",
   "metadata": {},
   "outputs": [],
   "source": [
    "song_title = \"Walk the line\"\n",
    "artist_name = \"Johnny Cash\""
   ]
  },
  {
   "cell_type": "code",
   "execution_count": 30,
   "id": "84ac4d15",
   "metadata": {
    "scrolled": true
   },
   "outputs": [
    {
     "name": "stdout",
     "output_type": "stream",
     "text": [
      "Searching for \"Walk the line\" by Johnny Cash...\n"
     ]
    },
    {
     "name": "stdout",
     "output_type": "stream",
     "text": [
      "Done.\n"
     ]
    }
   ],
   "source": [
    "song = genius.search_song(title=song_title, artist=artist_name)"
   ]
  },
  {
   "cell_type": "code",
   "execution_count": 31,
   "id": "e167ddae",
   "metadata": {},
   "outputs": [],
   "source": [
    "lyrics = song.lyrics"
   ]
  },
  {
   "cell_type": "code",
   "execution_count": 32,
   "id": "40fcfcec",
   "metadata": {},
   "outputs": [],
   "source": [
    "l=lyrics.split('\\n')"
   ]
  },
  {
   "cell_type": "code",
   "execution_count": 33,
   "id": "722a5739",
   "metadata": {
    "scrolled": false
   },
   "outputs": [
    {
     "name": "stdout",
     "output_type": "stream",
     "text": [
      "[Verse 1]\n",
      "I keep a close watch on this heart of mine\n",
      "I keep my eyes wide open all the time\n",
      "I keep the ends out for the tie that binds\n",
      "Because you're mine, I walk the line\n",
      "\n",
      "[Verse 2]\n",
      "I find it very, very easy to be true\n",
      "I find myself alone when each day is through\n",
      "Yes, I'll admit that I'm a fool for you\n",
      "Because you're mine, I walk the line\n",
      "\n",
      "[Verse 3]\n",
      "As sure as night is dark and day is light\n",
      "I keep you on my mind both day and night\n",
      "And happiness I've known proves that it's right\n",
      "Because you're mine, I walk the line\n",
      "\n",
      "[Verse 4]\n",
      "You've got a way to keep me on your side\n",
      "You give me cause for love that I can't hide\n",
      "For you, I know I'd even try to turn the tide\n",
      "Because you're mine, I walk the line\n",
      "\n",
      "[Verse 1]\n",
      "I keep a close watch on this heart of mine\n",
      "I keep my eyes wide open all the time\n",
      "I keep the ends out for the tie that binds\n",
      "Because you're mine, I walk the line22EmbedShare URLCopyEmbedCopy\n"
     ]
    }
   ],
   "source": [
    "for line in l:\n",
    "    print(line)\n",
    "    \n",
    "    # uncomment for interactive notebook running\n",
    "    #time.sleep(2)"
   ]
  },
  {
   "cell_type": "markdown",
   "id": "7eb31086",
   "metadata": {},
   "source": [
    "<img src=\"https://www.billboard.com/wp-content/uploads/media/johnny-cash-bw-portrait-klm-billboard-1548.jpg\" width=750 height=750 />"
   ]
  }
 ],
 "metadata": {
  "kernelspec": {
   "display_name": "Python 3 (ipykernel)",
   "language": "python",
   "name": "python3"
  },
  "language_info": {
   "codemirror_mode": {
    "name": "ipython",
    "version": 3
   },
   "file_extension": ".py",
   "mimetype": "text/x-python",
   "name": "python",
   "nbconvert_exporter": "python",
   "pygments_lexer": "ipython3",
   "version": "3.7.3"
  }
 },
 "nbformat": 4,
 "nbformat_minor": 5
}