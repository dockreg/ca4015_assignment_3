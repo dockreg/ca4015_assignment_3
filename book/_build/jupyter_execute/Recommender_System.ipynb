{
 "cells": [
  {
   "cell_type": "markdown",
   "id": "a0e54c4d",
   "metadata": {},
   "source": [
    "# Music Recommender System"
   ]
  },
  {
   "cell_type": "markdown",
   "id": "ac529a5f",
   "metadata": {},
   "source": [
    "<img src=\"https://www.incimages.com/uploaded_files/image/1920x1080/getty_626660256_2000108620009280158_379902.jpg\" width=750 height=400 />"
   ]
  },
  {
   "cell_type": "markdown",
   "id": "26c31ed5",
   "metadata": {},
   "source": [
    "This will detail all of the steps involved in creating this music recommender system. This code is based on the google colab notebook and educational code available at: \n",
    "\n",
    "https://colab.research.google.com/github/google/eng-edu/blob/main/ml/recommendation-systems/recommendation-systems.ipynb?utm_source=ss-recommendation-systems&utm_campaign=colab-external&utm_medium=referral&utm_content=recommendation-systems#scrollTo=StMo4lDmLqpc \n",
    "\n",
    "\n",
    "## The notebook is split into 4 sections:\n",
    "\n",
    "1) Building rating matrix/ Calculating error\n",
    "\n",
    "2) Training the matrix factorisation model\n",
    "\n",
    "3) Inspecting embeddings\n",
    "\n",
    "4) Regularisation in matrix factorisation\n",
    "\n"
   ]
  },
  {
   "cell_type": "markdown",
   "id": "14c48af9",
   "metadata": {},
   "source": [
    "## Import required dependencies"
   ]
  },
  {
   "cell_type": "code",
   "execution_count": 1,
   "id": "7880865c",
   "metadata": {
    "collapsed": true
   },
   "outputs": [
    {
     "name": "stdout",
     "output_type": "stream",
     "text": [
      "WARNING:tensorflow:From /Users/dockreg/anaconda3/lib/python3.7/site-packages/tensorflow/python/compat/v2_compat.py:111: disable_resource_variables (from tensorflow.python.ops.variable_scope) is deprecated and will be removed in a future version.\n",
      "Instructions for updating:\n",
      "non-resource variables are not supported in the long term\n"
     ]
    }
   ],
   "source": [
    "from __future__ import print_function\n",
    "import seaborn as sns\n",
    "import numpy as np\n",
    "import pandas as pd\n",
    "import collections\n",
    "from mpl_toolkits.mplot3d import Axes3D\n",
    "from IPython import display\n",
    "from matplotlib import pyplot as plt\n",
    "import sklearn\n",
    "import sklearn.manifold\n",
    "import tensorflow.compat.v1 as tf\n",
    "tf.disable_v2_behavior()\n",
    "tf.logging.set_verbosity(tf.logging.ERROR)"
   ]
  },
  {
   "cell_type": "markdown",
   "id": "7de40567",
   "metadata": {},
   "source": [
    "## 1) Preliminaries"
   ]
  },
  {
   "cell_type": "code",
   "execution_count": 2,
   "id": "0ff5b83e",
   "metadata": {},
   "outputs": [],
   "source": [
    "artists = pd.read_csv('../Data/artists.dat', sep='\t')\n",
    "tags = pd.read_csv('../Data/tags.dat', sep='\t', encoding='latin-1')\n",
    "user_artists = pd.read_csv('../Data/user_artists.dat', sep='\t')\n",
    "user_friends = pd.read_csv('../Data/user_friends.dat', sep='\t')\n",
    "user_tagged_artists_tstamp = pd.read_csv('../Data/user_taggedartists-timestamps.dat', sep='\t')\n",
    "user_tagged_artists = pd.read_csv('../Data/user_taggedartists.dat', sep='\t')"
   ]
  },
  {
   "cell_type": "markdown",
   "id": "4c4f4799",
   "metadata": {},
   "source": [
    "We create a function to be used later for splitting the data in testing and training sets"
   ]
  },
  {
   "cell_type": "code",
   "execution_count": 3,
   "id": "f088685f",
   "metadata": {},
   "outputs": [],
   "source": [
    "# Split the data into training and test sets.\n",
    "def split_dataframe(df, holdout_fraction=0.1):\n",
    "    test = df.sample(frac=holdout_fraction, replace=False)\n",
    "    train = df[~df.index.isin(test.index)]\n",
    "    return train, test"
   ]
  },
  {
   "cell_type": "markdown",
   "id": "3defdd8d",
   "metadata": {},
   "source": [
    "### Building matrix\n",
    "\n",
    "We design a function that maps the ```user_artists``` data to a tensorflow sparsetensor representation. Most users will not have rated each artist so this is full of 0's and hence becomes a very large matrix. This function allows us to efficiently capture this data"
   ]
  },
  {
   "cell_type": "code",
   "execution_count": 4,
   "id": "22f012c9",
   "metadata": {},
   "outputs": [],
   "source": [
    "def build_rating_sparse_tensor(user_artists_df):\n",
    "    indices = user_artists_df[['userID', 'artistID']].values\n",
    "    values = user_artists_df['weight'].values\n",
    "    return tf.SparseTensor(\n",
    "        indices=indices,\n",
    "        values=values,\n",
    "        dense_shape=[len(user_artists['userID'].unique()), len(artists['id'].unique())])"
   ]
  },
  {
   "cell_type": "markdown",
   "id": "03429d77",
   "metadata": {},
   "source": [
    "### Calculating the error\n",
    "\n",
    "The model approximates the ratings matrix by a low-rank product. We need a way to measure the approximation error. We'll start by using the Mean Squared Error of observed entries only. It is defined as\n",
    "\n",
    "$$\n",
    "\\begin{align*}\n",
    "\\text{MSE}(A, UV^\\top)\n",
    "&= \\frac{1}{|\\Omega|}\\sum_{(i, j) \\in\\Omega}{( A_{ij} - (UV^\\top)_{ij})^2} \\\\\n",
    "&= \\frac{1}{|\\Omega|}\\sum_{(i, j) \\in\\Omega}{( A_{ij} - \\langle U_i, V_j\\rangle)^2}\n",
    "\\end{align*}\n",
    "$$\n",
    "\n",
    "The function below is created to calculate this"
   ]
  },
  {
   "cell_type": "code",
   "execution_count": 5,
   "id": "2c7c804f",
   "metadata": {},
   "outputs": [],
   "source": [
    "def sparse_mean_square_error(sparse_ratings, user_embeddings, music_embeddings):\n",
    "    predictions = tf.reduce_sum(\n",
    "        tf.gather(user_embeddings, sparse_ratings.indices[:, 0]) *\n",
    "        tf.gather(music_embeddings, sparse_ratings.indices[:, 1]),\n",
    "        axis=1)\n",
    "    loss = tf.losses.mean_squared_error(sparse_ratings.values, predictions)\n",
    "    return loss"
   ]
  },
  {
   "cell_type": "markdown",
   "id": "70595082",
   "metadata": {},
   "source": [
    "## 2) Training the Matrix Factorization model\n",
    "\n",
    "### Collaborative Filtering Model (CF Model)\n",
    "This class trains a matrix factorization model. Stochastic gradient descent is used in the function as the optimiser.\n"
   ]
  },
  {
   "cell_type": "code",
   "execution_count": 6,
   "id": "fcd483db",
   "metadata": {},
   "outputs": [],
   "source": [
    "class CFModel(object):\n",
    "    def __init__(self, embedding_vars, loss, metrics=None):\n",
    "        self._embedding_vars = embedding_vars\n",
    "        self._loss = loss\n",
    "        self._metrics = metrics\n",
    "        self._embeddings = {k: None for k in embedding_vars}\n",
    "        self._session = None\n",
    "\n",
    "    @property\n",
    "    def embeddings(self):\n",
    "        return self._embeddings\n",
    "\n",
    "    def train(self, num_iterations=100, learning_rate=1.0, plot_results=True,\n",
    "            optimizer=tf.train.GradientDescentOptimizer):\n",
    "        with self._loss.graph.as_default():\n",
    "            opt = optimizer(learning_rate)\n",
    "            train_op = opt.minimize(self._loss)\n",
    "            local_init_op = tf.group(\n",
    "              tf.variables_initializer(opt.variables()),\n",
    "              tf.local_variables_initializer())\n",
    "            if self._session is None:\n",
    "                self._session = tf.Session()\n",
    "                with self._session.as_default():\n",
    "                    self._session.run(tf.global_variables_initializer())\n",
    "                    self._session.run(tf.tables_initializer())\n",
    "                    tf.train.start_queue_runners()\n",
    "\n",
    "        with self._session.as_default():\n",
    "            local_init_op.run()\n",
    "            iterations = []\n",
    "            metrics = self._metrics or ({},)\n",
    "            metrics_vals = [collections.defaultdict(list) for _ in self._metrics]\n",
    "\n",
    "            # Train and append results.\n",
    "            for i in range(num_iterations + 1):\n",
    "                _, results = self._session.run((train_op, metrics))\n",
    "                if (i % 10 == 0) or i == num_iterations:\n",
    "                    print(\"\\r iteration %d: \" % i + \", \".join([\"%s=%f\" % (k, v) for r in results for k, v in r.items()]),\n",
    "                        end='')\n",
    "                    iterations.append(i)\n",
    "                    for metric_val, result in zip(metrics_vals, results):\n",
    "                        for k, v in result.items():\n",
    "                            metric_val[k].append(v)\n",
    "\n",
    "            for k, v in self._embedding_vars.items():\n",
    "                self._embeddings[k] = v.eval()\n",
    "\n",
    "            if plot_results:\n",
    "                # Plot the metrics.\n",
    "                num_subplots = len(metrics)+1\n",
    "                fig = plt.figure()\n",
    "                fig.set_size_inches(num_subplots*10, 8)\n",
    "                for i, metric_vals in enumerate(metrics_vals):\n",
    "                    ax = fig.add_subplot(1, num_subplots, i+1)\n",
    "                    for k, v in metric_vals.items():\n",
    "                        ax.plot(iterations, v, label=k)\n",
    "                    ax.set_xlim([1, num_iterations])\n",
    "                    ax.legend()\n",
    "            return results"
   ]
  },
  {
   "cell_type": "markdown",
   "id": "c66716a0",
   "metadata": {},
   "source": [
    "### Build the model\n",
    "\n",
    "We build the model that uses the `sparse_mean_square_error` function. We write a function that builds a `CFModel` by creating the embedding variables and the train and test losses."
   ]
  },
  {
   "cell_type": "code",
   "execution_count": 7,
   "id": "5b1c187f",
   "metadata": {},
   "outputs": [],
   "source": [
    "def build_model(ratings, embedding_dim=3, init_stddev=1.):\n",
    "    \n",
    "    # Split the ratings DataFrame into train and test.\n",
    "    train_ratings, test_ratings = split_dataframe(ratings)\n",
    "    # SparseTensor representation of the train and test datasets.\n",
    "    A_train = build_rating_sparse_tensor(train_ratings)\n",
    "    A_test = build_rating_sparse_tensor(test_ratings)\n",
    "    # Initialize the embeddings using a normal distribution.\n",
    "    U = tf.Variable(tf.random_normal(\n",
    "      [A_train.dense_shape[0], embedding_dim], stddev=init_stddev))\n",
    "    V = tf.Variable(tf.random_normal(\n",
    "      [A_train.dense_shape[1], embedding_dim], stddev=init_stddev))\n",
    "    train_loss = sparse_mean_square_error(A_train, U, V)\n",
    "    test_loss = sparse_mean_square_error(A_test, U, V)\n",
    "    metrics = {\n",
    "      'train_error': train_loss,\n",
    "      'test_error': test_loss\n",
    "  }\n",
    "    embeddings = {\n",
    "      \"userID\": U,\n",
    "      \"artistID\": V\n",
    "  }\n",
    "    return CFModel(embeddings, train_loss, [metrics])"
   ]
  },
  {
   "cell_type": "code",
   "execution_count": 8,
   "id": "bca10fc1",
   "metadata": {},
   "outputs": [
    {
     "data": {
      "text/html": [
       "<div>\n",
       "<style scoped>\n",
       "    .dataframe tbody tr th:only-of-type {\n",
       "        vertical-align: middle;\n",
       "    }\n",
       "\n",
       "    .dataframe tbody tr th {\n",
       "        vertical-align: top;\n",
       "    }\n",
       "\n",
       "    .dataframe thead th {\n",
       "        text-align: right;\n",
       "    }\n",
       "</style>\n",
       "<table border=\"1\" class=\"dataframe\">\n",
       "  <thead>\n",
       "    <tr style=\"text-align: right;\">\n",
       "      <th></th>\n",
       "      <th>userID</th>\n",
       "      <th>artistID</th>\n",
       "      <th>weight</th>\n",
       "    </tr>\n",
       "  </thead>\n",
       "  <tbody>\n",
       "    <tr>\n",
       "      <th>0</th>\n",
       "      <td>2</td>\n",
       "      <td>51</td>\n",
       "      <td>13883</td>\n",
       "    </tr>\n",
       "    <tr>\n",
       "      <th>1</th>\n",
       "      <td>2</td>\n",
       "      <td>52</td>\n",
       "      <td>11690</td>\n",
       "    </tr>\n",
       "    <tr>\n",
       "      <th>2</th>\n",
       "      <td>2</td>\n",
       "      <td>53</td>\n",
       "      <td>11351</td>\n",
       "    </tr>\n",
       "    <tr>\n",
       "      <th>3</th>\n",
       "      <td>2</td>\n",
       "      <td>54</td>\n",
       "      <td>10300</td>\n",
       "    </tr>\n",
       "    <tr>\n",
       "      <th>4</th>\n",
       "      <td>2</td>\n",
       "      <td>55</td>\n",
       "      <td>8983</td>\n",
       "    </tr>\n",
       "    <tr>\n",
       "      <th>...</th>\n",
       "      <td>...</td>\n",
       "      <td>...</td>\n",
       "      <td>...</td>\n",
       "    </tr>\n",
       "    <tr>\n",
       "      <th>92829</th>\n",
       "      <td>2100</td>\n",
       "      <td>18726</td>\n",
       "      <td>337</td>\n",
       "    </tr>\n",
       "    <tr>\n",
       "      <th>92830</th>\n",
       "      <td>2100</td>\n",
       "      <td>18727</td>\n",
       "      <td>297</td>\n",
       "    </tr>\n",
       "    <tr>\n",
       "      <th>92831</th>\n",
       "      <td>2100</td>\n",
       "      <td>18728</td>\n",
       "      <td>281</td>\n",
       "    </tr>\n",
       "    <tr>\n",
       "      <th>92832</th>\n",
       "      <td>2100</td>\n",
       "      <td>18729</td>\n",
       "      <td>280</td>\n",
       "    </tr>\n",
       "    <tr>\n",
       "      <th>92833</th>\n",
       "      <td>2100</td>\n",
       "      <td>18730</td>\n",
       "      <td>263</td>\n",
       "    </tr>\n",
       "  </tbody>\n",
       "</table>\n",
       "<p>92834 rows × 3 columns</p>\n",
       "</div>"
      ],
      "text/plain": [
       "       userID  artistID  weight\n",
       "0           2        51   13883\n",
       "1           2        52   11690\n",
       "2           2        53   11351\n",
       "3           2        54   10300\n",
       "4           2        55    8983\n",
       "...       ...       ...     ...\n",
       "92829    2100     18726     337\n",
       "92830    2100     18727     297\n",
       "92831    2100     18728     281\n",
       "92832    2100     18729     280\n",
       "92833    2100     18730     263\n",
       "\n",
       "[92834 rows x 3 columns]"
      ]
     },
     "execution_count": 8,
     "metadata": {},
     "output_type": "execute_result"
    }
   ],
   "source": [
    "user_artists"
   ]
  },
  {
   "cell_type": "markdown",
   "id": "f48c2b57",
   "metadata": {},
   "source": [
    " We convert our columns into the appropriate data type before running it through the model"
   ]
  },
  {
   "cell_type": "markdown",
   "id": "12cd544e",
   "metadata": {},
   "source": [
    "### Changing user id and artist id\n",
    "\n",
    "We get errors when using the user data as is, as the user ID values and artist ID values are not in sequential order and are often higher than the index value so we will change them so they run from 0-1891, and 0-17631 respectively."
   ]
  },
  {
   "cell_type": "code",
   "execution_count": 9,
   "id": "4c1efd07",
   "metadata": {},
   "outputs": [
    {
     "data": {
      "text/plain": [
       "2100"
      ]
     },
     "execution_count": 9,
     "metadata": {},
     "output_type": "execute_result"
    }
   ],
   "source": [
    "user_artists.userID.unique().astype(int).max()"
   ]
  },
  {
   "cell_type": "code",
   "execution_count": 10,
   "id": "1e5903c0",
   "metadata": {},
   "outputs": [
    {
     "data": {
      "text/plain": [
       "18745"
      ]
     },
     "execution_count": 10,
     "metadata": {},
     "output_type": "execute_result"
    }
   ],
   "source": [
    "user_artists.artistID.unique().astype(int).max()"
   ]
  },
  {
   "cell_type": "code",
   "execution_count": 11,
   "id": "804fd41c",
   "metadata": {},
   "outputs": [],
   "source": [
    "def return_inverse(x):\n",
    "    p = np.zeros(x.max()+1, dtype=bool)\n",
    "    p[x] = 1\n",
    "\n",
    "    p2 = np.empty(x.max()+1, dtype=np.uint64)\n",
    "    c = p.sum()\n",
    "    p2[p] = np.arange(c)    \n",
    "    out = p2[x]\n",
    "    return out"
   ]
  },
  {
   "cell_type": "code",
   "execution_count": 12,
   "id": "600ee7b6",
   "metadata": {},
   "outputs": [
    {
     "data": {
      "text/plain": [
       "array([   0,    0,    0, ..., 1891, 1891, 1891], dtype=uint64)"
      ]
     },
     "execution_count": 12,
     "metadata": {},
     "output_type": "execute_result"
    }
   ],
   "source": [
    "inverse_user_id = return_inverse(user_artists.userID)\n",
    "inverse_user_id"
   ]
  },
  {
   "cell_type": "code",
   "execution_count": 13,
   "id": "28c4ba69",
   "metadata": {},
   "outputs": [
    {
     "data": {
      "text/plain": [
       "array([   45,    46,    47, ..., 17617, 17618, 17619], dtype=uint64)"
      ]
     },
     "execution_count": 13,
     "metadata": {},
     "output_type": "execute_result"
    }
   ],
   "source": [
    "inverse_artist_id = return_inverse(user_artists.artistID)\n",
    "inverse_artist_id"
   ]
  },
  {
   "cell_type": "code",
   "execution_count": 14,
   "id": "3da3a89f",
   "metadata": {},
   "outputs": [],
   "source": [
    "# Replace id columns\n",
    "user_artists['userID'] = inverse_user_id\n",
    "user_artists['artistID'] = inverse_artist_id"
   ]
  },
  {
   "cell_type": "code",
   "execution_count": 15,
   "id": "7a464f93",
   "metadata": {},
   "outputs": [
    {
     "data": {
      "text/html": [
       "<div>\n",
       "<style scoped>\n",
       "    .dataframe tbody tr th:only-of-type {\n",
       "        vertical-align: middle;\n",
       "    }\n",
       "\n",
       "    .dataframe tbody tr th {\n",
       "        vertical-align: top;\n",
       "    }\n",
       "\n",
       "    .dataframe thead th {\n",
       "        text-align: right;\n",
       "    }\n",
       "</style>\n",
       "<table border=\"1\" class=\"dataframe\">\n",
       "  <thead>\n",
       "    <tr style=\"text-align: right;\">\n",
       "      <th></th>\n",
       "      <th>userID</th>\n",
       "      <th>artistID</th>\n",
       "      <th>weight</th>\n",
       "    </tr>\n",
       "  </thead>\n",
       "  <tbody>\n",
       "    <tr>\n",
       "      <th>count</th>\n",
       "      <td>92834.000000</td>\n",
       "      <td>92834.000000</td>\n",
       "      <td>92834.00000</td>\n",
       "    </tr>\n",
       "    <tr>\n",
       "      <th>mean</th>\n",
       "      <td>944.222483</td>\n",
       "      <td>3235.736724</td>\n",
       "      <td>745.24393</td>\n",
       "    </tr>\n",
       "    <tr>\n",
       "      <th>std</th>\n",
       "      <td>546.751074</td>\n",
       "      <td>4197.216910</td>\n",
       "      <td>3751.32208</td>\n",
       "    </tr>\n",
       "    <tr>\n",
       "      <th>min</th>\n",
       "      <td>0.000000</td>\n",
       "      <td>0.000000</td>\n",
       "      <td>1.00000</td>\n",
       "    </tr>\n",
       "    <tr>\n",
       "      <th>25%</th>\n",
       "      <td>470.000000</td>\n",
       "      <td>430.000000</td>\n",
       "      <td>107.00000</td>\n",
       "    </tr>\n",
       "    <tr>\n",
       "      <th>50%</th>\n",
       "      <td>944.000000</td>\n",
       "      <td>1237.000000</td>\n",
       "      <td>260.00000</td>\n",
       "    </tr>\n",
       "    <tr>\n",
       "      <th>75%</th>\n",
       "      <td>1416.000000</td>\n",
       "      <td>4266.000000</td>\n",
       "      <td>614.00000</td>\n",
       "    </tr>\n",
       "    <tr>\n",
       "      <th>max</th>\n",
       "      <td>1891.000000</td>\n",
       "      <td>17631.000000</td>\n",
       "      <td>352698.00000</td>\n",
       "    </tr>\n",
       "  </tbody>\n",
       "</table>\n",
       "</div>"
      ],
      "text/plain": [
       "             userID      artistID        weight\n",
       "count  92834.000000  92834.000000   92834.00000\n",
       "mean     944.222483   3235.736724     745.24393\n",
       "std      546.751074   4197.216910    3751.32208\n",
       "min        0.000000      0.000000       1.00000\n",
       "25%      470.000000    430.000000     107.00000\n",
       "50%      944.000000   1237.000000     260.00000\n",
       "75%     1416.000000   4266.000000     614.00000\n",
       "max     1891.000000  17631.000000  352698.00000"
      ]
     },
     "execution_count": 15,
     "metadata": {},
     "output_type": "execute_result"
    }
   ],
   "source": [
    "user_artists.describe()"
   ]
  },
  {
   "cell_type": "markdown",
   "id": "9df1cc0e",
   "metadata": {},
   "source": [
    "We can see the userID now has a max value of 1,891 and artistID has a max value of 17,631"
   ]
  },
  {
   "cell_type": "markdown",
   "id": "eeee2a36",
   "metadata": {},
   "source": [
    "### Normalisation\n",
    "\n",
    "The variety in weights are very large which will cause issues with our ```CFModel``` so we normalise these values between a value of 0-1 \n",
    "\n",
    "The code below can be uncommented to try a z score normalisation for different results"
   ]
  },
  {
   "cell_type": "code",
   "execution_count": 16,
   "id": "2a4c57f4",
   "metadata": {},
   "outputs": [
    {
     "data": {
      "text/html": [
       "<div>\n",
       "<style scoped>\n",
       "    .dataframe tbody tr th:only-of-type {\n",
       "        vertical-align: middle;\n",
       "    }\n",
       "\n",
       "    .dataframe tbody tr th {\n",
       "        vertical-align: top;\n",
       "    }\n",
       "\n",
       "    .dataframe thead th {\n",
       "        text-align: right;\n",
       "    }\n",
       "</style>\n",
       "<table border=\"1\" class=\"dataframe\">\n",
       "  <thead>\n",
       "    <tr style=\"text-align: right;\">\n",
       "      <th></th>\n",
       "      <th>userID</th>\n",
       "      <th>artistID</th>\n",
       "      <th>weight</th>\n",
       "    </tr>\n",
       "  </thead>\n",
       "  <tbody>\n",
       "    <tr>\n",
       "      <th>0</th>\n",
       "      <td>0</td>\n",
       "      <td>45</td>\n",
       "      <td>0.039360</td>\n",
       "    </tr>\n",
       "    <tr>\n",
       "      <th>1</th>\n",
       "      <td>0</td>\n",
       "      <td>46</td>\n",
       "      <td>0.033142</td>\n",
       "    </tr>\n",
       "    <tr>\n",
       "      <th>2</th>\n",
       "      <td>0</td>\n",
       "      <td>47</td>\n",
       "      <td>0.032181</td>\n",
       "    </tr>\n",
       "    <tr>\n",
       "      <th>3</th>\n",
       "      <td>0</td>\n",
       "      <td>48</td>\n",
       "      <td>0.029201</td>\n",
       "    </tr>\n",
       "    <tr>\n",
       "      <th>4</th>\n",
       "      <td>0</td>\n",
       "      <td>49</td>\n",
       "      <td>0.025467</td>\n",
       "    </tr>\n",
       "  </tbody>\n",
       "</table>\n",
       "</div>"
      ],
      "text/plain": [
       "   userID  artistID    weight\n",
       "0       0        45  0.039360\n",
       "1       0        46  0.033142\n",
       "2       0        47  0.032181\n",
       "3       0        48  0.029201\n",
       "4       0        49  0.025467"
      ]
     },
     "execution_count": 16,
     "metadata": {},
     "output_type": "execute_result"
    }
   ],
   "source": [
    "# copy the data\n",
    "user_artists_norm = user_artists.copy()\n",
    "  \n",
    "# apply normalization techniques by Column weight\n",
    "column = 'weight'\n",
    "user_artists_norm[column] = (user_artists_norm[column] - user_artists_norm[column].min()) / (user_artists_norm[column].max() - user_artists_norm[column].min())    \n",
    "\n",
    "# z score normalisation\n",
    "#user_artists_norm[column] = (user_artists_norm[column] - user_artists_norm[column].mean()) / user_artists_norm[column].std()    \n",
    "  \n",
    "# view normalized data\n",
    "user_artists_norm.head()"
   ]
  },
  {
   "cell_type": "markdown",
   "id": "d2963663",
   "metadata": {},
   "source": [
    "### Build the CF Model and train it"
   ]
  },
  {
   "cell_type": "code",
   "execution_count": 17,
   "id": "94218eab",
   "metadata": {},
   "outputs": [
    {
     "name": "stderr",
     "output_type": "stream",
     "text": [
      "2021-12-01 21:57:52.300490: I tensorflow/core/platform/cpu_feature_guard.cc:151] This TensorFlow binary is optimized with oneAPI Deep Neural Network Library (oneDNN) to use the following CPU instructions in performance-critical operations:  AVX2 FMA\n",
      "To enable them in other operations, rebuild TensorFlow with the appropriate compiler flags.\n"
     ]
    },
    {
     "name": "stdout",
     "output_type": "stream",
     "text": [
      "\r",
      " iteration 0: train_error=1.906033, test_error=1.933137\r",
      " iteration 10: train_error=1.547279, test_error=1.685794"
     ]
    },
    {
     "name": "stdout",
     "output_type": "stream",
     "text": [
      "\r",
      " iteration 20: train_error=1.295970, test_error=1.513266\r",
      " iteration 30: train_error=1.108595, test_error=1.384579\r",
      " iteration 40: train_error=0.963041, test_error=1.284134"
     ]
    },
    {
     "name": "stdout",
     "output_type": "stream",
     "text": [
      "\r",
      " iteration 50: train_error=0.846618, test_error=1.203112\r",
      " iteration 60: train_error=0.751424, test_error=1.136108\r",
      " iteration 70: train_error=0.672236, test_error=1.079607"
     ]
    },
    {
     "name": "stdout",
     "output_type": "stream",
     "text": [
      "\r",
      " iteration 80: train_error=0.605439, test_error=1.031207\r",
      " iteration 90: train_error=0.548442, test_error=0.989209\r",
      " iteration 100: train_error=0.499332, test_error=0.952372"
     ]
    },
    {
     "name": "stdout",
     "output_type": "stream",
     "text": [
      "\r",
      " iteration 110: train_error=0.456663, test_error=0.919764\r",
      " iteration 120: train_error=0.419320, test_error=0.890670\r",
      " iteration 130: train_error=0.386429, test_error=0.864535"
     ]
    },
    {
     "name": "stdout",
     "output_type": "stream",
     "text": [
      "\r",
      " iteration 140: train_error=0.357293, test_error=0.840915\r",
      " iteration 150: train_error=0.331351, test_error=0.819454\r",
      " iteration 160: train_error=0.308146, test_error=0.799862"
     ]
    },
    {
     "name": "stdout",
     "output_type": "stream",
     "text": [
      "\r",
      " iteration 170: train_error=0.287300, test_error=0.781899\r",
      " iteration 180: train_error=0.268503, test_error=0.765366\r",
      " iteration 190: train_error=0.251491, test_error=0.750096"
     ]
    },
    {
     "name": "stdout",
     "output_type": "stream",
     "text": [
      "\r",
      " iteration 200: train_error=0.236044, test_error=0.735946\r",
      " iteration 210: train_error=0.221975, test_error=0.722796\r",
      " iteration 220: train_error=0.209125, test_error=0.710541"
     ]
    },
    {
     "name": "stdout",
     "output_type": "stream",
     "text": [
      "\r",
      " iteration 230: train_error=0.197355, test_error=0.699093\r",
      " iteration 240: train_error=0.186549, test_error=0.688373\r",
      " iteration 250: train_error=0.176604, test_error=0.678313"
     ]
    },
    {
     "name": "stdout",
     "output_type": "stream",
     "text": [
      "\r",
      " iteration 260: train_error=0.167430, test_error=0.668853\r",
      " iteration 270: train_error=0.158950, test_error=0.659941"
     ]
    },
    {
     "name": "stdout",
     "output_type": "stream",
     "text": [
      "\r",
      " iteration 280: train_error=0.151095, test_error=0.651529\r",
      " iteration 290: train_error=0.143807, test_error=0.643577\r",
      " iteration 300: train_error=0.137030, test_error=0.636048"
     ]
    },
    {
     "name": "stdout",
     "output_type": "stream",
     "text": [
      "\r",
      " iteration 310: train_error=0.130720, test_error=0.628908\r",
      " iteration 320: train_error=0.124833, test_error=0.622128\r",
      " iteration 330: train_error=0.119333, test_error=0.615681"
     ]
    },
    {
     "name": "stdout",
     "output_type": "stream",
     "text": [
      "\r",
      " iteration 340: train_error=0.114187, test_error=0.609543\r",
      " iteration 350: train_error=0.109365, test_error=0.603693\r",
      " iteration 360: train_error=0.104840, test_error=0.598110"
     ]
    },
    {
     "name": "stdout",
     "output_type": "stream",
     "text": [
      "\r",
      " iteration 370: train_error=0.100588, test_error=0.592776\r",
      " iteration 380: train_error=0.096589, test_error=0.587676\r",
      " iteration 390: train_error=0.092821, test_error=0.582793"
     ]
    },
    {
     "name": "stdout",
     "output_type": "stream",
     "text": [
      "\r",
      " iteration 400: train_error=0.089269, test_error=0.578115\r",
      " iteration 410: train_error=0.085915, test_error=0.573629\r",
      " iteration 420: train_error=0.082745, test_error=0.569322"
     ]
    },
    {
     "name": "stdout",
     "output_type": "stream",
     "text": [
      "\r",
      " iteration 430: train_error=0.079746, test_error=0.565186\r",
      " iteration 440: train_error=0.076906, test_error=0.561209\r",
      " iteration 450: train_error=0.074214, test_error=0.557383"
     ]
    },
    {
     "name": "stdout",
     "output_type": "stream",
     "text": [
      "\r",
      " iteration 460: train_error=0.071659, test_error=0.553699\r",
      " iteration 470: train_error=0.069233, test_error=0.550149\r",
      " iteration 480: train_error=0.066927, test_error=0.546727"
     ]
    },
    {
     "name": "stdout",
     "output_type": "stream",
     "text": [
      "\r",
      " iteration 490: train_error=0.064733, test_error=0.543425\r",
      " iteration 500: train_error=0.062644, test_error=0.540237\r",
      " iteration 510: train_error=0.060654, test_error=0.537158"
     ]
    },
    {
     "name": "stdout",
     "output_type": "stream",
     "text": [
      "\r",
      " iteration 520: train_error=0.058756, test_error=0.534182\r",
      " iteration 530: train_error=0.056945, test_error=0.531304\r",
      " iteration 540: train_error=0.055215, test_error=0.528519"
     ]
    },
    {
     "name": "stdout",
     "output_type": "stream",
     "text": [
      "\r",
      " iteration 550: train_error=0.053562, test_error=0.525823\r",
      " iteration 560: train_error=0.051981, test_error=0.523212\r",
      " iteration 570: train_error=0.050468, test_error=0.520681"
     ]
    },
    {
     "name": "stdout",
     "output_type": "stream",
     "text": [
      "\r",
      " iteration 580: train_error=0.049019, test_error=0.518227\r",
      " iteration 590: train_error=0.047632, test_error=0.515847\r",
      " iteration 600: train_error=0.046301, test_error=0.513537"
     ]
    },
    {
     "name": "stdout",
     "output_type": "stream",
     "text": [
      "\r",
      " iteration 610: train_error=0.045024, test_error=0.511295\r",
      " iteration 620: train_error=0.043799, test_error=0.509117"
     ]
    },
    {
     "name": "stdout",
     "output_type": "stream",
     "text": [
      "\r",
      " iteration 630: train_error=0.042623, test_error=0.507000\r",
      " iteration 640: train_error=0.041492, test_error=0.504943\r",
      " iteration 650: train_error=0.040406, test_error=0.502942"
     ]
    },
    {
     "name": "stdout",
     "output_type": "stream",
     "text": [
      "\r",
      " iteration 660: train_error=0.039360, test_error=0.500996\r",
      " iteration 670: train_error=0.038354, test_error=0.499102\r",
      " iteration 680: train_error=0.037386, test_error=0.497259"
     ]
    },
    {
     "name": "stdout",
     "output_type": "stream",
     "text": [
      "\r",
      " iteration 690: train_error=0.036453, test_error=0.495463\r",
      " iteration 700: train_error=0.035554, test_error=0.493714\r",
      " iteration 710: train_error=0.034687, test_error=0.492009"
     ]
    },
    {
     "name": "stdout",
     "output_type": "stream",
     "text": [
      "\r",
      " iteration 720: train_error=0.033851, test_error=0.490348\r",
      " iteration 730: train_error=0.033044, test_error=0.488728\r",
      " iteration 740: train_error=0.032266, test_error=0.487147"
     ]
    },
    {
     "name": "stdout",
     "output_type": "stream",
     "text": [
      "\r",
      " iteration 750: train_error=0.031514, test_error=0.485605\r",
      " iteration 760: train_error=0.030787, test_error=0.484100\r",
      " iteration 770: train_error=0.030085, test_error=0.482631"
     ]
    },
    {
     "name": "stdout",
     "output_type": "stream",
     "text": [
      "\r",
      " iteration 780: train_error=0.029406, test_error=0.481197\r",
      " iteration 790: train_error=0.028749, test_error=0.479795\r",
      " iteration 800: train_error=0.028114, test_error=0.478426"
     ]
    },
    {
     "name": "stdout",
     "output_type": "stream",
     "text": [
      "\r",
      " iteration 810: train_error=0.027499, test_error=0.477088\r",
      " iteration 820: train_error=0.026904, test_error=0.475780\r",
      " iteration 830: train_error=0.026327, test_error=0.474501"
     ]
    },
    {
     "name": "stdout",
     "output_type": "stream",
     "text": [
      "\r",
      " iteration 840: train_error=0.025768, test_error=0.473250\r",
      " iteration 850: train_error=0.025227, test_error=0.472026\r",
      " iteration 860: train_error=0.024702, test_error=0.470829"
     ]
    },
    {
     "name": "stdout",
     "output_type": "stream",
     "text": [
      "\r",
      " iteration 870: train_error=0.024193, test_error=0.469657\r",
      " iteration 880: train_error=0.023699, test_error=0.468510\r",
      " iteration 890: train_error=0.023220, test_error=0.467387"
     ]
    },
    {
     "name": "stdout",
     "output_type": "stream",
     "text": [
      "\r",
      " iteration 900: train_error=0.022755, test_error=0.466287\r",
      " iteration 910: train_error=0.022303, test_error=0.465210\r",
      " iteration 920: train_error=0.021864, test_error=0.464154"
     ]
    },
    {
     "name": "stdout",
     "output_type": "stream",
     "text": [
      "\r",
      " iteration 930: train_error=0.021438, test_error=0.463120\r",
      " iteration 940: train_error=0.021024, test_error=0.462106\r",
      " iteration 950: train_error=0.020622, test_error=0.461113"
     ]
    },
    {
     "name": "stdout",
     "output_type": "stream",
     "text": [
      "\r",
      " iteration 960: train_error=0.020230, test_error=0.460138\r",
      " iteration 970: train_error=0.019850, test_error=0.459183\r",
      " iteration 980: train_error=0.019479, test_error=0.458246"
     ]
    },
    {
     "name": "stdout",
     "output_type": "stream",
     "text": [
      "\r",
      " iteration 990: train_error=0.019119, test_error=0.457326\r",
      " iteration 1000: train_error=0.018769, test_error=0.456424"
     ]
    },
    {
     "data": {
      "text/plain": [
       "[{'train_error': 0.018768793, 'test_error': 0.45642427}]"
      ]
     },
     "execution_count": 17,
     "metadata": {},
     "output_type": "execute_result"
    },
    {
     "data": {
      "image/png": "[encoded data removed]",
      "text/plain": [
       "<Figure size 1440x576 with 1 Axes>"
      ]
     },
     "metadata": {
      "filenames": {
       "image/png": "/Users/dockreg/ca4015_assignment_3/book/_build/jupyter_execute/Recommender_System_31_37.png"
      },
      "needs_background": "light"
     },
     "output_type": "display_data"
    }
   ],
   "source": [
    "model = build_model(user_artists_norm, embedding_dim=30, init_stddev=0.5)\n",
    "model.train(num_iterations=1000, learning_rate=10)"
   ]
  },
  {
   "cell_type": "markdown",
   "id": "2d6fb0e0",
   "metadata": {},
   "source": [
    "## 3) Inspecting the Embeddings\n",
    "\n",
    "We look at the recommendations of the system using the dot product and cosine similarity which are two different similarity measures. We create a nearest neighbours function to recommend similar artists."
   ]
  },
  {
   "cell_type": "code",
   "execution_count": 18,
   "id": "1cf61d42",
   "metadata": {},
   "outputs": [],
   "source": [
    "DOT = 'dot'\n",
    "COSINE = 'cosine'\n",
    "def compute_scores(query_embedding, item_embeddings, measure=DOT):\n",
    "\n",
    "    u = query_embedding\n",
    "    V = item_embeddings\n",
    "    if measure == COSINE:\n",
    "        V = V / np.linalg.norm(V, axis=1, keepdims=True)\n",
    "        u = u / np.linalg.norm(u)\n",
    "    scores = u.dot(V.T)\n",
    "    return scores"
   ]
  },
  {
   "cell_type": "code",
   "execution_count": 19,
   "id": "d860980a",
   "metadata": {},
   "outputs": [],
   "source": [
    "def artist_neighbors(model, title_substring, measure=DOT, k=6):\n",
    "  ids =  artists[artists['name'].str.contains(title_substring)].index.values\n",
    "  titles = artists.iloc[ids]['name'].values\n",
    "  if len(titles) == 0:\n",
    "    raise ValueError(\"Found no artists with title %s\" % title_substring)\n",
    "  print(\"Nearest neighbors of : %s.\" % titles[0])\n",
    "  if len(titles) > 1:\n",
    "    print(\"[Found more than one matching artist. Other candidates: {}]\".format(\n",
    "        \", \".join(titles[1:])))\n",
    "  artistID = ids[0]\n",
    "  scores = compute_scores(\n",
    "      model.embeddings[\"artistID\"][artistID], model.embeddings[\"artistID\"],\n",
    "      measure)\n",
    "  score_key = measure + ' score'\n",
    "  df = pd.DataFrame({\n",
    "      score_key: list(scores),\n",
    "      'names': artists['name']\n",
    "  })\n",
    "  display.display(df.sort_values([score_key], ascending=False).head(k))"
   ]
  },
  {
   "cell_type": "markdown",
   "id": "0fcd2987",
   "metadata": {},
   "source": [
    "### Testing\n",
    "\n",
    "We input an artist to see what recommendations our system returns to us"
   ]
  },
  {
   "cell_type": "code",
   "execution_count": 20,
   "id": "464f9aa8",
   "metadata": {
    "scrolled": false
   },
   "outputs": [
    {
     "name": "stdout",
     "output_type": "stream",
     "text": [
      "Nearest neighbors of : Johnny Cash.\n",
      "[Found more than one matching artist. Other candidates: Johnny Cash & Willie Nelson]\n"
     ]
    },
    {
     "data": {
      "text/html": [
       "<div>\n",
       "<style scoped>\n",
       "    .dataframe tbody tr th:only-of-type {\n",
       "        vertical-align: middle;\n",
       "    }\n",
       "\n",
       "    .dataframe tbody tr th {\n",
       "        vertical-align: top;\n",
       "    }\n",
       "\n",
       "    .dataframe thead th {\n",
       "        text-align: right;\n",
       "    }\n",
       "</style>\n",
       "<table border=\"1\" class=\"dataframe\">\n",
       "  <thead>\n",
       "    <tr style=\"text-align: right;\">\n",
       "      <th></th>\n",
       "      <th>dot score</th>\n",
       "      <th>names</th>\n",
       "    </tr>\n",
       "  </thead>\n",
       "  <tbody>\n",
       "    <tr>\n",
       "      <th>5870</th>\n",
       "      <td>2.593627</td>\n",
       "      <td>Sofia Nizharadze</td>\n",
       "    </tr>\n",
       "    <tr>\n",
       "      <th>17373</th>\n",
       "      <td>2.554927</td>\n",
       "      <td>Amycanbe</td>\n",
       "    </tr>\n",
       "    <tr>\n",
       "      <th>5673</th>\n",
       "      <td>2.513354</td>\n",
       "      <td>Valve</td>\n",
       "    </tr>\n",
       "    <tr>\n",
       "      <th>6509</th>\n",
       "      <td>2.439311</td>\n",
       "      <td>Blood Axis</td>\n",
       "    </tr>\n",
       "    <tr>\n",
       "      <th>1108</th>\n",
       "      <td>2.423170</td>\n",
       "      <td>Claude Debussy</td>\n",
       "    </tr>\n",
       "    <tr>\n",
       "      <th>9219</th>\n",
       "      <td>2.365079</td>\n",
       "      <td>The Locust</td>\n",
       "    </tr>\n",
       "  </tbody>\n",
       "</table>\n",
       "</div>"
      ],
      "text/plain": [
       "       dot score             names\n",
       "5870    2.593627  Sofia Nizharadze\n",
       "17373   2.554927          Amycanbe\n",
       "5673    2.513354             Valve\n",
       "6509    2.439311        Blood Axis\n",
       "1108    2.423170    Claude Debussy\n",
       "9219    2.365079        The Locust"
      ]
     },
     "metadata": {},
     "output_type": "display_data"
    },
    {
     "name": "stdout",
     "output_type": "stream",
     "text": [
      "Nearest neighbors of : Johnny Cash.\n",
      "[Found more than one matching artist. Other candidates: Johnny Cash & Willie Nelson]\n"
     ]
    },
    {
     "data": {
      "text/html": [
       "<div>\n",
       "<style scoped>\n",
       "    .dataframe tbody tr th:only-of-type {\n",
       "        vertical-align: middle;\n",
       "    }\n",
       "\n",
       "    .dataframe tbody tr th {\n",
       "        vertical-align: top;\n",
       "    }\n",
       "\n",
       "    .dataframe thead th {\n",
       "        text-align: right;\n",
       "    }\n",
       "</style>\n",
       "<table border=\"1\" class=\"dataframe\">\n",
       "  <thead>\n",
       "    <tr style=\"text-align: right;\">\n",
       "      <th></th>\n",
       "      <th>cosine score</th>\n",
       "      <th>names</th>\n",
       "    </tr>\n",
       "  </thead>\n",
       "  <tbody>\n",
       "    <tr>\n",
       "      <th>712</th>\n",
       "      <td>1.000000</td>\n",
       "      <td>Johnny Cash</td>\n",
       "    </tr>\n",
       "    <tr>\n",
       "      <th>5673</th>\n",
       "      <td>0.680766</td>\n",
       "      <td>Valve</td>\n",
       "    </tr>\n",
       "    <tr>\n",
       "      <th>17373</th>\n",
       "      <td>0.615704</td>\n",
       "      <td>Amycanbe</td>\n",
       "    </tr>\n",
       "    <tr>\n",
       "      <th>14427</th>\n",
       "      <td>0.608417</td>\n",
       "      <td>Маша Badda Boo</td>\n",
       "    </tr>\n",
       "    <tr>\n",
       "      <th>2682</th>\n",
       "      <td>0.605275</td>\n",
       "      <td>Bondage Fairies</td>\n",
       "    </tr>\n",
       "    <tr>\n",
       "      <th>5018</th>\n",
       "      <td>0.601247</td>\n",
       "      <td>Delux</td>\n",
       "    </tr>\n",
       "  </tbody>\n",
       "</table>\n",
       "</div>"
      ],
      "text/plain": [
       "       cosine score            names\n",
       "712        1.000000      Johnny Cash\n",
       "5673       0.680766            Valve\n",
       "17373      0.615704         Amycanbe\n",
       "14427      0.608417   Маша Badda Boo\n",
       "2682       0.605275  Bondage Fairies\n",
       "5018       0.601247            Delux"
      ]
     },
     "metadata": {},
     "output_type": "display_data"
    }
   ],
   "source": [
    "artist_neighbors(model, \"Johnny Cash\", DOT)\n",
    "artist_neighbors(model, \"Johnny Cash\", COSINE)"
   ]
  },
  {
   "cell_type": "markdown",
   "id": "2f84c031",
   "metadata": {},
   "source": [
    "These results are interesting but it seems our system could be improved upon."
   ]
  },
  {
   "cell_type": "markdown",
   "id": "02720f77",
   "metadata": {},
   "source": [
    "### Model initialisation\n",
    "\n",
    "It seems the initialisation parameters may play a factor in the results of our system as artists with few ratings may have had their embeddings initialised with a high norm. We use regularisation to combat this by adjusting the value of ```init_stdev``` (previously at 0.5 now changed to 0.05)"
   ]
  },
  {
   "cell_type": "code",
   "execution_count": 21,
   "id": "260dc9af",
   "metadata": {},
   "outputs": [
    {
     "name": "stdout",
     "output_type": "stream",
     "text": [
      "\r",
      " iteration 0: train_error=0.000295, test_error=0.000384\r",
      " iteration 10: train_error=0.000294, test_error=0.000384\r",
      " iteration 20: train_error=0.000294, test_error=0.000384"
     ]
    },
    {
     "name": "stdout",
     "output_type": "stream",
     "text": [
      "\r",
      " iteration 30: train_error=0.000294, test_error=0.000384\r",
      " iteration 40: train_error=0.000293, test_error=0.000383\r",
      " iteration 50: train_error=0.000293, test_error=0.000383"
     ]
    },
    {
     "name": "stdout",
     "output_type": "stream",
     "text": [
      "\r",
      " iteration 60: train_error=0.000292, test_error=0.000383\r",
      " iteration 70: train_error=0.000292, test_error=0.000383\r",
      " iteration 80: train_error=0.000291, test_error=0.000382"
     ]
    },
    {
     "name": "stdout",
     "output_type": "stream",
     "text": [
      "\r",
      " iteration 90: train_error=0.000291, test_error=0.000382\r",
      " iteration 100: train_error=0.000290, test_error=0.000382\r",
      " iteration 110: train_error=0.000290, test_error=0.000381"
     ]
    },
    {
     "name": "stdout",
     "output_type": "stream",
     "text": [
      "\r",
      " iteration 120: train_error=0.000289, test_error=0.000381\r",
      " iteration 130: train_error=0.000289, test_error=0.000381\r",
      " iteration 140: train_error=0.000288, test_error=0.000381"
     ]
    },
    {
     "name": "stdout",
     "output_type": "stream",
     "text": [
      "\r",
      " iteration 150: train_error=0.000288, test_error=0.000380\r",
      " iteration 160: train_error=0.000287, test_error=0.000380\r",
      " iteration 170: train_error=0.000287, test_error=0.000380"
     ]
    },
    {
     "name": "stdout",
     "output_type": "stream",
     "text": [
      "\r",
      " iteration 180: train_error=0.000287, test_error=0.000380\r",
      " iteration 190: train_error=0.000286, test_error=0.000379\r",
      " iteration 200: train_error=0.000286, test_error=0.000379"
     ]
    },
    {
     "name": "stdout",
     "output_type": "stream",
     "text": [
      "\r",
      " iteration 210: train_error=0.000285, test_error=0.000379\r",
      " iteration 220: train_error=0.000285, test_error=0.000379\r",
      " iteration 230: train_error=0.000284, test_error=0.000379"
     ]
    },
    {
     "name": "stdout",
     "output_type": "stream",
     "text": [
      "\r",
      " iteration 240: train_error=0.000284, test_error=0.000378\r",
      " iteration 250: train_error=0.000283, test_error=0.000378\r",
      " iteration 260: train_error=0.000283, test_error=0.000378"
     ]
    },
    {
     "name": "stdout",
     "output_type": "stream",
     "text": [
      "\r",
      " iteration 270: train_error=0.000283, test_error=0.000378\r",
      " iteration 280: train_error=0.000282, test_error=0.000377\r",
      " iteration 290: train_error=0.000282, test_error=0.000377"
     ]
    },
    {
     "name": "stdout",
     "output_type": "stream",
     "text": [
      "\r",
      " iteration 300: train_error=0.000281, test_error=0.000377\r",
      " iteration 310: train_error=0.000281, test_error=0.000377\r",
      " iteration 320: train_error=0.000280, test_error=0.000376"
     ]
    },
    {
     "name": "stdout",
     "output_type": "stream",
     "text": [
      "\r",
      " iteration 330: train_error=0.000280, test_error=0.000376\r",
      " iteration 340: train_error=0.000280, test_error=0.000376\r",
      " iteration 350: train_error=0.000279, test_error=0.000376"
     ]
    },
    {
     "name": "stdout",
     "output_type": "stream",
     "text": [
      "\r",
      " iteration 360: train_error=0.000279, test_error=0.000375\r",
      " iteration 370: train_error=0.000278, test_error=0.000375\r",
      " iteration 380: train_error=0.000278, test_error=0.000375"
     ]
    },
    {
     "name": "stdout",
     "output_type": "stream",
     "text": [
      "\r",
      " iteration 390: train_error=0.000277, test_error=0.000375\r",
      " iteration 400: train_error=0.000277, test_error=0.000375\r",
      " iteration 410: train_error=0.000277, test_error=0.000374"
     ]
    },
    {
     "name": "stdout",
     "output_type": "stream",
     "text": [
      "\r",
      " iteration 420: train_error=0.000276, test_error=0.000374\r",
      " iteration 430: train_error=0.000276, test_error=0.000374\r",
      " iteration 440: train_error=0.000275, test_error=0.000374"
     ]
    },
    {
     "name": "stdout",
     "output_type": "stream",
     "text": [
      "\r",
      " iteration 450: train_error=0.000275, test_error=0.000373\r",
      " iteration 460: train_error=0.000275, test_error=0.000373"
     ]
    },
    {
     "name": "stdout",
     "output_type": "stream",
     "text": [
      "\r",
      " iteration 470: train_error=0.000274, test_error=0.000373\r",
      " iteration 480: train_error=0.000274, test_error=0.000373"
     ]
    },
    {
     "name": "stdout",
     "output_type": "stream",
     "text": [
      "\r",
      " iteration 490: train_error=0.000273, test_error=0.000373\r",
      " iteration 500: train_error=0.000273, test_error=0.000372\r",
      " iteration 510: train_error=0.000273, test_error=0.000372"
     ]
    },
    {
     "name": "stdout",
     "output_type": "stream",
     "text": [
      "\r",
      " iteration 520: train_error=0.000272, test_error=0.000372\r",
      " iteration 530: train_error=0.000272, test_error=0.000372\r",
      " iteration 540: train_error=0.000271, test_error=0.000372"
     ]
    },
    {
     "name": "stdout",
     "output_type": "stream",
     "text": [
      "\r",
      " iteration 550: train_error=0.000271, test_error=0.000371\r",
      " iteration 560: train_error=0.000271, test_error=0.000371\r",
      " iteration 570: train_error=0.000270, test_error=0.000371"
     ]
    },
    {
     "name": "stdout",
     "output_type": "stream",
     "text": [
      "\r",
      " iteration 580: train_error=0.000270, test_error=0.000371\r",
      " iteration 590: train_error=0.000270, test_error=0.000370\r",
      " iteration 600: train_error=0.000269, test_error=0.000370"
     ]
    },
    {
     "name": "stdout",
     "output_type": "stream",
     "text": [
      "\r",
      " iteration 610: train_error=0.000269, test_error=0.000370\r",
      " iteration 620: train_error=0.000268, test_error=0.000370\r",
      " iteration 630: train_error=0.000268, test_error=0.000370"
     ]
    },
    {
     "name": "stdout",
     "output_type": "stream",
     "text": [
      "\r",
      " iteration 640: train_error=0.000268, test_error=0.000369\r",
      " iteration 650: train_error=0.000267, test_error=0.000369\r",
      " iteration 660: train_error=0.000267, test_error=0.000369"
     ]
    },
    {
     "name": "stdout",
     "output_type": "stream",
     "text": [
      "\r",
      " iteration 670: train_error=0.000266, test_error=0.000369\r",
      " iteration 680: train_error=0.000266, test_error=0.000369\r",
      " iteration 690: train_error=0.000266, test_error=0.000368"
     ]
    },
    {
     "name": "stdout",
     "output_type": "stream",
     "text": [
      "\r",
      " iteration 700: train_error=0.000265, test_error=0.000368\r",
      " iteration 710: train_error=0.000265, test_error=0.000368\r",
      " iteration 720: train_error=0.000265, test_error=0.000368"
     ]
    },
    {
     "name": "stdout",
     "output_type": "stream",
     "text": [
      "\r",
      " iteration 730: train_error=0.000264, test_error=0.000368\r",
      " iteration 740: train_error=0.000264, test_error=0.000367"
     ]
    },
    {
     "name": "stdout",
     "output_type": "stream",
     "text": [
      "\r",
      " iteration 750: train_error=0.000264, test_error=0.000367\r",
      " iteration 760: train_error=0.000263, test_error=0.000367\r",
      " iteration 770: train_error=0.000263, test_error=0.000367"
     ]
    },
    {
     "name": "stdout",
     "output_type": "stream",
     "text": [
      "\r",
      " iteration 780: train_error=0.000262, test_error=0.000367\r",
      " iteration 790: train_error=0.000262, test_error=0.000366\r",
      " iteration 800: train_error=0.000262, test_error=0.000366"
     ]
    },
    {
     "name": "stdout",
     "output_type": "stream",
     "text": [
      "\r",
      " iteration 810: train_error=0.000261, test_error=0.000366\r",
      " iteration 820: train_error=0.000261, test_error=0.000366\r",
      " iteration 830: train_error=0.000261, test_error=0.000366"
     ]
    },
    {
     "name": "stdout",
     "output_type": "stream",
     "text": [
      "\r",
      " iteration 840: train_error=0.000260, test_error=0.000366\r",
      " iteration 850: train_error=0.000260, test_error=0.000365\r",
      " iteration 860: train_error=0.000260, test_error=0.000365"
     ]
    },
    {
     "name": "stdout",
     "output_type": "stream",
     "text": [
      "\r",
      " iteration 870: train_error=0.000259, test_error=0.000365\r",
      " iteration 880: train_error=0.000259, test_error=0.000365\r",
      " iteration 890: train_error=0.000259, test_error=0.000365"
     ]
    },
    {
     "name": "stdout",
     "output_type": "stream",
     "text": [
      "\r",
      " iteration 900: train_error=0.000258, test_error=0.000364\r",
      " iteration 910: train_error=0.000258, test_error=0.000364\r",
      " iteration 920: train_error=0.000258, test_error=0.000364"
     ]
    },
    {
     "name": "stdout",
     "output_type": "stream",
     "text": [
      "\r",
      " iteration 930: train_error=0.000257, test_error=0.000364\r",
      " iteration 940: train_error=0.000257, test_error=0.000364\r",
      " iteration 950: train_error=0.000257, test_error=0.000364"
     ]
    },
    {
     "name": "stdout",
     "output_type": "stream",
     "text": [
      "\r",
      " iteration 960: train_error=0.000256, test_error=0.000363\r",
      " iteration 970: train_error=0.000256, test_error=0.000363\r",
      " iteration 980: train_error=0.000256, test_error=0.000363"
     ]
    },
    {
     "name": "stdout",
     "output_type": "stream",
     "text": [
      "\r",
      " iteration 990: train_error=0.000255, test_error=0.000363\r",
      " iteration 1000: train_error=0.000255, test_error=0.000363Nearest neighbors of : Johnny Cash.\n",
      "[Found more than one matching artist. Other candidates: Johnny Cash & Willie Nelson]\n"
     ]
    },
    {
     "data": {
      "text/html": [
       "<div>\n",
       "<style scoped>\n",
       "    .dataframe tbody tr th:only-of-type {\n",
       "        vertical-align: middle;\n",
       "    }\n",
       "\n",
       "    .dataframe tbody tr th {\n",
       "        vertical-align: top;\n",
       "    }\n",
       "\n",
       "    .dataframe thead th {\n",
       "        text-align: right;\n",
       "    }\n",
       "</style>\n",
       "<table border=\"1\" class=\"dataframe\">\n",
       "  <thead>\n",
       "    <tr style=\"text-align: right;\">\n",
       "      <th></th>\n",
       "      <th>dot score</th>\n",
       "      <th>names</th>\n",
       "    </tr>\n",
       "  </thead>\n",
       "  <tbody>\n",
       "    <tr>\n",
       "      <th>712</th>\n",
       "      <td>0.070318</td>\n",
       "      <td>Johnny Cash</td>\n",
       "    </tr>\n",
       "    <tr>\n",
       "      <th>2708</th>\n",
       "      <td>0.054249</td>\n",
       "      <td>Gidropony</td>\n",
       "    </tr>\n",
       "    <tr>\n",
       "      <th>7154</th>\n",
       "      <td>0.051584</td>\n",
       "      <td>Jack White &amp; Alicia Keys</td>\n",
       "    </tr>\n",
       "    <tr>\n",
       "      <th>13462</th>\n",
       "      <td>0.049577</td>\n",
       "      <td>Siria</td>\n",
       "    </tr>\n",
       "    <tr>\n",
       "      <th>16133</th>\n",
       "      <td>0.049458</td>\n",
       "      <td>Benjamin Wetherill</td>\n",
       "    </tr>\n",
       "    <tr>\n",
       "      <th>4091</th>\n",
       "      <td>0.048504</td>\n",
       "      <td>LeCrae</td>\n",
       "    </tr>\n",
       "  </tbody>\n",
       "</table>\n",
       "</div>"
      ],
      "text/plain": [
       "       dot score                     names\n",
       "712     0.070318               Johnny Cash\n",
       "2708    0.054249                 Gidropony\n",
       "7154    0.051584  Jack White & Alicia Keys\n",
       "13462   0.049577                     Siria\n",
       "16133   0.049458        Benjamin Wetherill\n",
       "4091    0.048504                    LeCrae"
      ]
     },
     "metadata": {},
     "output_type": "display_data"
    },
    {
     "name": "stdout",
     "output_type": "stream",
     "text": [
      "Nearest neighbors of : Johnny Cash.\n",
      "[Found more than one matching artist. Other candidates: Johnny Cash & Willie Nelson]\n"
     ]
    },
    {
     "data": {
      "text/html": [
       "<div>\n",
       "<style scoped>\n",
       "    .dataframe tbody tr th:only-of-type {\n",
       "        vertical-align: middle;\n",
       "    }\n",
       "\n",
       "    .dataframe tbody tr th {\n",
       "        vertical-align: top;\n",
       "    }\n",
       "\n",
       "    .dataframe thead th {\n",
       "        text-align: right;\n",
       "    }\n",
       "</style>\n",
       "<table border=\"1\" class=\"dataframe\">\n",
       "  <thead>\n",
       "    <tr style=\"text-align: right;\">\n",
       "      <th></th>\n",
       "      <th>cosine score</th>\n",
       "      <th>names</th>\n",
       "    </tr>\n",
       "  </thead>\n",
       "  <tbody>\n",
       "    <tr>\n",
       "      <th>712</th>\n",
       "      <td>1.000000</td>\n",
       "      <td>Johnny Cash</td>\n",
       "    </tr>\n",
       "    <tr>\n",
       "      <th>2708</th>\n",
       "      <td>0.655261</td>\n",
       "      <td>Gidropony</td>\n",
       "    </tr>\n",
       "    <tr>\n",
       "      <th>1007</th>\n",
       "      <td>0.619879</td>\n",
       "      <td>Novaspace</td>\n",
       "    </tr>\n",
       "    <tr>\n",
       "      <th>16133</th>\n",
       "      <td>0.604852</td>\n",
       "      <td>Benjamin Wetherill</td>\n",
       "    </tr>\n",
       "    <tr>\n",
       "      <th>13462</th>\n",
       "      <td>0.601102</td>\n",
       "      <td>Siria</td>\n",
       "    </tr>\n",
       "    <tr>\n",
       "      <th>5486</th>\n",
       "      <td>0.591738</td>\n",
       "      <td>Emigrate</td>\n",
       "    </tr>\n",
       "  </tbody>\n",
       "</table>\n",
       "</div>"
      ],
      "text/plain": [
       "       cosine score               names\n",
       "712        1.000000         Johnny Cash\n",
       "2708       0.655261           Gidropony\n",
       "1007       0.619879           Novaspace\n",
       "16133      0.604852  Benjamin Wetherill\n",
       "13462      0.601102               Siria\n",
       "5486       0.591738            Emigrate"
      ]
     },
     "metadata": {},
     "output_type": "display_data"
    },
    {
     "data": {
      "image/png": "[encoded data removed]",
      "text/plain": [
       "<Figure size 1440x576 with 1 Axes>"
      ]
     },
     "metadata": {
      "filenames": {
       "image/png": "/Users/dockreg/ca4015_assignment_3/book/_build/jupyter_execute/Recommender_System_39_38.png"
      },
      "needs_background": "light"
     },
     "output_type": "display_data"
    }
   ],
   "source": [
    "# Solution\n",
    "model_lowinit = build_model(user_artists_norm, embedding_dim=30, init_stddev=0.05)\n",
    "model_lowinit.train(num_iterations=1000, learning_rate=10.)\n",
    "artist_neighbors(model_lowinit, \"Johnny Cash\", DOT)\n",
    "artist_neighbors(model_lowinit, \"Johnny Cash\", COSINE)\n",
    "#movie_embedding_norm([model, model_lowinit])"
   ]
  },
  {
   "cell_type": "markdown",
   "id": "d413918a",
   "metadata": {},
   "source": [
    "## 4) Regularization In Matrix Factorization\n",
    "\n",
    "In the code above, loss was defined as the mean squared error on the observed part of the rating matrix.  This can often cause issues when the model does not learn how to place the embeddings of irrelevant artists. This is called *folding*.\n",
    "\n",
    "We add some regularization terms to deal with this problem:\n",
    "- Regularization of the model parameters. This is a common regularization term on the embedding matrices, given by \n",
    "$$\n",
    "r(U, V) =  \\frac{1}{N} \\sum_i \\|U_i\\|^2 + \\frac{1}{M}\\sum_j \\|V_j\\|^2\n",
    "$$\n",
    "- A global prior that pushes the prediction of any pair towards zero, called the *gravity* term. This is given by \n",
    "$$\n",
    "g(U, V) = \\frac{1}{MN} \\sum_{i = 1}^N \\sum_{j = 1}^M \\langle U_i, V_j \\rangle^2\n",
    "$$\n",
    "\n",
    "Total loss can now be calculated as:\n",
    "$$\n",
    "\\frac{1}{|\\Omega|}\\sum_{(i, j) \\in \\Omega} (A_{ij} - \\langle U_i, V_j\\rangle)^2 + \\lambda _r r(U, V) + \\lambda_g g(U, V)\n",
    "$$"
   ]
  },
  {
   "cell_type": "code",
   "execution_count": 22,
   "id": "d510c4e3",
   "metadata": {},
   "outputs": [],
   "source": [
    "\n",
    "def gravity(U, V):\n",
    "  return 1. / (U.shape[0].value*V.shape[0].value) * tf.reduce_sum(\n",
    "      tf.matmul(U, U, transpose_a=True) * tf.matmul(V, V, transpose_a=True))\n",
    "\n",
    "def build_regularized_model(\n",
    "    ratings, embedding_dim=3, regularization_coeff=.1, gravity_coeff=1.,\n",
    "    init_stddev=0.1):\n",
    "  # Split the ratings DataFrame into train and test.\n",
    "  train_ratings, test_ratings = split_dataframe(ratings)\n",
    "  # SparseTensor representation of the train and test datasets.\n",
    "  A_train = build_rating_sparse_tensor(train_ratings)\n",
    "  A_test = build_rating_sparse_tensor(test_ratings)\n",
    "  U = tf.Variable(tf.random_normal(\n",
    "      [A_train.dense_shape[0], embedding_dim], stddev=init_stddev))\n",
    "  V = tf.Variable(tf.random_normal(\n",
    "      [A_train.dense_shape[1], embedding_dim], stddev=init_stddev))\n",
    "\n",
    "  error_train = sparse_mean_square_error(A_train, U, V)\n",
    "  error_test = sparse_mean_square_error(A_test, U, V)\n",
    "  gravity_loss = gravity_coeff * gravity(U, V)\n",
    "  regularization_loss = regularization_coeff * (\n",
    "      tf.reduce_sum(U*U)/U.shape[0].value + tf.reduce_sum(V*V)/V.shape[0].value)\n",
    "  total_loss = error_train + regularization_loss + gravity_loss\n",
    "  losses = {\n",
    "      'train_error_observed': error_train,\n",
    "      'test_error_observed': error_test,\n",
    "  }\n",
    "  loss_components = {\n",
    "      'observed_loss': error_train,\n",
    "      'regularization_loss': regularization_loss,\n",
    "      'gravity_loss': gravity_loss,\n",
    "  }\n",
    "  embeddings = {\"userId\": U, \"artistID\": V}\n",
    "\n",
    "  return CFModel(embeddings, total_loss, [losses, loss_components])"
   ]
  },
  {
   "cell_type": "markdown",
   "id": "ec9d8f97",
   "metadata": {},
   "source": [
    "We build the regularised model and observe the results"
   ]
  },
  {
   "cell_type": "code",
   "execution_count": 23,
   "id": "8d3e08dd",
   "metadata": {},
   "outputs": [
    {
     "name": "stdout",
     "output_type": "stream",
     "text": [
      "\r",
      " iteration 0: train_error_observed=0.000341, test_error_observed=0.000313, observed_loss=0.000341, regularization_loss=0.017579, gravity_loss=0.000221\r",
      " iteration 10: train_error_observed=0.000329, test_error_observed=0.000302, observed_loss=0.000329, regularization_loss=0.017153, gravity_loss=0.000210"
     ]
    },
    {
     "name": "stdout",
     "output_type": "stream",
     "text": [
      "\r",
      " iteration 20: train_error_observed=0.000318, test_error_observed=0.000292, observed_loss=0.000318, regularization_loss=0.016745, gravity_loss=0.000200\r",
      " iteration 30: train_error_observed=0.000308, test_error_observed=0.000282, observed_loss=0.000308, regularization_loss=0.016352, gravity_loss=0.000190"
     ]
    },
    {
     "name": "stdout",
     "output_type": "stream",
     "text": [
      "\r",
      " iteration 40: train_error_observed=0.000298, test_error_observed=0.000273, observed_loss=0.000298, regularization_loss=0.015976, gravity_loss=0.000181\r",
      " iteration 50: train_error_observed=0.000289, test_error_observed=0.000264, observed_loss=0.000289, regularization_loss=0.015614, gravity_loss=0.000173"
     ]
    },
    {
     "name": "stdout",
     "output_type": "stream",
     "text": [
      "\r",
      " iteration 60: train_error_observed=0.000280, test_error_observed=0.000256, observed_loss=0.000280, regularization_loss=0.015267, gravity_loss=0.000164\r",
      " iteration 70: train_error_observed=0.000272, test_error_observed=0.000248, observed_loss=0.000272, regularization_loss=0.014933, gravity_loss=0.000156"
     ]
    },
    {
     "name": "stdout",
     "output_type": "stream",
     "text": [
      "\r",
      " iteration 80: train_error_observed=0.000264, test_error_observed=0.000241, observed_loss=0.000264, regularization_loss=0.014612, gravity_loss=0.000149\r",
      " iteration 90: train_error_observed=0.000257, test_error_observed=0.000233, observed_loss=0.000257, regularization_loss=0.014304, gravity_loss=0.000142"
     ]
    },
    {
     "name": "stdout",
     "output_type": "stream",
     "text": [
      "\r",
      " iteration 100: train_error_observed=0.000249, test_error_observed=0.000227, observed_loss=0.000249, regularization_loss=0.014008, gravity_loss=0.000135\r",
      " iteration 110: train_error_observed=0.000243, test_error_observed=0.000220, observed_loss=0.000243, regularization_loss=0.013723, gravity_loss=0.000129"
     ]
    },
    {
     "name": "stdout",
     "output_type": "stream",
     "text": [
      "\r",
      " iteration 120: train_error_observed=0.000236, test_error_observed=0.000214, observed_loss=0.000236, regularization_loss=0.013450, gravity_loss=0.000122\r",
      " iteration 130: train_error_observed=0.000230, test_error_observed=0.000208, observed_loss=0.000230, regularization_loss=0.013186, gravity_loss=0.000117"
     ]
    },
    {
     "name": "stdout",
     "output_type": "stream",
     "text": [
      "\r",
      " iteration 140: train_error_observed=0.000225, test_error_observed=0.000203, observed_loss=0.000225, regularization_loss=0.012933, gravity_loss=0.000111\r",
      " iteration 150: train_error_observed=0.000219, test_error_observed=0.000198, observed_loss=0.000219, regularization_loss=0.012689, gravity_loss=0.000106"
     ]
    },
    {
     "name": "stdout",
     "output_type": "stream",
     "text": [
      "\r",
      " iteration 160: train_error_observed=0.000214, test_error_observed=0.000193, observed_loss=0.000214, regularization_loss=0.012455, gravity_loss=0.000101\r",
      " iteration 170: train_error_observed=0.000209, test_error_observed=0.000188, observed_loss=0.000209, regularization_loss=0.012229, gravity_loss=0.000096"
     ]
    },
    {
     "name": "stdout",
     "output_type": "stream",
     "text": [
      "\r",
      " iteration 180: train_error_observed=0.000205, test_error_observed=0.000183, observed_loss=0.000205, regularization_loss=0.012012, gravity_loss=0.000091\r",
      " iteration 190: train_error_observed=0.000200, test_error_observed=0.000179, observed_loss=0.000200, regularization_loss=0.011803, gravity_loss=0.000087"
     ]
    },
    {
     "name": "stdout",
     "output_type": "stream",
     "text": [
      "\r",
      " iteration 200: train_error_observed=0.000196, test_error_observed=0.000175, observed_loss=0.000196, regularization_loss=0.011601, gravity_loss=0.000083\r",
      " iteration 210: train_error_observed=0.000192, test_error_observed=0.000171, observed_loss=0.000192, regularization_loss=0.011407, gravity_loss=0.000079"
     ]
    },
    {
     "name": "stdout",
     "output_type": "stream",
     "text": [
      "\r",
      " iteration 220: train_error_observed=0.000188, test_error_observed=0.000168, observed_loss=0.000188, regularization_loss=0.011220, gravity_loss=0.000075\r",
      " iteration 230: train_error_observed=0.000185, test_error_observed=0.000164, observed_loss=0.000185, regularization_loss=0.011039, gravity_loss=0.000072"
     ]
    },
    {
     "name": "stdout",
     "output_type": "stream",
     "text": [
      "\r",
      " iteration 240: train_error_observed=0.000181, test_error_observed=0.000161, observed_loss=0.000181, regularization_loss=0.010865, gravity_loss=0.000068\r",
      " iteration 250: train_error_observed=0.000178, test_error_observed=0.000158, observed_loss=0.000178, regularization_loss=0.010697, gravity_loss=0.000065"
     ]
    },
    {
     "name": "stdout",
     "output_type": "stream",
     "text": [
      "\r",
      " iteration 260: train_error_observed=0.000175, test_error_observed=0.000155, observed_loss=0.000175, regularization_loss=0.010536, gravity_loss=0.000062\r",
      " iteration 270: train_error_observed=0.000172, test_error_observed=0.000152, observed_loss=0.000172, regularization_loss=0.010379, gravity_loss=0.000059"
     ]
    },
    {
     "name": "stdout",
     "output_type": "stream",
     "text": [
      "\r",
      " iteration 280: train_error_observed=0.000169, test_error_observed=0.000149, observed_loss=0.000169, regularization_loss=0.010229, gravity_loss=0.000056\r",
      " iteration 290: train_error_observed=0.000167, test_error_observed=0.000146, observed_loss=0.000167, regularization_loss=0.010083, gravity_loss=0.000053"
     ]
    },
    {
     "name": "stdout",
     "output_type": "stream",
     "text": [
      "\r",
      " iteration 300: train_error_observed=0.000164, test_error_observed=0.000144, observed_loss=0.000164, regularization_loss=0.009942, gravity_loss=0.000051\r",
      " iteration 310: train_error_observed=0.000162, test_error_observed=0.000142, observed_loss=0.000162, regularization_loss=0.009806, gravity_loss=0.000048"
     ]
    },
    {
     "name": "stdout",
     "output_type": "stream",
     "text": [
      "\r",
      " iteration 320: train_error_observed=0.000160, test_error_observed=0.000139, observed_loss=0.000160, regularization_loss=0.009675, gravity_loss=0.000046\r",
      " iteration 330: train_error_observed=0.000158, test_error_observed=0.000137, observed_loss=0.000158, regularization_loss=0.009548, gravity_loss=0.000044"
     ]
    },
    {
     "name": "stdout",
     "output_type": "stream",
     "text": [
      "\r",
      " iteration 340: train_error_observed=0.000156, test_error_observed=0.000135, observed_loss=0.000156, regularization_loss=0.009425, gravity_loss=0.000042\r",
      " iteration 350: train_error_observed=0.000154, test_error_observed=0.000133, observed_loss=0.000154, regularization_loss=0.009307, gravity_loss=0.000040"
     ]
    },
    {
     "name": "stdout",
     "output_type": "stream",
     "text": [
      "\r",
      " iteration 360: train_error_observed=0.000152, test_error_observed=0.000132, observed_loss=0.000152, regularization_loss=0.009192, gravity_loss=0.000038\r",
      " iteration 370: train_error_observed=0.000150, test_error_observed=0.000130, observed_loss=0.000150, regularization_loss=0.009081, gravity_loss=0.000036"
     ]
    },
    {
     "name": "stdout",
     "output_type": "stream",
     "text": [
      "\r",
      " iteration 380: train_error_observed=0.000148, test_error_observed=0.000128, observed_loss=0.000148, regularization_loss=0.008973, gravity_loss=0.000034\r",
      " iteration 390: train_error_observed=0.000147, test_error_observed=0.000127, observed_loss=0.000147, regularization_loss=0.008869, gravity_loss=0.000033"
     ]
    },
    {
     "name": "stdout",
     "output_type": "stream",
     "text": [
      "\r",
      " iteration 400: train_error_observed=0.000145, test_error_observed=0.000125, observed_loss=0.000145, regularization_loss=0.008767, gravity_loss=0.000031\r",
      " iteration 410: train_error_observed=0.000144, test_error_observed=0.000124, observed_loss=0.000144, regularization_loss=0.008669, gravity_loss=0.000030"
     ]
    },
    {
     "name": "stdout",
     "output_type": "stream",
     "text": [
      "\r",
      " iteration 420: train_error_observed=0.000143, test_error_observed=0.000122, observed_loss=0.000143, regularization_loss=0.008574, gravity_loss=0.000028\r",
      " iteration 430: train_error_observed=0.000141, test_error_observed=0.000121, observed_loss=0.000141, regularization_loss=0.008482, gravity_loss=0.000027"
     ]
    },
    {
     "name": "stdout",
     "output_type": "stream",
     "text": [
      "\r",
      " iteration 440: train_error_observed=0.000140, test_error_observed=0.000120, observed_loss=0.000140, regularization_loss=0.008393, gravity_loss=0.000026\r",
      " iteration 450: train_error_observed=0.000139, test_error_observed=0.000119, observed_loss=0.000139, regularization_loss=0.008306, gravity_loss=0.000025"
     ]
    },
    {
     "name": "stdout",
     "output_type": "stream",
     "text": [
      "\r",
      " iteration 460: train_error_observed=0.000138, test_error_observed=0.000118, observed_loss=0.000138, regularization_loss=0.008221, gravity_loss=0.000023\r",
      " iteration 470: train_error_observed=0.000137, test_error_observed=0.000116, observed_loss=0.000137, regularization_loss=0.008140, gravity_loss=0.000022"
     ]
    },
    {
     "name": "stdout",
     "output_type": "stream",
     "text": [
      "\r",
      " iteration 480: train_error_observed=0.000136, test_error_observed=0.000115, observed_loss=0.000136, regularization_loss=0.008060, gravity_loss=0.000021\r",
      " iteration 490: train_error_observed=0.000135, test_error_observed=0.000114, observed_loss=0.000135, regularization_loss=0.007982, gravity_loss=0.000020"
     ]
    },
    {
     "name": "stdout",
     "output_type": "stream",
     "text": [
      "\r",
      " iteration 500: train_error_observed=0.000134, test_error_observed=0.000114, observed_loss=0.000134, regularization_loss=0.007907, gravity_loss=0.000019\r",
      " iteration 510: train_error_observed=0.000133, test_error_observed=0.000113, observed_loss=0.000133, regularization_loss=0.007834, gravity_loss=0.000018"
     ]
    },
    {
     "name": "stdout",
     "output_type": "stream",
     "text": [
      "\r",
      " iteration 520: train_error_observed=0.000132, test_error_observed=0.000112, observed_loss=0.000132, regularization_loss=0.007763, gravity_loss=0.000017\r",
      " iteration 530: train_error_observed=0.000132, test_error_observed=0.000111, observed_loss=0.000132, regularization_loss=0.007693, gravity_loss=0.000017"
     ]
    },
    {
     "name": "stdout",
     "output_type": "stream",
     "text": [
      "\r",
      " iteration 540: train_error_observed=0.000131, test_error_observed=0.000110, observed_loss=0.000131, regularization_loss=0.007625, gravity_loss=0.000016\r",
      " iteration 550: train_error_observed=0.000130, test_error_observed=0.000110, observed_loss=0.000130, regularization_loss=0.007560, gravity_loss=0.000015"
     ]
    },
    {
     "name": "stdout",
     "output_type": "stream",
     "text": [
      "\r",
      " iteration 560: train_error_observed=0.000129, test_error_observed=0.000109, observed_loss=0.000129, regularization_loss=0.007495, gravity_loss=0.000014\r",
      " iteration 570: train_error_observed=0.000129, test_error_observed=0.000108, observed_loss=0.000129, regularization_loss=0.007433, gravity_loss=0.000014"
     ]
    },
    {
     "name": "stdout",
     "output_type": "stream",
     "text": [
      "\r",
      " iteration 580: train_error_observed=0.000128, test_error_observed=0.000108, observed_loss=0.000128, regularization_loss=0.007371, gravity_loss=0.000013\r",
      " iteration 590: train_error_observed=0.000128, test_error_observed=0.000107, observed_loss=0.000128, regularization_loss=0.007312, gravity_loss=0.000012"
     ]
    },
    {
     "name": "stdout",
     "output_type": "stream",
     "text": [
      "\r",
      " iteration 600: train_error_observed=0.000127, test_error_observed=0.000106, observed_loss=0.000127, regularization_loss=0.007253, gravity_loss=0.000012\r",
      " iteration 610: train_error_observed=0.000127, test_error_observed=0.000106, observed_loss=0.000127, regularization_loss=0.007197, gravity_loss=0.000011"
     ]
    },
    {
     "name": "stdout",
     "output_type": "stream",
     "text": [
      "\r",
      " iteration 620: train_error_observed=0.000126, test_error_observed=0.000105, observed_loss=0.000126, regularization_loss=0.007141, gravity_loss=0.000011\r",
      " iteration 630: train_error_observed=0.000126, test_error_observed=0.000105, observed_loss=0.000126, regularization_loss=0.007086, gravity_loss=0.000010"
     ]
    },
    {
     "name": "stdout",
     "output_type": "stream",
     "text": [
      "\r",
      " iteration 640: train_error_observed=0.000125, test_error_observed=0.000104, observed_loss=0.000125, regularization_loss=0.007033, gravity_loss=0.000010\r",
      " iteration 650: train_error_observed=0.000125, test_error_observed=0.000104, observed_loss=0.000125, regularization_loss=0.006981, gravity_loss=0.000009"
     ]
    },
    {
     "name": "stdout",
     "output_type": "stream",
     "text": [
      "\r",
      " iteration 660: train_error_observed=0.000124, test_error_observed=0.000104, observed_loss=0.000124, regularization_loss=0.006930, gravity_loss=0.000009\r",
      " iteration 670: train_error_observed=0.000124, test_error_observed=0.000103, observed_loss=0.000124, regularization_loss=0.006880, gravity_loss=0.000008"
     ]
    },
    {
     "name": "stdout",
     "output_type": "stream",
     "text": [
      "\r",
      " iteration 680: train_error_observed=0.000124, test_error_observed=0.000103, observed_loss=0.000124, regularization_loss=0.006832, gravity_loss=0.000008\r",
      " iteration 690: train_error_observed=0.000123, test_error_observed=0.000102, observed_loss=0.000123, regularization_loss=0.006784, gravity_loss=0.000008"
     ]
    },
    {
     "name": "stdout",
     "output_type": "stream",
     "text": [
      "\r",
      " iteration 700: train_error_observed=0.000123, test_error_observed=0.000102, observed_loss=0.000123, regularization_loss=0.006737, gravity_loss=0.000007\r",
      " iteration 710: train_error_observed=0.000123, test_error_observed=0.000102, observed_loss=0.000123, regularization_loss=0.006691, gravity_loss=0.000007"
     ]
    },
    {
     "name": "stdout",
     "output_type": "stream",
     "text": [
      "\r",
      " iteration 720: train_error_observed=0.000122, test_error_observed=0.000101, observed_loss=0.000122, regularization_loss=0.006646, gravity_loss=0.000007\r",
      " iteration 730: train_error_observed=0.000122, test_error_observed=0.000101, observed_loss=0.000122, regularization_loss=0.006601, gravity_loss=0.000006"
     ]
    },
    {
     "name": "stdout",
     "output_type": "stream",
     "text": [
      "\r",
      " iteration 740: train_error_observed=0.000122, test_error_observed=0.000101, observed_loss=0.000122, regularization_loss=0.006558, gravity_loss=0.000006\r",
      " iteration 750: train_error_observed=0.000122, test_error_observed=0.000101, observed_loss=0.000122, regularization_loss=0.006515, gravity_loss=0.000006"
     ]
    },
    {
     "name": "stdout",
     "output_type": "stream",
     "text": [
      "\r",
      " iteration 760: train_error_observed=0.000121, test_error_observed=0.000100, observed_loss=0.000121, regularization_loss=0.006473, gravity_loss=0.000005\r",
      " iteration 770: train_error_observed=0.000121, test_error_observed=0.000100, observed_loss=0.000121, regularization_loss=0.006432, gravity_loss=0.000005"
     ]
    },
    {
     "name": "stdout",
     "output_type": "stream",
     "text": [
      "\r",
      " iteration 780: train_error_observed=0.000121, test_error_observed=0.000100, observed_loss=0.000121, regularization_loss=0.006391, gravity_loss=0.000005\r",
      " iteration 790: train_error_observed=0.000121, test_error_observed=0.000100, observed_loss=0.000121, regularization_loss=0.006352, gravity_loss=0.000005"
     ]
    },
    {
     "name": "stdout",
     "output_type": "stream",
     "text": [
      "\r",
      " iteration 800: train_error_observed=0.000120, test_error_observed=0.000099, observed_loss=0.000120, regularization_loss=0.006312, gravity_loss=0.000005\r",
      " iteration 810: train_error_observed=0.000120, test_error_observed=0.000099, observed_loss=0.000120, regularization_loss=0.006274, gravity_loss=0.000004"
     ]
    },
    {
     "name": "stdout",
     "output_type": "stream",
     "text": [
      "\r",
      " iteration 820: train_error_observed=0.000120, test_error_observed=0.000099, observed_loss=0.000120, regularization_loss=0.006236, gravity_loss=0.000004\r",
      " iteration 830: train_error_observed=0.000120, test_error_observed=0.000099, observed_loss=0.000120, regularization_loss=0.006198, gravity_loss=0.000004"
     ]
    },
    {
     "name": "stdout",
     "output_type": "stream",
     "text": [
      "\r",
      " iteration 840: train_error_observed=0.000120, test_error_observed=0.000099, observed_loss=0.000120, regularization_loss=0.006162, gravity_loss=0.000004\r",
      " iteration 850: train_error_observed=0.000120, test_error_observed=0.000099, observed_loss=0.000120, regularization_loss=0.006125, gravity_loss=0.000004"
     ]
    },
    {
     "name": "stdout",
     "output_type": "stream",
     "text": [
      "\r",
      " iteration 860: train_error_observed=0.000120, test_error_observed=0.000098, observed_loss=0.000120, regularization_loss=0.006090, gravity_loss=0.000003\r",
      " iteration 870: train_error_observed=0.000119, test_error_observed=0.000098, observed_loss=0.000119, regularization_loss=0.006054, gravity_loss=0.000003"
     ]
    },
    {
     "name": "stdout",
     "output_type": "stream",
     "text": [
      "\r",
      " iteration 880: train_error_observed=0.000119, test_error_observed=0.000098, observed_loss=0.000119, regularization_loss=0.006020, gravity_loss=0.000003\r",
      " iteration 890: train_error_observed=0.000119, test_error_observed=0.000098, observed_loss=0.000119, regularization_loss=0.005985, gravity_loss=0.000003"
     ]
    },
    {
     "name": "stdout",
     "output_type": "stream",
     "text": [
      "\r",
      " iteration 900: train_error_observed=0.000119, test_error_observed=0.000098, observed_loss=0.000119, regularization_loss=0.005952, gravity_loss=0.000003\r",
      " iteration 910: train_error_observed=0.000119, test_error_observed=0.000098, observed_loss=0.000119, regularization_loss=0.005918, gravity_loss=0.000003"
     ]
    },
    {
     "name": "stdout",
     "output_type": "stream",
     "text": [
      "\r",
      " iteration 920: train_error_observed=0.000119, test_error_observed=0.000098, observed_loss=0.000119, regularization_loss=0.005885, gravity_loss=0.000003\r",
      " iteration 930: train_error_observed=0.000119, test_error_observed=0.000097, observed_loss=0.000119, regularization_loss=0.005853, gravity_loss=0.000002"
     ]
    },
    {
     "name": "stdout",
     "output_type": "stream",
     "text": [
      "\r",
      " iteration 940: train_error_observed=0.000119, test_error_observed=0.000097, observed_loss=0.000119, regularization_loss=0.005820, gravity_loss=0.000002\r",
      " iteration 950: train_error_observed=0.000119, test_error_observed=0.000097, observed_loss=0.000119, regularization_loss=0.005789, gravity_loss=0.000002"
     ]
    },
    {
     "name": "stdout",
     "output_type": "stream",
     "text": [
      "\r",
      " iteration 960: train_error_observed=0.000118, test_error_observed=0.000097, observed_loss=0.000118, regularization_loss=0.005757, gravity_loss=0.000002\r",
      " iteration 970: train_error_observed=0.000118, test_error_observed=0.000097, observed_loss=0.000118, regularization_loss=0.005726, gravity_loss=0.000002"
     ]
    },
    {
     "name": "stdout",
     "output_type": "stream",
     "text": [
      "\r",
      " iteration 980: train_error_observed=0.000118, test_error_observed=0.000097, observed_loss=0.000118, regularization_loss=0.005696, gravity_loss=0.000002\r",
      " iteration 990: train_error_observed=0.000118, test_error_observed=0.000097, observed_loss=0.000118, regularization_loss=0.005665, gravity_loss=0.000002"
     ]
    },
    {
     "name": "stdout",
     "output_type": "stream",
     "text": [
      "\r",
      " iteration 1000: train_error_observed=0.000118, test_error_observed=0.000097, observed_loss=0.000118, regularization_loss=0.005635, gravity_loss=0.000002\r",
      " iteration 1010: train_error_observed=0.000118, test_error_observed=0.000097, observed_loss=0.000118, regularization_loss=0.005606, gravity_loss=0.000002"
     ]
    },
    {
     "name": "stdout",
     "output_type": "stream",
     "text": [
      "\r",
      " iteration 1020: train_error_observed=0.000118, test_error_observed=0.000097, observed_loss=0.000118, regularization_loss=0.005576, gravity_loss=0.000002\r",
      " iteration 1030: train_error_observed=0.000118, test_error_observed=0.000097, observed_loss=0.000118, regularization_loss=0.005547, gravity_loss=0.000002"
     ]
    },
    {
     "name": "stdout",
     "output_type": "stream",
     "text": [
      "\r",
      " iteration 1040: train_error_observed=0.000118, test_error_observed=0.000096, observed_loss=0.000118, regularization_loss=0.005519, gravity_loss=0.000001\r",
      " iteration 1050: train_error_observed=0.000118, test_error_observed=0.000096, observed_loss=0.000118, regularization_loss=0.005490, gravity_loss=0.000001"
     ]
    },
    {
     "name": "stdout",
     "output_type": "stream",
     "text": [
      "\r",
      " iteration 1060: train_error_observed=0.000118, test_error_observed=0.000096, observed_loss=0.000118, regularization_loss=0.005462, gravity_loss=0.000001\r",
      " iteration 1070: train_error_observed=0.000118, test_error_observed=0.000096, observed_loss=0.000118, regularization_loss=0.005434, gravity_loss=0.000001"
     ]
    },
    {
     "name": "stdout",
     "output_type": "stream",
     "text": [
      "\r",
      " iteration 1080: train_error_observed=0.000118, test_error_observed=0.000096, observed_loss=0.000118, regularization_loss=0.005406, gravity_loss=0.000001\r",
      " iteration 1090: train_error_observed=0.000118, test_error_observed=0.000096, observed_loss=0.000118, regularization_loss=0.005379, gravity_loss=0.000001"
     ]
    },
    {
     "name": "stdout",
     "output_type": "stream",
     "text": [
      "\r",
      " iteration 1100: train_error_observed=0.000118, test_error_observed=0.000096, observed_loss=0.000118, regularization_loss=0.005352, gravity_loss=0.000001\r",
      " iteration 1110: train_error_observed=0.000118, test_error_observed=0.000096, observed_loss=0.000118, regularization_loss=0.005325, gravity_loss=0.000001"
     ]
    },
    {
     "name": "stdout",
     "output_type": "stream",
     "text": [
      "\r",
      " iteration 1120: train_error_observed=0.000118, test_error_observed=0.000096, observed_loss=0.000118, regularization_loss=0.005298, gravity_loss=0.000001\r",
      " iteration 1130: train_error_observed=0.000118, test_error_observed=0.000096, observed_loss=0.000118, regularization_loss=0.005272, gravity_loss=0.000001"
     ]
    },
    {
     "name": "stdout",
     "output_type": "stream",
     "text": [
      "\r",
      " iteration 1140: train_error_observed=0.000118, test_error_observed=0.000096, observed_loss=0.000118, regularization_loss=0.005246, gravity_loss=0.000001\r",
      " iteration 1150: train_error_observed=0.000118, test_error_observed=0.000096, observed_loss=0.000118, regularization_loss=0.005220, gravity_loss=0.000001"
     ]
    },
    {
     "name": "stdout",
     "output_type": "stream",
     "text": [
      "\r",
      " iteration 1160: train_error_observed=0.000118, test_error_observed=0.000096, observed_loss=0.000118, regularization_loss=0.005194, gravity_loss=0.000001\r",
      " iteration 1170: train_error_observed=0.000117, test_error_observed=0.000096, observed_loss=0.000117, regularization_loss=0.005168, gravity_loss=0.000001"
     ]
    },
    {
     "name": "stdout",
     "output_type": "stream",
     "text": [
      "\r",
      " iteration 1180: train_error_observed=0.000117, test_error_observed=0.000096, observed_loss=0.000117, regularization_loss=0.005143, gravity_loss=0.000001\r",
      " iteration 1190: train_error_observed=0.000117, test_error_observed=0.000096, observed_loss=0.000117, regularization_loss=0.005118, gravity_loss=0.000001"
     ]
    },
    {
     "name": "stdout",
     "output_type": "stream",
     "text": [
      "\r",
      " iteration 1200: train_error_observed=0.000117, test_error_observed=0.000096, observed_loss=0.000117, regularization_loss=0.005093, gravity_loss=0.000001\r",
      " iteration 1210: train_error_observed=0.000117, test_error_observed=0.000096, observed_loss=0.000117, regularization_loss=0.005068, gravity_loss=0.000001"
     ]
    },
    {
     "name": "stdout",
     "output_type": "stream",
     "text": [
      "\r",
      " iteration 1220: train_error_observed=0.000117, test_error_observed=0.000096, observed_loss=0.000117, regularization_loss=0.005043, gravity_loss=0.000001\r",
      " iteration 1230: train_error_observed=0.000117, test_error_observed=0.000096, observed_loss=0.000117, regularization_loss=0.005019, gravity_loss=0.000001"
     ]
    },
    {
     "name": "stdout",
     "output_type": "stream",
     "text": [
      "\r",
      " iteration 1240: train_error_observed=0.000117, test_error_observed=0.000096, observed_loss=0.000117, regularization_loss=0.004995, gravity_loss=0.000001\r",
      " iteration 1250: train_error_observed=0.000117, test_error_observed=0.000096, observed_loss=0.000117, regularization_loss=0.004971, gravity_loss=0.000001"
     ]
    },
    {
     "name": "stdout",
     "output_type": "stream",
     "text": [
      "\r",
      " iteration 1260: train_error_observed=0.000117, test_error_observed=0.000096, observed_loss=0.000117, regularization_loss=0.004947, gravity_loss=0.000001\r",
      " iteration 1270: train_error_observed=0.000117, test_error_observed=0.000096, observed_loss=0.000117, regularization_loss=0.004923, gravity_loss=0.000000"
     ]
    },
    {
     "name": "stdout",
     "output_type": "stream",
     "text": [
      "\r",
      " iteration 1280: train_error_observed=0.000117, test_error_observed=0.000096, observed_loss=0.000117, regularization_loss=0.004899, gravity_loss=0.000000\r",
      " iteration 1290: train_error_observed=0.000117, test_error_observed=0.000096, observed_loss=0.000117, regularization_loss=0.004876, gravity_loss=0.000000"
     ]
    },
    {
     "name": "stdout",
     "output_type": "stream",
     "text": [
      "\r",
      " iteration 1300: train_error_observed=0.000117, test_error_observed=0.000096, observed_loss=0.000117, regularization_loss=0.004853, gravity_loss=0.000000\r",
      " iteration 1310: train_error_observed=0.000117, test_error_observed=0.000095, observed_loss=0.000117, regularization_loss=0.004830, gravity_loss=0.000000"
     ]
    },
    {
     "name": "stdout",
     "output_type": "stream",
     "text": [
      "\r",
      " iteration 1320: train_error_observed=0.000117, test_error_observed=0.000095, observed_loss=0.000117, regularization_loss=0.004807, gravity_loss=0.000000\r",
      " iteration 1330: train_error_observed=0.000117, test_error_observed=0.000095, observed_loss=0.000117, regularization_loss=0.004784, gravity_loss=0.000000"
     ]
    },
    {
     "name": "stdout",
     "output_type": "stream",
     "text": [
      "\r",
      " iteration 1340: train_error_observed=0.000117, test_error_observed=0.000095, observed_loss=0.000117, regularization_loss=0.004761, gravity_loss=0.000000\r",
      " iteration 1350: train_error_observed=0.000117, test_error_observed=0.000095, observed_loss=0.000117, regularization_loss=0.004739, gravity_loss=0.000000"
     ]
    },
    {
     "name": "stdout",
     "output_type": "stream",
     "text": [
      "\r",
      " iteration 1360: train_error_observed=0.000117, test_error_observed=0.000095, observed_loss=0.000117, regularization_loss=0.004716, gravity_loss=0.000000\r",
      " iteration 1370: train_error_observed=0.000117, test_error_observed=0.000095, observed_loss=0.000117, regularization_loss=0.004694, gravity_loss=0.000000"
     ]
    },
    {
     "name": "stdout",
     "output_type": "stream",
     "text": [
      "\r",
      " iteration 1380: train_error_observed=0.000117, test_error_observed=0.000095, observed_loss=0.000117, regularization_loss=0.004672, gravity_loss=0.000000\r",
      " iteration 1390: train_error_observed=0.000117, test_error_observed=0.000095, observed_loss=0.000117, regularization_loss=0.004650, gravity_loss=0.000000"
     ]
    },
    {
     "name": "stdout",
     "output_type": "stream",
     "text": [
      "\r",
      " iteration 1400: train_error_observed=0.000117, test_error_observed=0.000095, observed_loss=0.000117, regularization_loss=0.004628, gravity_loss=0.000000\r",
      " iteration 1410: train_error_observed=0.000117, test_error_observed=0.000095, observed_loss=0.000117, regularization_loss=0.004607, gravity_loss=0.000000"
     ]
    },
    {
     "name": "stdout",
     "output_type": "stream",
     "text": [
      "\r",
      " iteration 1420: train_error_observed=0.000117, test_error_observed=0.000095, observed_loss=0.000117, regularization_loss=0.004585, gravity_loss=0.000000\r",
      " iteration 1430: train_error_observed=0.000117, test_error_observed=0.000095, observed_loss=0.000117, regularization_loss=0.004564, gravity_loss=0.000000"
     ]
    },
    {
     "name": "stdout",
     "output_type": "stream",
     "text": [
      "\r",
      " iteration 1440: train_error_observed=0.000117, test_error_observed=0.000095, observed_loss=0.000117, regularization_loss=0.004543, gravity_loss=0.000000\r",
      " iteration 1450: train_error_observed=0.000117, test_error_observed=0.000095, observed_loss=0.000117, regularization_loss=0.004521, gravity_loss=0.000000"
     ]
    },
    {
     "name": "stdout",
     "output_type": "stream",
     "text": [
      "\r",
      " iteration 1460: train_error_observed=0.000117, test_error_observed=0.000095, observed_loss=0.000117, regularization_loss=0.004500, gravity_loss=0.000000\r",
      " iteration 1470: train_error_observed=0.000117, test_error_observed=0.000095, observed_loss=0.000117, regularization_loss=0.004479, gravity_loss=0.000000"
     ]
    },
    {
     "name": "stdout",
     "output_type": "stream",
     "text": [
      "\r",
      " iteration 1480: train_error_observed=0.000117, test_error_observed=0.000095, observed_loss=0.000117, regularization_loss=0.004459, gravity_loss=0.000000\r",
      " iteration 1490: train_error_observed=0.000117, test_error_observed=0.000095, observed_loss=0.000117, regularization_loss=0.004438, gravity_loss=0.000000"
     ]
    },
    {
     "name": "stdout",
     "output_type": "stream",
     "text": [
      "\r",
      " iteration 1500: train_error_observed=0.000117, test_error_observed=0.000095, observed_loss=0.000117, regularization_loss=0.004417, gravity_loss=0.000000\r",
      " iteration 1510: train_error_observed=0.000117, test_error_observed=0.000095, observed_loss=0.000117, regularization_loss=0.004397, gravity_loss=0.000000"
     ]
    },
    {
     "name": "stdout",
     "output_type": "stream",
     "text": [
      "\r",
      " iteration 1520: train_error_observed=0.000117, test_error_observed=0.000095, observed_loss=0.000117, regularization_loss=0.004377, gravity_loss=0.000000\r",
      " iteration 1530: train_error_observed=0.000117, test_error_observed=0.000095, observed_loss=0.000117, regularization_loss=0.004356, gravity_loss=0.000000"
     ]
    },
    {
     "name": "stdout",
     "output_type": "stream",
     "text": [
      "\r",
      " iteration 1540: train_error_observed=0.000117, test_error_observed=0.000095, observed_loss=0.000117, regularization_loss=0.004336, gravity_loss=0.000000\r",
      " iteration 1550: train_error_observed=0.000117, test_error_observed=0.000095, observed_loss=0.000117, regularization_loss=0.004316, gravity_loss=0.000000"
     ]
    },
    {
     "name": "stdout",
     "output_type": "stream",
     "text": [
      "\r",
      " iteration 1560: train_error_observed=0.000117, test_error_observed=0.000095, observed_loss=0.000117, regularization_loss=0.004296, gravity_loss=0.000000\r",
      " iteration 1570: train_error_observed=0.000117, test_error_observed=0.000095, observed_loss=0.000117, regularization_loss=0.004276, gravity_loss=0.000000"
     ]
    },
    {
     "name": "stdout",
     "output_type": "stream",
     "text": [
      "\r",
      " iteration 1580: train_error_observed=0.000117, test_error_observed=0.000095, observed_loss=0.000117, regularization_loss=0.004257, gravity_loss=0.000000\r",
      " iteration 1590: train_error_observed=0.000117, test_error_observed=0.000095, observed_loss=0.000117, regularization_loss=0.004237, gravity_loss=0.000000"
     ]
    },
    {
     "name": "stdout",
     "output_type": "stream",
     "text": [
      "\r",
      " iteration 1600: train_error_observed=0.000117, test_error_observed=0.000095, observed_loss=0.000117, regularization_loss=0.004218, gravity_loss=0.000000\r",
      " iteration 1610: train_error_observed=0.000117, test_error_observed=0.000095, observed_loss=0.000117, regularization_loss=0.004198, gravity_loss=0.000000"
     ]
    },
    {
     "name": "stdout",
     "output_type": "stream",
     "text": [
      "\r",
      " iteration 1620: train_error_observed=0.000117, test_error_observed=0.000095, observed_loss=0.000117, regularization_loss=0.004179, gravity_loss=0.000000\r",
      " iteration 1630: train_error_observed=0.000117, test_error_observed=0.000095, observed_loss=0.000117, regularization_loss=0.004160, gravity_loss=0.000000"
     ]
    },
    {
     "name": "stdout",
     "output_type": "stream",
     "text": [
      "\r",
      " iteration 1640: train_error_observed=0.000117, test_error_observed=0.000095, observed_loss=0.000117, regularization_loss=0.004141, gravity_loss=0.000000\r",
      " iteration 1650: train_error_observed=0.000117, test_error_observed=0.000095, observed_loss=0.000117, regularization_loss=0.004122, gravity_loss=0.000000"
     ]
    },
    {
     "name": "stdout",
     "output_type": "stream",
     "text": [
      "\r",
      " iteration 1660: train_error_observed=0.000117, test_error_observed=0.000095, observed_loss=0.000117, regularization_loss=0.004103, gravity_loss=0.000000\r",
      " iteration 1670: train_error_observed=0.000117, test_error_observed=0.000095, observed_loss=0.000117, regularization_loss=0.004084, gravity_loss=0.000000"
     ]
    },
    {
     "name": "stdout",
     "output_type": "stream",
     "text": [
      "\r",
      " iteration 1680: train_error_observed=0.000117, test_error_observed=0.000095, observed_loss=0.000117, regularization_loss=0.004065, gravity_loss=0.000000\r",
      " iteration 1690: train_error_observed=0.000117, test_error_observed=0.000095, observed_loss=0.000117, regularization_loss=0.004047, gravity_loss=0.000000"
     ]
    },
    {
     "name": "stdout",
     "output_type": "stream",
     "text": [
      "\r",
      " iteration 1700: train_error_observed=0.000117, test_error_observed=0.000095, observed_loss=0.000117, regularization_loss=0.004028, gravity_loss=0.000000\r",
      " iteration 1710: train_error_observed=0.000117, test_error_observed=0.000095, observed_loss=0.000117, regularization_loss=0.004010, gravity_loss=0.000000"
     ]
    },
    {
     "name": "stdout",
     "output_type": "stream",
     "text": [
      "\r",
      " iteration 1720: train_error_observed=0.000117, test_error_observed=0.000095, observed_loss=0.000117, regularization_loss=0.003991, gravity_loss=0.000000\r",
      " iteration 1730: train_error_observed=0.000117, test_error_observed=0.000095, observed_loss=0.000117, regularization_loss=0.003973, gravity_loss=0.000000"
     ]
    },
    {
     "name": "stdout",
     "output_type": "stream",
     "text": [
      "\r",
      " iteration 1740: train_error_observed=0.000117, test_error_observed=0.000095, observed_loss=0.000117, regularization_loss=0.003955, gravity_loss=0.000000\r",
      " iteration 1750: train_error_observed=0.000117, test_error_observed=0.000095, observed_loss=0.000117, regularization_loss=0.003937, gravity_loss=0.000000"
     ]
    },
    {
     "name": "stdout",
     "output_type": "stream",
     "text": [
      "\r",
      " iteration 1760: train_error_observed=0.000117, test_error_observed=0.000095, observed_loss=0.000117, regularization_loss=0.003919, gravity_loss=0.000000\r",
      " iteration 1770: train_error_observed=0.000117, test_error_observed=0.000095, observed_loss=0.000117, regularization_loss=0.003901, gravity_loss=0.000000"
     ]
    },
    {
     "name": "stdout",
     "output_type": "stream",
     "text": [
      "\r",
      " iteration 1780: train_error_observed=0.000117, test_error_observed=0.000095, observed_loss=0.000117, regularization_loss=0.003883, gravity_loss=0.000000\r",
      " iteration 1790: train_error_observed=0.000117, test_error_observed=0.000095, observed_loss=0.000117, regularization_loss=0.003866, gravity_loss=0.000000"
     ]
    },
    {
     "name": "stdout",
     "output_type": "stream",
     "text": [
      "\r",
      " iteration 1800: train_error_observed=0.000117, test_error_observed=0.000095, observed_loss=0.000117, regularization_loss=0.003848, gravity_loss=0.000000\r",
      " iteration 1810: train_error_observed=0.000117, test_error_observed=0.000095, observed_loss=0.000117, regularization_loss=0.003830, gravity_loss=0.000000"
     ]
    },
    {
     "name": "stdout",
     "output_type": "stream",
     "text": [
      "\r",
      " iteration 1820: train_error_observed=0.000117, test_error_observed=0.000095, observed_loss=0.000117, regularization_loss=0.003813, gravity_loss=0.000000\r",
      " iteration 1830: train_error_observed=0.000117, test_error_observed=0.000095, observed_loss=0.000117, regularization_loss=0.003796, gravity_loss=0.000000"
     ]
    },
    {
     "name": "stdout",
     "output_type": "stream",
     "text": [
      "\r",
      " iteration 1840: train_error_observed=0.000117, test_error_observed=0.000095, observed_loss=0.000117, regularization_loss=0.003778, gravity_loss=0.000000\r",
      " iteration 1850: train_error_observed=0.000117, test_error_observed=0.000095, observed_loss=0.000117, regularization_loss=0.003761, gravity_loss=0.000000"
     ]
    },
    {
     "name": "stdout",
     "output_type": "stream",
     "text": [
      "\r",
      " iteration 1860: train_error_observed=0.000117, test_error_observed=0.000095, observed_loss=0.000117, regularization_loss=0.003744, gravity_loss=0.000000\r",
      " iteration 1870: train_error_observed=0.000117, test_error_observed=0.000095, observed_loss=0.000117, regularization_loss=0.003727, gravity_loss=0.000000"
     ]
    },
    {
     "name": "stdout",
     "output_type": "stream",
     "text": [
      "\r",
      " iteration 1880: train_error_observed=0.000117, test_error_observed=0.000095, observed_loss=0.000117, regularization_loss=0.003710, gravity_loss=0.000000\r",
      " iteration 1890: train_error_observed=0.000118, test_error_observed=0.000095, observed_loss=0.000118, regularization_loss=0.003693, gravity_loss=0.000000"
     ]
    },
    {
     "name": "stdout",
     "output_type": "stream",
     "text": [
      "\r",
      " iteration 1900: train_error_observed=0.000118, test_error_observed=0.000095, observed_loss=0.000118, regularization_loss=0.003676, gravity_loss=0.000000\r",
      " iteration 1910: train_error_observed=0.000118, test_error_observed=0.000095, observed_loss=0.000118, regularization_loss=0.003660, gravity_loss=0.000000"
     ]
    },
    {
     "name": "stdout",
     "output_type": "stream",
     "text": [
      "\r",
      " iteration 1920: train_error_observed=0.000118, test_error_observed=0.000095, observed_loss=0.000118, regularization_loss=0.003643, gravity_loss=0.000000\r",
      " iteration 1930: train_error_observed=0.000118, test_error_observed=0.000095, observed_loss=0.000118, regularization_loss=0.003626, gravity_loss=0.000000"
     ]
    },
    {
     "name": "stdout",
     "output_type": "stream",
     "text": [
      "\r",
      " iteration 1940: train_error_observed=0.000118, test_error_observed=0.000095, observed_loss=0.000118, regularization_loss=0.003610, gravity_loss=0.000000\r",
      " iteration 1950: train_error_observed=0.000118, test_error_observed=0.000095, observed_loss=0.000118, regularization_loss=0.003593, gravity_loss=0.000000"
     ]
    },
    {
     "name": "stdout",
     "output_type": "stream",
     "text": [
      "\r",
      " iteration 1960: train_error_observed=0.000118, test_error_observed=0.000095, observed_loss=0.000118, regularization_loss=0.003577, gravity_loss=0.000000\r",
      " iteration 1970: train_error_observed=0.000118, test_error_observed=0.000095, observed_loss=0.000118, regularization_loss=0.003561, gravity_loss=0.000000"
     ]
    },
    {
     "name": "stdout",
     "output_type": "stream",
     "text": [
      "\r",
      " iteration 1980: train_error_observed=0.000118, test_error_observed=0.000095, observed_loss=0.000118, regularization_loss=0.003545, gravity_loss=0.000000\r",
      " iteration 1990: train_error_observed=0.000118, test_error_observed=0.000095, observed_loss=0.000118, regularization_loss=0.003529, gravity_loss=0.000000"
     ]
    },
    {
     "name": "stdout",
     "output_type": "stream",
     "text": [
      "\r",
      " iteration 2000: train_error_observed=0.000118, test_error_observed=0.000095, observed_loss=0.000118, regularization_loss=0.003513, gravity_loss=0.000000"
     ]
    },
    {
     "data": {
      "text/plain": [
       "[{'train_error_observed': 0.000117582786,\n",
       "  'test_error_observed': 9.5125186e-05},\n",
       " {'observed_loss': 0.000117582786,\n",
       "  'regularization_loss': 0.0035125446,\n",
       "  'gravity_loss': 2.7568014e-08}]"
      ]
     },
     "execution_count": 23,
     "metadata": {},
     "output_type": "execute_result"
    },
    {
     "data": {
      "image/png": "[encoded data removed]",
      "text/plain": [
       "<Figure size 2160x576 with 2 Axes>"
      ]
     },
     "metadata": {
      "filenames": {
       "image/png": "/Users/dockreg/ca4015_assignment_3/book/_build/jupyter_execute/Recommender_System_43_102.png"
      },
      "needs_background": "light"
     },
     "output_type": "display_data"
    }
   ],
   "source": [
    "reg_model = build_regularized_model(\n",
    "    user_artists_norm, regularization_coeff=0.1, gravity_coeff=1.0, embedding_dim=35,\n",
    "    init_stddev=.05)\n",
    "reg_model.train(num_iterations=2000, learning_rate=20.)"
   ]
  },
  {
   "cell_type": "markdown",
   "id": "6d627c12",
   "metadata": {},
   "source": [
    "### Testing"
   ]
  },
  {
   "cell_type": "code",
   "execution_count": 24,
   "id": "e06b6b7e",
   "metadata": {
    "scrolled": false
   },
   "outputs": [
    {
     "name": "stdout",
     "output_type": "stream",
     "text": [
      "Nearest neighbors of : Johnny Cash.\n",
      "[Found more than one matching artist. Other candidates: Johnny Cash & Willie Nelson]\n"
     ]
    },
    {
     "data": {
      "text/html": [
       "<div>\n",
       "<style scoped>\n",
       "    .dataframe tbody tr th:only-of-type {\n",
       "        vertical-align: middle;\n",
       "    }\n",
       "\n",
       "    .dataframe tbody tr th {\n",
       "        vertical-align: top;\n",
       "    }\n",
       "\n",
       "    .dataframe thead th {\n",
       "        text-align: right;\n",
       "    }\n",
       "</style>\n",
       "<table border=\"1\" class=\"dataframe\">\n",
       "  <thead>\n",
       "    <tr style=\"text-align: right;\">\n",
       "      <th></th>\n",
       "      <th>dot score</th>\n",
       "      <th>names</th>\n",
       "    </tr>\n",
       "  </thead>\n",
       "  <tbody>\n",
       "    <tr>\n",
       "      <th>712</th>\n",
       "      <td>0.070318</td>\n",
       "      <td>Johnny Cash</td>\n",
       "    </tr>\n",
       "    <tr>\n",
       "      <th>2708</th>\n",
       "      <td>0.054249</td>\n",
       "      <td>Gidropony</td>\n",
       "    </tr>\n",
       "    <tr>\n",
       "      <th>7154</th>\n",
       "      <td>0.051584</td>\n",
       "      <td>Jack White &amp; Alicia Keys</td>\n",
       "    </tr>\n",
       "    <tr>\n",
       "      <th>13462</th>\n",
       "      <td>0.049577</td>\n",
       "      <td>Siria</td>\n",
       "    </tr>\n",
       "    <tr>\n",
       "      <th>16133</th>\n",
       "      <td>0.049458</td>\n",
       "      <td>Benjamin Wetherill</td>\n",
       "    </tr>\n",
       "    <tr>\n",
       "      <th>4091</th>\n",
       "      <td>0.048504</td>\n",
       "      <td>LeCrae</td>\n",
       "    </tr>\n",
       "  </tbody>\n",
       "</table>\n",
       "</div>"
      ],
      "text/plain": [
       "       dot score                     names\n",
       "712     0.070318               Johnny Cash\n",
       "2708    0.054249                 Gidropony\n",
       "7154    0.051584  Jack White & Alicia Keys\n",
       "13462   0.049577                     Siria\n",
       "16133   0.049458        Benjamin Wetherill\n",
       "4091    0.048504                    LeCrae"
      ]
     },
     "metadata": {},
     "output_type": "display_data"
    },
    {
     "name": "stdout",
     "output_type": "stream",
     "text": [
      "Nearest neighbors of : Johnny Cash.\n",
      "[Found more than one matching artist. Other candidates: Johnny Cash & Willie Nelson]\n"
     ]
    },
    {
     "data": {
      "text/html": [
       "<div>\n",
       "<style scoped>\n",
       "    .dataframe tbody tr th:only-of-type {\n",
       "        vertical-align: middle;\n",
       "    }\n",
       "\n",
       "    .dataframe tbody tr th {\n",
       "        vertical-align: top;\n",
       "    }\n",
       "\n",
       "    .dataframe thead th {\n",
       "        text-align: right;\n",
       "    }\n",
       "</style>\n",
       "<table border=\"1\" class=\"dataframe\">\n",
       "  <thead>\n",
       "    <tr style=\"text-align: right;\">\n",
       "      <th></th>\n",
       "      <th>cosine score</th>\n",
       "      <th>names</th>\n",
       "    </tr>\n",
       "  </thead>\n",
       "  <tbody>\n",
       "    <tr>\n",
       "      <th>712</th>\n",
       "      <td>1.000000</td>\n",
       "      <td>Johnny Cash</td>\n",
       "    </tr>\n",
       "    <tr>\n",
       "      <th>2708</th>\n",
       "      <td>0.655261</td>\n",
       "      <td>Gidropony</td>\n",
       "    </tr>\n",
       "    <tr>\n",
       "      <th>1007</th>\n",
       "      <td>0.619879</td>\n",
       "      <td>Novaspace</td>\n",
       "    </tr>\n",
       "    <tr>\n",
       "      <th>16133</th>\n",
       "      <td>0.604852</td>\n",
       "      <td>Benjamin Wetherill</td>\n",
       "    </tr>\n",
       "    <tr>\n",
       "      <th>13462</th>\n",
       "      <td>0.601102</td>\n",
       "      <td>Siria</td>\n",
       "    </tr>\n",
       "    <tr>\n",
       "      <th>5486</th>\n",
       "      <td>0.591738</td>\n",
       "      <td>Emigrate</td>\n",
       "    </tr>\n",
       "  </tbody>\n",
       "</table>\n",
       "</div>"
      ],
      "text/plain": [
       "       cosine score               names\n",
       "712        1.000000         Johnny Cash\n",
       "2708       0.655261           Gidropony\n",
       "1007       0.619879           Novaspace\n",
       "16133      0.604852  Benjamin Wetherill\n",
       "13462      0.601102               Siria\n",
       "5486       0.591738            Emigrate"
      ]
     },
     "metadata": {},
     "output_type": "display_data"
    }
   ],
   "source": [
    "artist_neighbors(model_lowinit, \"Johnny Cash\", DOT)\n",
    "artist_neighbors(model_lowinit, \"Johnny Cash\", COSINE)"
   ]
  },
  {
   "cell_type": "markdown",
   "id": "97b93670",
   "metadata": {},
   "source": [
    "## Results"
   ]
  },
  {
   "cell_type": "markdown",
   "id": "1be33a9f",
   "metadata": {},
   "source": [
    "Our recommender system is fully functional and outputs artists based on similarity metrics to whatever artist the user enters. The system appears to have some issues as there are often useful recommendations alongside other, not so useful recommendations. The inner workings of the systems need some work before this would be deemed acceptable however as a starting point it is a useful recommender system to be further fine tuned."
   ]
  },
  {
   "cell_type": "markdown",
   "id": "a31e2883",
   "metadata": {},
   "source": [
    "# Novel Lyrics Display\n",
    "\n",
    "This section details the novel lyrics aspect of this system. A user can input a favourite artist and song and will be returned some classic lyrics from that artist on screen."
   ]
  },
  {
   "cell_type": "code",
   "execution_count": 25,
   "id": "6eb350a4",
   "metadata": {
    "collapsed": true
   },
   "outputs": [
    {
     "name": "stdout",
     "output_type": "stream",
     "text": [
      "Requirement already satisfied: lyricsgenius in /Users/dockreg/anaconda3/lib/python3.7/site-packages (3.0.1)\r\n",
      "Requirement already satisfied: requests>=2.20.0 in /Users/dockreg/anaconda3/lib/python3.7/site-packages (from lyricsgenius) (2.26.0)\r\n",
      "Requirement already satisfied: beautifulsoup4>=4.6.0 in /Users/dockreg/anaconda3/lib/python3.7/site-packages (from lyricsgenius) (4.10.0)\r\n",
      "Requirement already satisfied: soupsieve>1.2 in /Users/dockreg/anaconda3/lib/python3.7/site-packages (from beautifulsoup4>=4.6.0->lyricsgenius) (2.2.1)\r\n"
     ]
    },
    {
     "name": "stdout",
     "output_type": "stream",
     "text": [
      "Requirement already satisfied: charset-normalizer~=2.0.0 in /Users/dockreg/anaconda3/lib/python3.7/site-packages (from requests>=2.20.0->lyricsgenius) (2.0.4)\r\n",
      "Requirement already satisfied: urllib3<1.27,>=1.21.1 in /Users/dockreg/anaconda3/lib/python3.7/site-packages (from requests>=2.20.0->lyricsgenius) (1.26.6)\r\n",
      "Requirement already satisfied: idna<4,>=2.5 in /Users/dockreg/anaconda3/lib/python3.7/site-packages (from requests>=2.20.0->lyricsgenius) (3.2)\r\n",
      "Requirement already satisfied: certifi>=2017.4.17 in /Users/dockreg/anaconda3/lib/python3.7/site-packages (from requests>=2.20.0->lyricsgenius) (2021.10.8)\r\n"
     ]
    },
    {
     "name": "stdout",
     "output_type": "stream",
     "text": [
      "Note: you may need to restart the kernel to use updated packages.\n"
     ]
    }
   ],
   "source": [
    "pip install lyricsgenius"
   ]
  },
  {
   "cell_type": "code",
   "execution_count": 26,
   "id": "b2603105",
   "metadata": {},
   "outputs": [],
   "source": [
    "import os\n",
    "import json\n",
    "import time"
   ]
  },
  {
   "cell_type": "markdown",
   "id": "a4d6652b",
   "metadata": {},
   "source": [
    "Token has been removed below after successfully running the API call"
   ]
  },
  {
   "cell_type": "code",
   "execution_count": 27,
   "id": "eb25d7db",
   "metadata": {},
   "outputs": [],
   "source": [
    "token = 'xxxxxxxxxxxxxxxxxxxxxxxxxxx'"
   ]
  },
  {
   "cell_type": "code",
   "execution_count": 28,
   "id": "251c061e",
   "metadata": {},
   "outputs": [],
   "source": [
    "import lyricsgenius as lg\n",
    "genius = lg.Genius(token)"
   ]
  },
  {
   "cell_type": "code",
   "execution_count": 29,
   "id": "fce9b10b",
   "metadata": {},
   "outputs": [],
   "source": [
    "song_title = \"Walk the line\"\n",
    "artist_name = \"Johnny Cash\""
   ]
  },
  {
   "cell_type": "code",
   "execution_count": 30,
   "id": "84ac4d15",
   "metadata": {
    "scrolled": true
   },
   "outputs": [
    {
     "name": "stdout",
     "output_type": "stream",
     "text": [
      "Searching for \"Walk the line\" by Johnny Cash...\n"
     ]
    },
    {
     "name": "stdout",
     "output_type": "stream",
     "text": [
      "Done.\n"
     ]
    }
   ],
   "source": [
    "song = genius.search_song(title=song_title, artist=artist_name)"
   ]
  },
  {
   "cell_type": "code",
   "execution_count": 31,
   "id": "e167ddae",
   "metadata": {},
   "outputs": [],
   "source": [
    "lyrics = song.lyrics"
   ]
  },
  {
   "cell_type": "code",
   "execution_count": 32,
   "id": "40fcfcec",
   "metadata": {},
   "outputs": [],
   "source": [
    "l=lyrics.split('\\n')"
   ]
  },
  {
   "cell_type": "code",
   "execution_count": 33,
   "id": "722a5739",
   "metadata": {
    "scrolled": false
   },
   "outputs": [
    {
     "name": "stdout",
     "output_type": "stream",
     "text": [
      "[Verse 1]\n",
      "I keep a close watch on this heart of mine\n",
      "I keep my eyes wide open all the time\n",
      "I keep the ends out for the tie that binds\n",
      "Because you're mine, I walk the line\n",
      "\n",
      "[Verse 2]\n",
      "I find it very, very easy to be true\n",
      "I find myself alone when each day is through\n",
      "Yes, I'll admit that I'm a fool for you\n",
      "Because you're mine, I walk the line\n",
      "\n",
      "[Verse 3]\n",
      "As sure as night is dark and day is light\n",
      "I keep you on my mind both day and night\n",
      "And happiness I've known proves that it's right\n",
      "Because you're mine, I walk the line\n",
      "\n",
      "[Verse 4]\n",
      "You've got a way to keep me on your side\n",
      "You give me cause for love that I can't hide\n",
      "For you, I know I'd even try to turn the tide\n",
      "Because you're mine, I walk the line\n",
      "\n",
      "[Verse 1]\n",
      "I keep a close watch on this heart of mine\n",
      "I keep my eyes wide open all the time\n",
      "I keep the ends out for the tie that binds\n",
      "Because you're mine, I walk the line\n"
     ]
    }
   ],
   "source": [
    "for line in l:\n",
    "    print(line)\n",
    "    \n",
    "    # uncomment for interactive notebook running\n",
    "    #time.sleep(2)"
   ]
  },
  {
   "cell_type": "markdown",
   "id": "7eb31086",
   "metadata": {},
   "source": [
    "<img src=\"https://www.billboard.com/wp-content/uploads/media/johnny-cash-bw-portrait-klm-billboard-1548.jpg\" width=750 height=400 />"
   ]
  },
  {
   "cell_type": "code",
   "execution_count": null,
   "id": "44c5cb07",
   "metadata": {},
   "outputs": [],
   "source": []
  }
 ],
 "metadata": {
  "kernelspec": {
   "display_name": "Python 3 (ipykernel)",
   "language": "python",
   "name": "python3"
  },
  "language_info": {
   "codemirror_mode": {
    "name": "ipython",
    "version": 3
   },
   "file_extension": ".py",
   "mimetype": "text/x-python",
   "name": "python",
   "nbconvert_exporter": "python",
   "pygments_lexer": "ipython3",
   "version": "3.7.3"
  }
 },
 "nbformat": 4,
 "nbformat_minor": 5
}