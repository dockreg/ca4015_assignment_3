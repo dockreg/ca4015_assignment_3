{
 "cells": [
  {
   "cell_type": "markdown",
   "id": "1361ebe6",
   "metadata": {},
   "source": [
    "# Lyrics display"
   ]
  },
  {
   "cell_type": "markdown",
   "id": "7550227f",
   "metadata": {},
   "source": [
    "This notebook details the novel lyrics aspec of this system. A user can input a favourite artist and will be returned an image with some classic lyrics from that artist on screen."
   ]
  },
  {
   "cell_type": "code",
   "execution_count": null,
   "id": "a289a9a2",
   "metadata": {},
   "outputs": [],
   "source": []
  },
  {
   "cell_type": "code",
   "execution_count": 2,
   "id": "bb7e7995",
   "metadata": {},
   "outputs": [
    {
     "name": "stdout",
     "output_type": "stream",
     "text": [
      "Requirement already satisfied: lyricsgenius in /Users/dockreg/anaconda3/lib/python3.7/site-packages (3.0.1)\n",
      "Requirement already satisfied: beautifulsoup4>=4.6.0 in /Users/dockreg/anaconda3/lib/python3.7/site-packages (from lyricsgenius) (4.10.0)\n",
      "Requirement already satisfied: requests>=2.20.0 in /Users/dockreg/anaconda3/lib/python3.7/site-packages (from lyricsgenius) (2.26.0)\n",
      "Requirement already satisfied: soupsieve>1.2 in /Users/dockreg/anaconda3/lib/python3.7/site-packages (from beautifulsoup4>=4.6.0->lyricsgenius) (2.2.1)\n",
      "Requirement already satisfied: charset-normalizer~=2.0.0 in /Users/dockreg/anaconda3/lib/python3.7/site-packages (from requests>=2.20.0->lyricsgenius) (2.0.4)\n",
      "Requirement already satisfied: idna<4,>=2.5 in /Users/dockreg/anaconda3/lib/python3.7/site-packages (from requests>=2.20.0->lyricsgenius) (3.2)\n",
      "Requirement already satisfied: certifi>=2017.4.17 in /Users/dockreg/anaconda3/lib/python3.7/site-packages (from requests>=2.20.0->lyricsgenius) (2021.10.8)\n",
      "Requirement already satisfied: urllib3<1.27,>=1.21.1 in /Users/dockreg/anaconda3/lib/python3.7/site-packages (from requests>=2.20.0->lyricsgenius) (1.26.6)\n",
      "Note: you may need to restart the kernel to use updated packages.\n"
     ]
    }
   ],
   "source": [
    "pip install lyricsgenius"
   ]
  },
  {
   "cell_type": "code",
   "execution_count": 18,
   "id": "e82dc4d2",
   "metadata": {},
   "outputs": [],
   "source": [
    "import os\n",
    "import json\n",
    "import time"
   ]
  },
  {
   "cell_type": "code",
   "execution_count": 8,
   "id": "6b321525",
   "metadata": {},
   "outputs": [],
   "source": [
    "token = '########################'"
   ]
  },
  {
   "cell_type": "code",
   "execution_count": 28,
   "id": "818cabd6",
   "metadata": {},
   "outputs": [],
   "source": [
    "import lyricsgenius as lg\n",
    "genius = lg.Genius(token)"
   ]
  },
  {
   "cell_type": "code",
   "execution_count": 29,
   "id": "ca0ad2ed",
   "metadata": {},
   "outputs": [],
   "source": [
    "song_title = \"Walk the line\"\n",
    "artist_name = \"Johnny Cash\""
   ]
  },
  {
   "cell_type": "code",
   "execution_count": 30,
   "id": "da90fbd1",
   "metadata": {},
   "outputs": [
    {
     "name": "stdout",
     "output_type": "stream",
     "text": [
      "Searching for \"Walk the line\" by Johnny Cash...\n",
      "Done.\n"
     ]
    }
   ],
   "source": [
    "song = genius.search_song(title=song_title, artist=artist_name)"
   ]
  },
  {
   "cell_type": "code",
   "execution_count": 31,
   "id": "e3941a91",
   "metadata": {},
   "outputs": [],
   "source": [
    "lyrics = song.lyrics"
   ]
  },
  {
   "cell_type": "code",
   "execution_count": 38,
   "id": "5a4d3ae0",
   "metadata": {},
   "outputs": [],
   "source": [
    "l=lyrics.split('\\n')\n",
    "l = l[1:]"
   ]
  },
  {
   "cell_type": "code",
   "execution_count": 39,
   "id": "ac5aa418",
   "metadata": {},
   "outputs": [
    {
     "name": "stdout",
     "output_type": "stream",
     "text": [
      "I keep a close watch on this heart of mine\n",
      "I keep my eyes wide open all the time\n",
      "I keep the ends out for the tie that binds\n",
      "Because you're mine, I walk the line\n",
      "\n",
      "[Verse 2]\n",
      "I find it very, very easy to be true\n",
      "I find myself alone when each day is through\n",
      "Yes, I'll admit that I'm a fool for you\n",
      "Because you're mine, I walk the line\n",
      "\n",
      "[Verse 3]\n",
      "As sure as night is dark and day is light\n",
      "I keep you on my mind both day and night\n",
      "And happiness I've known proves that it's right\n",
      "Because you're mine, I walk the line\n",
      "\n",
      "[Verse 4]\n",
      "You've got a way to keep me on your side\n",
      "You give me cause for love that I can't hide\n",
      "For you, I know I'd even try to turn the tide\n",
      "Because you're mine, I walk the line\n",
      "\n",
      "[Verse 1]\n",
      "I keep a close watch on this heart of mine\n",
      "I keep my eyes wide open all the time\n",
      "I keep the ends out for the tie that binds\n",
      "Because you're mine, I walk the line22EmbedShare URLCopyEmbedCopy\n"
     ]
    }
   ],
   "source": [
    "for line in l:\n",
    "    print(line)\n",
    "    time.sleep(2)"
   ]
  },
  {
   "cell_type": "code",
   "execution_count": null,
   "id": "de8cad76",
   "metadata": {},
   "outputs": [],
   "source": [
    "data:image/jpeg;base64,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"
   ]
  },
  {
   "attachments": {
    "johnny_cash.jpeg": {
     "image/jpeg": "[encoded data removed]"
    }
   },
   "cell_type": "markdown",
   "id": "e449d0dc",
   "metadata": {},
   "source": [
    "![johnny_cash.jpeg](attachment:johnny_cash.jpeg)"
   ]
  },
  {
   "cell_type": "markdown",
   "id": "0e58c9d1",
   "metadata": {},
   "source": []
  }
 ],
 "metadata": {
  "kernelspec": {
   "display_name": "Python 3 (ipykernel)",
   "language": "python",
   "name": "python3"
  },
  "language_info": {
   "codemirror_mode": {
    "name": "ipython",
    "version": 3
   },
   "file_extension": ".py",
   "mimetype": "text/x-python",
   "name": "python",
   "nbconvert_exporter": "python",
   "pygments_lexer": "ipython3",
   "version": "3.7.3"
  }
 },
 "nbformat": 4,
 "nbformat_minor": 5
}
