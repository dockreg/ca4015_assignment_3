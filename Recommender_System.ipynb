{
 "cells": [
  {
   "cell_type": "markdown",
   "id": "a0e54c4d",
   "metadata": {},
   "source": [
    "<h1><center>Music Recommender System</center></h1>"
   ]
  },
  {
   "cell_type": "markdown",
   "id": "ac529a5f",
   "metadata": {},
   "source": [
    "<img src=\"https://www.incimages.com/uploaded_files/image/1920x1080/getty_626660256_2000108620009280158_379902.jpg\" width=750 height=7500 />"
   ]
  },
  {
   "cell_type": "markdown",
   "id": "26c31ed5",
   "metadata": {},
   "source": [
    "This notebook will detail all of the steps involved in creating this music recommender system. This code is based on the google colab notebook and educational code available at: \n",
    "\n",
    "https://colab.research.google.com/github/google/eng-edu/blob/main/ml/recommendation-systems/recommendation-systems.ipynb?utm_source=ss-recommendation-systems&utm_campaign=colab-external&utm_medium=referral&utm_content=recommendation-systems#scrollTo=StMo4lDmLqpc \n",
    "\n",
    "\n",
    "#### The notebook is split into 4 sections:\n",
    "\n",
    "1) Building rating matrix/ Calculating error\n",
    "\n",
    "2) Training the matrix factorisation model\n",
    "\n",
    "3) Inspecting embeddings\n",
    "\n",
    "4) Regularisation in matrix factorisation\n",
    "\n"
   ]
  },
  {
   "cell_type": "markdown",
   "id": "14c48af9",
   "metadata": {},
   "source": [
    "## Import required dependencies"
   ]
  },
  {
   "cell_type": "code",
   "execution_count": 1,
   "id": "7880865c",
   "metadata": {},
   "outputs": [
    {
     "name": "stdout",
     "output_type": "stream",
     "text": [
      "WARNING:tensorflow:From /Users/dockreg/anaconda3/lib/python3.7/site-packages/tensorflow/python/compat/v2_compat.py:111: disable_resource_variables (from tensorflow.python.ops.variable_scope) is deprecated and will be removed in a future version.\n",
      "Instructions for updating:\n",
      "non-resource variables are not supported in the long term\n"
     ]
    }
   ],
   "source": [
    "from __future__ import print_function\n",
    "import seaborn as sns\n",
    "import numpy as np\n",
    "import pandas as pd\n",
    "import collections\n",
    "from mpl_toolkits.mplot3d import Axes3D\n",
    "from IPython import display\n",
    "from matplotlib import pyplot as plt\n",
    "import sklearn\n",
    "import sklearn.manifold\n",
    "import tensorflow.compat.v1 as tf\n",
    "tf.disable_v2_behavior()\n",
    "tf.logging.set_verbosity(tf.logging.ERROR)"
   ]
  },
  {
   "cell_type": "markdown",
   "id": "7de40567",
   "metadata": {},
   "source": [
    "## 1) Preliminaries"
   ]
  },
  {
   "cell_type": "code",
   "execution_count": 30,
   "id": "0ff5b83e",
   "metadata": {},
   "outputs": [],
   "source": [
    "artists = pd.read_csv('Data/artists.dat', sep='\t')\n",
    "tags = pd.read_csv('Data/tags.dat', sep='\t', encoding='latin-1')\n",
    "user_artists = pd.read_csv('Data/user_artists.dat', sep='\t')\n",
    "user_friends = pd.read_csv('Data/user_friends.dat', sep='\t')\n",
    "user_tagged_artists_tstamp = pd.read_csv('Data/user_taggedartists-timestamps.dat', sep='\t')\n",
    "user_tagged_artists = pd.read_csv('Data/user_taggedartists.dat', sep='\t')"
   ]
  },
  {
   "cell_type": "markdown",
   "id": "4c4f4799",
   "metadata": {},
   "source": [
    "We create a function to be used later for splitting the data in testing and training sets"
   ]
  },
  {
   "cell_type": "code",
   "execution_count": 31,
   "id": "f088685f",
   "metadata": {},
   "outputs": [],
   "source": [
    "# Split the data into training and test sets.\n",
    "def split_dataframe(df, holdout_fraction=0.1):\n",
    "    test = df.sample(frac=holdout_fraction, replace=False)\n",
    "    train = df[~df.index.isin(test.index)]\n",
    "    return train, test"
   ]
  },
  {
   "cell_type": "markdown",
   "id": "3defdd8d",
   "metadata": {},
   "source": [
    "### Building matrix\n",
    "\n",
    "We design a function that maps the ```user_artists``` data to a tensorflow sparsetensor representation. Most users will not have rated each artist so this is full of 0's and hence becomes a very large matrix. This function allows us to efficiently capture this data"
   ]
  },
  {
   "cell_type": "code",
   "execution_count": 32,
   "id": "22f012c9",
   "metadata": {},
   "outputs": [],
   "source": [
    "def build_rating_sparse_tensor(user_artists_df):\n",
    "    indices = user_artists_df[['userID', 'artistID']].values\n",
    "    values = user_artists_df['weight'].values\n",
    "    return tf.SparseTensor(\n",
    "        indices=indices,\n",
    "        values=values,\n",
    "        dense_shape=[len(user_artists['userID'].unique()), len(artists['id'].unique())])"
   ]
  },
  {
   "cell_type": "markdown",
   "id": "03429d77",
   "metadata": {},
   "source": [
    "### Calculating the error\n",
    "\n",
    "The model approximates the ratings matrix by a low-rank product. We need a way to measure the approximation error. We'll start by using the Mean Squared Error of observed entries only. It is defined as\n",
    "\n",
    "$$\n",
    "\\begin{align*}\n",
    "\\text{MSE}(A, UV^\\top)\n",
    "&= \\frac{1}{|\\Omega|}\\sum_{(i, j) \\in\\Omega}{( A_{ij} - (UV^\\top)_{ij})^2} \\\\\n",
    "&= \\frac{1}{|\\Omega|}\\sum_{(i, j) \\in\\Omega}{( A_{ij} - \\langle U_i, V_j\\rangle)^2}\n",
    "\\end{align*}\n",
    "$$\n",
    "\n",
    "The function below is created to calculate this"
   ]
  },
  {
   "cell_type": "code",
   "execution_count": 33,
   "id": "2c7c804f",
   "metadata": {},
   "outputs": [],
   "source": [
    "def sparse_mean_square_error(sparse_ratings, user_embeddings, music_embeddings):\n",
    "    predictions = tf.reduce_sum(\n",
    "        tf.gather(user_embeddings, sparse_ratings.indices[:, 0]) *\n",
    "        tf.gather(music_embeddings, sparse_ratings.indices[:, 1]),\n",
    "        axis=1)\n",
    "    loss = tf.losses.mean_squared_error(sparse_ratings.values, predictions)\n",
    "    return loss"
   ]
  },
  {
   "cell_type": "markdown",
   "id": "70595082",
   "metadata": {},
   "source": [
    "## 2) Training the Matrix Factorization model\n",
    "\n",
    "### Collaborative Filtering Model (CF Model)\n",
    "This class trains a matrix factorization model. Stochastic gradient descent is used in the function as the optimiser.\n"
   ]
  },
  {
   "cell_type": "code",
   "execution_count": 34,
   "id": "fcd483db",
   "metadata": {},
   "outputs": [],
   "source": [
    "class CFModel(object):\n",
    "    def __init__(self, embedding_vars, loss, metrics=None):\n",
    "        self._embedding_vars = embedding_vars\n",
    "        self._loss = loss\n",
    "        self._metrics = metrics\n",
    "        self._embeddings = {k: None for k in embedding_vars}\n",
    "        self._session = None\n",
    "\n",
    "    @property\n",
    "    def embeddings(self):\n",
    "        return self._embeddings\n",
    "\n",
    "    def train(self, num_iterations=100, learning_rate=1.0, plot_results=True,\n",
    "            optimizer=tf.train.GradientDescentOptimizer):\n",
    "        with self._loss.graph.as_default():\n",
    "            opt = optimizer(learning_rate)\n",
    "            train_op = opt.minimize(self._loss)\n",
    "            local_init_op = tf.group(\n",
    "              tf.variables_initializer(opt.variables()),\n",
    "              tf.local_variables_initializer())\n",
    "            if self._session is None:\n",
    "                self._session = tf.Session()\n",
    "                with self._session.as_default():\n",
    "                    self._session.run(tf.global_variables_initializer())\n",
    "                    self._session.run(tf.tables_initializer())\n",
    "                    tf.train.start_queue_runners()\n",
    "\n",
    "        with self._session.as_default():\n",
    "            local_init_op.run()\n",
    "            iterations = []\n",
    "            metrics = self._metrics or ({},)\n",
    "            metrics_vals = [collections.defaultdict(list) for _ in self._metrics]\n",
    "\n",
    "            # Train and append results.\n",
    "            for i in range(num_iterations + 1):\n",
    "                _, results = self._session.run((train_op, metrics))\n",
    "                if (i % 10 == 0) or i == num_iterations:\n",
    "                    print(\"\\r iteration %d: \" % i + \", \".join([\"%s=%f\" % (k, v) for r in results for k, v in r.items()]),\n",
    "                        end='')\n",
    "                    iterations.append(i)\n",
    "                    for metric_val, result in zip(metrics_vals, results):\n",
    "                        for k, v in result.items():\n",
    "                            metric_val[k].append(v)\n",
    "\n",
    "            for k, v in self._embedding_vars.items():\n",
    "                self._embeddings[k] = v.eval()\n",
    "\n",
    "            if plot_results:\n",
    "                # Plot the metrics.\n",
    "                num_subplots = len(metrics)+1\n",
    "                fig = plt.figure()\n",
    "                fig.set_size_inches(num_subplots*10, 8)\n",
    "                for i, metric_vals in enumerate(metrics_vals):\n",
    "                    ax = fig.add_subplot(1, num_subplots, i+1)\n",
    "                    for k, v in metric_vals.items():\n",
    "                        ax.plot(iterations, v, label=k)\n",
    "                    ax.set_xlim([1, num_iterations])\n",
    "                    ax.legend()\n",
    "            return results"
   ]
  },
  {
   "cell_type": "markdown",
   "id": "c66716a0",
   "metadata": {},
   "source": [
    "### Build the model\n",
    "\n",
    "We build the model that uses the `sparse_mean_square_error` function. We write a function that builds a `CFModel` by creating the embedding variables and the train and test losses."
   ]
  },
  {
   "cell_type": "code",
   "execution_count": 35,
   "id": "5b1c187f",
   "metadata": {},
   "outputs": [],
   "source": [
    "def build_model(ratings, embedding_dim=3, init_stddev=1.):\n",
    "    \n",
    "    # Split the ratings DataFrame into train and test.\n",
    "    train_ratings, test_ratings = split_dataframe(ratings)\n",
    "    # SparseTensor representation of the train and test datasets.\n",
    "    A_train = build_rating_sparse_tensor(train_ratings)\n",
    "    A_test = build_rating_sparse_tensor(test_ratings)\n",
    "    # Initialize the embeddings using a normal distribution.\n",
    "    U = tf.Variable(tf.random_normal(\n",
    "      [A_train.dense_shape[0], embedding_dim], stddev=init_stddev))\n",
    "    V = tf.Variable(tf.random_normal(\n",
    "      [A_train.dense_shape[1], embedding_dim], stddev=init_stddev))\n",
    "    train_loss = sparse_mean_square_error(A_train, U, V)\n",
    "    test_loss = sparse_mean_square_error(A_test, U, V)\n",
    "    metrics = {\n",
    "      'train_error': train_loss,\n",
    "      'test_error': test_loss\n",
    "  }\n",
    "    embeddings = {\n",
    "      \"userID\": U,\n",
    "      \"artistID\": V\n",
    "  }\n",
    "    return CFModel(embeddings, train_loss, [metrics])"
   ]
  },
  {
   "cell_type": "code",
   "execution_count": 36,
   "id": "bca10fc1",
   "metadata": {},
   "outputs": [
    {
     "data": {
      "text/html": [
       "<div>\n",
       "<style scoped>\n",
       "    .dataframe tbody tr th:only-of-type {\n",
       "        vertical-align: middle;\n",
       "    }\n",
       "\n",
       "    .dataframe tbody tr th {\n",
       "        vertical-align: top;\n",
       "    }\n",
       "\n",
       "    .dataframe thead th {\n",
       "        text-align: right;\n",
       "    }\n",
       "</style>\n",
       "<table border=\"1\" class=\"dataframe\">\n",
       "  <thead>\n",
       "    <tr style=\"text-align: right;\">\n",
       "      <th></th>\n",
       "      <th>userID</th>\n",
       "      <th>artistID</th>\n",
       "      <th>weight</th>\n",
       "    </tr>\n",
       "  </thead>\n",
       "  <tbody>\n",
       "    <tr>\n",
       "      <th>0</th>\n",
       "      <td>2</td>\n",
       "      <td>51</td>\n",
       "      <td>13883</td>\n",
       "    </tr>\n",
       "    <tr>\n",
       "      <th>1</th>\n",
       "      <td>2</td>\n",
       "      <td>52</td>\n",
       "      <td>11690</td>\n",
       "    </tr>\n",
       "    <tr>\n",
       "      <th>2</th>\n",
       "      <td>2</td>\n",
       "      <td>53</td>\n",
       "      <td>11351</td>\n",
       "    </tr>\n",
       "    <tr>\n",
       "      <th>3</th>\n",
       "      <td>2</td>\n",
       "      <td>54</td>\n",
       "      <td>10300</td>\n",
       "    </tr>\n",
       "    <tr>\n",
       "      <th>4</th>\n",
       "      <td>2</td>\n",
       "      <td>55</td>\n",
       "      <td>8983</td>\n",
       "    </tr>\n",
       "    <tr>\n",
       "      <th>...</th>\n",
       "      <td>...</td>\n",
       "      <td>...</td>\n",
       "      <td>...</td>\n",
       "    </tr>\n",
       "    <tr>\n",
       "      <th>92829</th>\n",
       "      <td>2100</td>\n",
       "      <td>18726</td>\n",
       "      <td>337</td>\n",
       "    </tr>\n",
       "    <tr>\n",
       "      <th>92830</th>\n",
       "      <td>2100</td>\n",
       "      <td>18727</td>\n",
       "      <td>297</td>\n",
       "    </tr>\n",
       "    <tr>\n",
       "      <th>92831</th>\n",
       "      <td>2100</td>\n",
       "      <td>18728</td>\n",
       "      <td>281</td>\n",
       "    </tr>\n",
       "    <tr>\n",
       "      <th>92832</th>\n",
       "      <td>2100</td>\n",
       "      <td>18729</td>\n",
       "      <td>280</td>\n",
       "    </tr>\n",
       "    <tr>\n",
       "      <th>92833</th>\n",
       "      <td>2100</td>\n",
       "      <td>18730</td>\n",
       "      <td>263</td>\n",
       "    </tr>\n",
       "  </tbody>\n",
       "</table>\n",
       "<p>92834 rows × 3 columns</p>\n",
       "</div>"
      ],
      "text/plain": [
       "       userID  artistID  weight\n",
       "0           2        51   13883\n",
       "1           2        52   11690\n",
       "2           2        53   11351\n",
       "3           2        54   10300\n",
       "4           2        55    8983\n",
       "...       ...       ...     ...\n",
       "92829    2100     18726     337\n",
       "92830    2100     18727     297\n",
       "92831    2100     18728     281\n",
       "92832    2100     18729     280\n",
       "92833    2100     18730     263\n",
       "\n",
       "[92834 rows x 3 columns]"
      ]
     },
     "execution_count": 36,
     "metadata": {},
     "output_type": "execute_result"
    }
   ],
   "source": [
    "user_artists"
   ]
  },
  {
   "cell_type": "markdown",
   "id": "f48c2b57",
   "metadata": {},
   "source": [
    " We convert our columns into the appropriate data type before running it through the model"
   ]
  },
  {
   "cell_type": "markdown",
   "id": "12cd544e",
   "metadata": {},
   "source": [
    "### Changing user id and artist id\n",
    "\n",
    "We get errors when using the user data as is, as the user ID values and artist ID values are not in sequential order and are often higher than the index value so we will change them so they run from 0-1891, and 0-17631 respectively."
   ]
  },
  {
   "cell_type": "code",
   "execution_count": 37,
   "id": "4c1efd07",
   "metadata": {},
   "outputs": [
    {
     "data": {
      "text/plain": [
       "2100"
      ]
     },
     "execution_count": 37,
     "metadata": {},
     "output_type": "execute_result"
    }
   ],
   "source": [
    "user_artists.userID.unique().astype(int).max()"
   ]
  },
  {
   "cell_type": "code",
   "execution_count": 38,
   "id": "1e5903c0",
   "metadata": {},
   "outputs": [
    {
     "data": {
      "text/plain": [
       "18745"
      ]
     },
     "execution_count": 38,
     "metadata": {},
     "output_type": "execute_result"
    }
   ],
   "source": [
    "user_artists.artistID.unique().astype(int).max()"
   ]
  },
  {
   "cell_type": "code",
   "execution_count": 39,
   "id": "804fd41c",
   "metadata": {},
   "outputs": [],
   "source": [
    "def return_inverse(x):\n",
    "    p = np.zeros(x.max()+1, dtype=bool)\n",
    "    p[x] = 1\n",
    "\n",
    "    p2 = np.empty(x.max()+1, dtype=np.uint64)\n",
    "    c = p.sum()\n",
    "    p2[p] = np.arange(c)    \n",
    "    out = p2[x]\n",
    "    return out"
   ]
  },
  {
   "cell_type": "code",
   "execution_count": 40,
   "id": "600ee7b6",
   "metadata": {},
   "outputs": [
    {
     "data": {
      "text/plain": [
       "array([   0,    0,    0, ..., 1891, 1891, 1891], dtype=uint64)"
      ]
     },
     "execution_count": 40,
     "metadata": {},
     "output_type": "execute_result"
    }
   ],
   "source": [
    "inverse_user_id = return_inverse(user_artists.userID)\n",
    "inverse_user_id"
   ]
  },
  {
   "cell_type": "code",
   "execution_count": 41,
   "id": "28c4ba69",
   "metadata": {},
   "outputs": [
    {
     "data": {
      "text/plain": [
       "array([   45,    46,    47, ..., 17617, 17618, 17619], dtype=uint64)"
      ]
     },
     "execution_count": 41,
     "metadata": {},
     "output_type": "execute_result"
    }
   ],
   "source": [
    "inverse_artist_id = return_inverse(user_artists.artistID)\n",
    "inverse_artist_id"
   ]
  },
  {
   "cell_type": "code",
   "execution_count": 42,
   "id": "3da3a89f",
   "metadata": {},
   "outputs": [],
   "source": [
    "# Replace id columns\n",
    "user_artists['userID'] = inverse_user_id\n",
    "user_artists['artistID'] = inverse_artist_id"
   ]
  },
  {
   "cell_type": "code",
   "execution_count": 43,
   "id": "7a464f93",
   "metadata": {},
   "outputs": [
    {
     "data": {
      "text/html": [
       "<div>\n",
       "<style scoped>\n",
       "    .dataframe tbody tr th:only-of-type {\n",
       "        vertical-align: middle;\n",
       "    }\n",
       "\n",
       "    .dataframe tbody tr th {\n",
       "        vertical-align: top;\n",
       "    }\n",
       "\n",
       "    .dataframe thead th {\n",
       "        text-align: right;\n",
       "    }\n",
       "</style>\n",
       "<table border=\"1\" class=\"dataframe\">\n",
       "  <thead>\n",
       "    <tr style=\"text-align: right;\">\n",
       "      <th></th>\n",
       "      <th>userID</th>\n",
       "      <th>artistID</th>\n",
       "      <th>weight</th>\n",
       "    </tr>\n",
       "  </thead>\n",
       "  <tbody>\n",
       "    <tr>\n",
       "      <th>count</th>\n",
       "      <td>92834.000000</td>\n",
       "      <td>92834.000000</td>\n",
       "      <td>92834.00000</td>\n",
       "    </tr>\n",
       "    <tr>\n",
       "      <th>mean</th>\n",
       "      <td>944.222483</td>\n",
       "      <td>3235.736724</td>\n",
       "      <td>745.24393</td>\n",
       "    </tr>\n",
       "    <tr>\n",
       "      <th>std</th>\n",
       "      <td>546.751074</td>\n",
       "      <td>4197.216910</td>\n",
       "      <td>3751.32208</td>\n",
       "    </tr>\n",
       "    <tr>\n",
       "      <th>min</th>\n",
       "      <td>0.000000</td>\n",
       "      <td>0.000000</td>\n",
       "      <td>1.00000</td>\n",
       "    </tr>\n",
       "    <tr>\n",
       "      <th>25%</th>\n",
       "      <td>470.000000</td>\n",
       "      <td>430.000000</td>\n",
       "      <td>107.00000</td>\n",
       "    </tr>\n",
       "    <tr>\n",
       "      <th>50%</th>\n",
       "      <td>944.000000</td>\n",
       "      <td>1237.000000</td>\n",
       "      <td>260.00000</td>\n",
       "    </tr>\n",
       "    <tr>\n",
       "      <th>75%</th>\n",
       "      <td>1416.000000</td>\n",
       "      <td>4266.000000</td>\n",
       "      <td>614.00000</td>\n",
       "    </tr>\n",
       "    <tr>\n",
       "      <th>max</th>\n",
       "      <td>1891.000000</td>\n",
       "      <td>17631.000000</td>\n",
       "      <td>352698.00000</td>\n",
       "    </tr>\n",
       "  </tbody>\n",
       "</table>\n",
       "</div>"
      ],
      "text/plain": [
       "             userID      artistID        weight\n",
       "count  92834.000000  92834.000000   92834.00000\n",
       "mean     944.222483   3235.736724     745.24393\n",
       "std      546.751074   4197.216910    3751.32208\n",
       "min        0.000000      0.000000       1.00000\n",
       "25%      470.000000    430.000000     107.00000\n",
       "50%      944.000000   1237.000000     260.00000\n",
       "75%     1416.000000   4266.000000     614.00000\n",
       "max     1891.000000  17631.000000  352698.00000"
      ]
     },
     "execution_count": 43,
     "metadata": {},
     "output_type": "execute_result"
    }
   ],
   "source": [
    "user_artists.describe()"
   ]
  },
  {
   "cell_type": "markdown",
   "id": "9df1cc0e",
   "metadata": {},
   "source": [
    "We can see the userID now has a max value of 1,891 and artistID has a max value of 17,631"
   ]
  },
  {
   "cell_type": "markdown",
   "id": "eeee2a36",
   "metadata": {},
   "source": [
    "### Normalisation\n",
    "\n",
    "The variety in weights are very large which will cause issues with our ```CFModel``` so we normalise these values between a value of 0-1 \n",
    "\n",
    "The code below can be uncommented to try a z score normalisation for different results"
   ]
  },
  {
   "cell_type": "code",
   "execution_count": 44,
   "id": "2a4c57f4",
   "metadata": {},
   "outputs": [
    {
     "data": {
      "text/html": [
       "<div>\n",
       "<style scoped>\n",
       "    .dataframe tbody tr th:only-of-type {\n",
       "        vertical-align: middle;\n",
       "    }\n",
       "\n",
       "    .dataframe tbody tr th {\n",
       "        vertical-align: top;\n",
       "    }\n",
       "\n",
       "    .dataframe thead th {\n",
       "        text-align: right;\n",
       "    }\n",
       "</style>\n",
       "<table border=\"1\" class=\"dataframe\">\n",
       "  <thead>\n",
       "    <tr style=\"text-align: right;\">\n",
       "      <th></th>\n",
       "      <th>userID</th>\n",
       "      <th>artistID</th>\n",
       "      <th>weight</th>\n",
       "    </tr>\n",
       "  </thead>\n",
       "  <tbody>\n",
       "    <tr>\n",
       "      <th>0</th>\n",
       "      <td>0</td>\n",
       "      <td>45</td>\n",
       "      <td>0.039360</td>\n",
       "    </tr>\n",
       "    <tr>\n",
       "      <th>1</th>\n",
       "      <td>0</td>\n",
       "      <td>46</td>\n",
       "      <td>0.033142</td>\n",
       "    </tr>\n",
       "    <tr>\n",
       "      <th>2</th>\n",
       "      <td>0</td>\n",
       "      <td>47</td>\n",
       "      <td>0.032181</td>\n",
       "    </tr>\n",
       "    <tr>\n",
       "      <th>3</th>\n",
       "      <td>0</td>\n",
       "      <td>48</td>\n",
       "      <td>0.029201</td>\n",
       "    </tr>\n",
       "    <tr>\n",
       "      <th>4</th>\n",
       "      <td>0</td>\n",
       "      <td>49</td>\n",
       "      <td>0.025467</td>\n",
       "    </tr>\n",
       "  </tbody>\n",
       "</table>\n",
       "</div>"
      ],
      "text/plain": [
       "   userID  artistID    weight\n",
       "0       0        45  0.039360\n",
       "1       0        46  0.033142\n",
       "2       0        47  0.032181\n",
       "3       0        48  0.029201\n",
       "4       0        49  0.025467"
      ]
     },
     "execution_count": 44,
     "metadata": {},
     "output_type": "execute_result"
    }
   ],
   "source": [
    "# copy the data\n",
    "user_artists_norm = user_artists.copy()\n",
    "  \n",
    "# apply normalization techniques by Column weight\n",
    "column = 'weight'\n",
    "user_artists_norm[column] = (user_artists_norm[column] - user_artists_norm[column].min()) / (user_artists_norm[column].max() - user_artists_norm[column].min())    \n",
    "\n",
    "# z score normalisation\n",
    "#user_artists_norm[column] = (user_artists_norm[column] - user_artists_norm[column].mean()) / user_artists_norm[column].std()    \n",
    "  \n",
    "# view normalized data\n",
    "user_artists_norm.head()"
   ]
  },
  {
   "cell_type": "markdown",
   "id": "d2963663",
   "metadata": {},
   "source": [
    "### Build the CF Model and train it"
   ]
  },
  {
   "cell_type": "code",
   "execution_count": 45,
   "id": "94218eab",
   "metadata": {},
   "outputs": [
    {
     "name": "stdout",
     "output_type": "stream",
     "text": [
      " iteration 1000: train_error=0.018892, test_error=0.461243"
     ]
    },
    {
     "data": {
      "text/plain": [
       "[{'train_error': 0.01889176, 'test_error': 0.46124274}]"
      ]
     },
     "execution_count": 45,
     "metadata": {},
     "output_type": "execute_result"
    },
    {
     "data": {
      "image/png": "[encoded data removed]",
      "text/plain": [
       "<Figure size 1440x576 with 1 Axes>"
      ]
     },
     "metadata": {
      "needs_background": "light"
     },
     "output_type": "display_data"
    }
   ],
   "source": [
    "model = build_model(user_artists_norm, embedding_dim=30, init_stddev=0.5)\n",
    "model.train(num_iterations=1000, learning_rate=10)"
   ]
  },
  {
   "cell_type": "markdown",
   "id": "2d6fb0e0",
   "metadata": {},
   "source": [
    "## 3) Inspecting the Embeddings\n",
    "\n",
    "We look at the recommendations of the system using the dot product and cosine similarity which are two different similarity measures. We create a nearest neighbours function to recommend similar artists."
   ]
  },
  {
   "cell_type": "code",
   "execution_count": 46,
   "id": "1cf61d42",
   "metadata": {},
   "outputs": [],
   "source": [
    "DOT = 'dot'\n",
    "COSINE = 'cosine'\n",
    "def compute_scores(query_embedding, item_embeddings, measure=DOT):\n",
    "\n",
    "    u = query_embedding\n",
    "    V = item_embeddings\n",
    "    if measure == COSINE:\n",
    "        V = V / np.linalg.norm(V, axis=1, keepdims=True)\n",
    "        u = u / np.linalg.norm(u)\n",
    "    scores = u.dot(V.T)\n",
    "    return scores"
   ]
  },
  {
   "cell_type": "code",
   "execution_count": 47,
   "id": "d860980a",
   "metadata": {},
   "outputs": [],
   "source": [
    "def artist_neighbors(model, title_substring, measure=DOT, k=6):\n",
    "  ids =  artists[artists['name'].str.contains(title_substring)].index.values\n",
    "  titles = artists.iloc[ids]['name'].values\n",
    "  if len(titles) == 0:\n",
    "    raise ValueError(\"Found no artists with title %s\" % title_substring)\n",
    "  print(\"Nearest neighbors of : %s.\" % titles[0])\n",
    "  if len(titles) > 1:\n",
    "    print(\"[Found more than one matching artist. Other candidates: {}]\".format(\n",
    "        \", \".join(titles[1:])))\n",
    "  artistID = ids[0]\n",
    "  scores = compute_scores(\n",
    "      model.embeddings[\"artistID\"][artistID], model.embeddings[\"artistID\"],\n",
    "      measure)\n",
    "  score_key = measure + ' score'\n",
    "  df = pd.DataFrame({\n",
    "      score_key: list(scores),\n",
    "      'names': artists['name']\n",
    "  })\n",
    "  display.display(df.sort_values([score_key], ascending=False).head(k))"
   ]
  },
  {
   "cell_type": "markdown",
   "id": "0fcd2987",
   "metadata": {},
   "source": [
    "### Testing\n",
    "\n",
    "We input an artist to see what recommendations our system returns to us"
   ]
  },
  {
   "cell_type": "code",
   "execution_count": 48,
   "id": "464f9aa8",
   "metadata": {
    "scrolled": false
   },
   "outputs": [
    {
     "name": "stdout",
     "output_type": "stream",
     "text": [
      "Nearest neighbors of : Johnny Cash.\n",
      "[Found more than one matching artist. Other candidates: Johnny Cash & Willie Nelson]\n"
     ]
    },
    {
     "data": {
      "text/html": [
       "<div>\n",
       "<style scoped>\n",
       "    .dataframe tbody tr th:only-of-type {\n",
       "        vertical-align: middle;\n",
       "    }\n",
       "\n",
       "    .dataframe tbody tr th {\n",
       "        vertical-align: top;\n",
       "    }\n",
       "\n",
       "    .dataframe thead th {\n",
       "        text-align: right;\n",
       "    }\n",
       "</style>\n",
       "<table border=\"1\" class=\"dataframe\">\n",
       "  <thead>\n",
       "    <tr style=\"text-align: right;\">\n",
       "      <th></th>\n",
       "      <th>dot score</th>\n",
       "      <th>names</th>\n",
       "    </tr>\n",
       "  </thead>\n",
       "  <tbody>\n",
       "    <tr>\n",
       "      <th>1099</th>\n",
       "      <td>2.828076</td>\n",
       "      <td>Nicky Wire</td>\n",
       "    </tr>\n",
       "    <tr>\n",
       "      <th>2156</th>\n",
       "      <td>2.769935</td>\n",
       "      <td>Integral</td>\n",
       "    </tr>\n",
       "    <tr>\n",
       "      <th>6074</th>\n",
       "      <td>2.738542</td>\n",
       "      <td>The Vegas Wake Up</td>\n",
       "    </tr>\n",
       "    <tr>\n",
       "      <th>7141</th>\n",
       "      <td>2.732866</td>\n",
       "      <td>David Vendetta</td>\n",
       "    </tr>\n",
       "    <tr>\n",
       "      <th>6694</th>\n",
       "      <td>2.707119</td>\n",
       "      <td>Children of Fall</td>\n",
       "    </tr>\n",
       "    <tr>\n",
       "      <th>6069</th>\n",
       "      <td>2.700904</td>\n",
       "      <td>Leathermouth</td>\n",
       "    </tr>\n",
       "  </tbody>\n",
       "</table>\n",
       "</div>"
      ],
      "text/plain": [
       "      dot score              names\n",
       "1099   2.828076         Nicky Wire\n",
       "2156   2.769935           Integral\n",
       "6074   2.738542  The Vegas Wake Up\n",
       "7141   2.732866     David Vendetta\n",
       "6694   2.707119   Children of Fall\n",
       "6069   2.700904       Leathermouth"
      ]
     },
     "metadata": {},
     "output_type": "display_data"
    },
    {
     "name": "stdout",
     "output_type": "stream",
     "text": [
      "Nearest neighbors of : Johnny Cash.\n",
      "[Found more than one matching artist. Other candidates: Johnny Cash & Willie Nelson]\n"
     ]
    },
    {
     "data": {
      "text/html": [
       "<div>\n",
       "<style scoped>\n",
       "    .dataframe tbody tr th:only-of-type {\n",
       "        vertical-align: middle;\n",
       "    }\n",
       "\n",
       "    .dataframe tbody tr th {\n",
       "        vertical-align: top;\n",
       "    }\n",
       "\n",
       "    .dataframe thead th {\n",
       "        text-align: right;\n",
       "    }\n",
       "</style>\n",
       "<table border=\"1\" class=\"dataframe\">\n",
       "  <thead>\n",
       "    <tr style=\"text-align: right;\">\n",
       "      <th></th>\n",
       "      <th>cosine score</th>\n",
       "      <th>names</th>\n",
       "    </tr>\n",
       "  </thead>\n",
       "  <tbody>\n",
       "    <tr>\n",
       "      <th>712</th>\n",
       "      <td>1.000000</td>\n",
       "      <td>Johnny Cash</td>\n",
       "    </tr>\n",
       "    <tr>\n",
       "      <th>15229</th>\n",
       "      <td>0.587063</td>\n",
       "      <td>Videodrone</td>\n",
       "    </tr>\n",
       "    <tr>\n",
       "      <th>14000</th>\n",
       "      <td>0.574917</td>\n",
       "      <td>Brazzaville</td>\n",
       "    </tr>\n",
       "    <tr>\n",
       "      <th>9238</th>\n",
       "      <td>0.565272</td>\n",
       "      <td>CrashDďet</td>\n",
       "    </tr>\n",
       "    <tr>\n",
       "      <th>10508</th>\n",
       "      <td>0.561125</td>\n",
       "      <td>Wilmie</td>\n",
       "    </tr>\n",
       "    <tr>\n",
       "      <th>12843</th>\n",
       "      <td>0.560648</td>\n",
       "      <td>Armand Amar</td>\n",
       "    </tr>\n",
       "  </tbody>\n",
       "</table>\n",
       "</div>"
      ],
      "text/plain": [
       "       cosine score        names\n",
       "712        1.000000  Johnny Cash\n",
       "15229      0.587063   Videodrone\n",
       "14000      0.574917  Brazzaville\n",
       "9238       0.565272    CrashDďet\n",
       "10508      0.561125       Wilmie\n",
       "12843      0.560648  Armand Amar"
      ]
     },
     "metadata": {},
     "output_type": "display_data"
    }
   ],
   "source": [
    "artist_neighbors(model, \"Johnny Cash\", DOT)\n",
    "artist_neighbors(model, \"Johnny Cash\", COSINE)"
   ]
  },
  {
   "cell_type": "markdown",
   "id": "2f84c031",
   "metadata": {},
   "source": [
    "These results are interesting but it seems our system could be improved upon."
   ]
  },
  {
   "cell_type": "markdown",
   "id": "02720f77",
   "metadata": {},
   "source": [
    "### Model initialisation\n",
    "\n",
    "It seems the initialisation parameters may play a factor in the results of our system as artists with few ratings may have had their embeddings initialised with a high norm. We use regularisation to combat this by adjusting the value of ```init_stdev``` (previously at 0.5 now changed to 0.05)"
   ]
  },
  {
   "cell_type": "code",
   "execution_count": 49,
   "id": "260dc9af",
   "metadata": {},
   "outputs": [
    {
     "name": "stdout",
     "output_type": "stream",
     "text": [
      " iteration 1000: train_error=0.000267, test_error=0.000230Nearest neighbors of : Johnny Cash.\n",
      "[Found more than one matching artist. Other candidates: Johnny Cash & Willie Nelson]\n"
     ]
    },
    {
     "data": {
      "text/html": [
       "<div>\n",
       "<style scoped>\n",
       "    .dataframe tbody tr th:only-of-type {\n",
       "        vertical-align: middle;\n",
       "    }\n",
       "\n",
       "    .dataframe tbody tr th {\n",
       "        vertical-align: top;\n",
       "    }\n",
       "\n",
       "    .dataframe thead th {\n",
       "        text-align: right;\n",
       "    }\n",
       "</style>\n",
       "<table border=\"1\" class=\"dataframe\">\n",
       "  <thead>\n",
       "    <tr style=\"text-align: right;\">\n",
       "      <th></th>\n",
       "      <th>dot score</th>\n",
       "      <th>names</th>\n",
       "    </tr>\n",
       "  </thead>\n",
       "  <tbody>\n",
       "    <tr>\n",
       "      <th>712</th>\n",
       "      <td>0.049078</td>\n",
       "      <td>Johnny Cash</td>\n",
       "    </tr>\n",
       "    <tr>\n",
       "      <th>2560</th>\n",
       "      <td>0.046092</td>\n",
       "      <td>Biffy Clyro</td>\n",
       "    </tr>\n",
       "    <tr>\n",
       "      <th>13796</th>\n",
       "      <td>0.043852</td>\n",
       "      <td>Peppino di Capri</td>\n",
       "    </tr>\n",
       "    <tr>\n",
       "      <th>7122</th>\n",
       "      <td>0.038829</td>\n",
       "      <td>Ben Lee</td>\n",
       "    </tr>\n",
       "    <tr>\n",
       "      <th>5444</th>\n",
       "      <td>0.037943</td>\n",
       "      <td>w-inds.</td>\n",
       "    </tr>\n",
       "    <tr>\n",
       "      <th>15300</th>\n",
       "      <td>0.037257</td>\n",
       "      <td>Culture</td>\n",
       "    </tr>\n",
       "  </tbody>\n",
       "</table>\n",
       "</div>"
      ],
      "text/plain": [
       "       dot score             names\n",
       "712     0.049078       Johnny Cash\n",
       "2560    0.046092       Biffy Clyro\n",
       "13796   0.043852  Peppino di Capri\n",
       "7122    0.038829           Ben Lee\n",
       "5444    0.037943           w-inds.\n",
       "15300   0.037257           Culture"
      ]
     },
     "metadata": {},
     "output_type": "display_data"
    },
    {
     "name": "stdout",
     "output_type": "stream",
     "text": [
      "Nearest neighbors of : Johnny Cash.\n",
      "[Found more than one matching artist. Other candidates: Johnny Cash & Willie Nelson]\n"
     ]
    },
    {
     "data": {
      "text/html": [
       "<div>\n",
       "<style scoped>\n",
       "    .dataframe tbody tr th:only-of-type {\n",
       "        vertical-align: middle;\n",
       "    }\n",
       "\n",
       "    .dataframe tbody tr th {\n",
       "        vertical-align: top;\n",
       "    }\n",
       "\n",
       "    .dataframe thead th {\n",
       "        text-align: right;\n",
       "    }\n",
       "</style>\n",
       "<table border=\"1\" class=\"dataframe\">\n",
       "  <thead>\n",
       "    <tr style=\"text-align: right;\">\n",
       "      <th></th>\n",
       "      <th>cosine score</th>\n",
       "      <th>names</th>\n",
       "    </tr>\n",
       "  </thead>\n",
       "  <tbody>\n",
       "    <tr>\n",
       "      <th>712</th>\n",
       "      <td>1.000000</td>\n",
       "      <td>Johnny Cash</td>\n",
       "    </tr>\n",
       "    <tr>\n",
       "      <th>2560</th>\n",
       "      <td>0.716862</td>\n",
       "      <td>Biffy Clyro</td>\n",
       "    </tr>\n",
       "    <tr>\n",
       "      <th>188</th>\n",
       "      <td>0.595474</td>\n",
       "      <td>The Tiger Lillies</td>\n",
       "    </tr>\n",
       "    <tr>\n",
       "      <th>13796</th>\n",
       "      <td>0.595305</td>\n",
       "      <td>Peppino di Capri</td>\n",
       "    </tr>\n",
       "    <tr>\n",
       "      <th>9841</th>\n",
       "      <td>0.591366</td>\n",
       "      <td>Stockholm Monsters</td>\n",
       "    </tr>\n",
       "    <tr>\n",
       "      <th>2321</th>\n",
       "      <td>0.574845</td>\n",
       "      <td>Erkin Koray</td>\n",
       "    </tr>\n",
       "  </tbody>\n",
       "</table>\n",
       "</div>"
      ],
      "text/plain": [
       "       cosine score               names\n",
       "712        1.000000         Johnny Cash\n",
       "2560       0.716862         Biffy Clyro\n",
       "188        0.595474   The Tiger Lillies\n",
       "13796      0.595305    Peppino di Capri\n",
       "9841       0.591366  Stockholm Monsters\n",
       "2321       0.574845         Erkin Koray"
      ]
     },
     "metadata": {},
     "output_type": "display_data"
    },
    {
     "data": {
      "image/png": "[encoded data removed]",
      "text/plain": [
       "<Figure size 1440x576 with 1 Axes>"
      ]
     },
     "metadata": {
      "needs_background": "light"
     },
     "output_type": "display_data"
    }
   ],
   "source": [
    "# Solution\n",
    "model_lowinit = build_model(user_artists_norm, embedding_dim=30, init_stddev=0.05)\n",
    "model_lowinit.train(num_iterations=1000, learning_rate=10.)\n",
    "artist_neighbors(model_lowinit, \"Johnny Cash\", DOT)\n",
    "artist_neighbors(model_lowinit, \"Johnny Cash\", COSINE)\n",
    "#movie_embedding_norm([model, model_lowinit])"
   ]
  },
  {
   "cell_type": "markdown",
   "id": "d413918a",
   "metadata": {},
   "source": [
    "## 4) Regularization In Matrix Factorization\n",
    "\n",
    "In the code above, loss was defined as the mean squared error on the observed part of the rating matrix.  This can often cause issues when the model does not learn how to place the embeddings of irrelevant artists. This is called *folding*.\n",
    "\n",
    "We add some regularization terms to deal with this problem:\n",
    "- Regularization of the model parameters. This is a common regularization term on the embedding matrices, given by \n",
    "$$\n",
    "r(U, V) =  \\frac{1}{N} \\sum_i \\|U_i\\|^2 + \\frac{1}{M}\\sum_j \\|V_j\\|^2\n",
    "$$\n",
    "- A global prior that pushes the prediction of any pair towards zero, called the *gravity* term. This is given by \n",
    "$$\n",
    "g(U, V) = \\frac{1}{MN} \\sum_{i = 1}^N \\sum_{j = 1}^M \\langle U_i, V_j \\rangle^2\n",
    "$$\n",
    "\n",
    "Total loss can now be calculated as:\n",
    "$$\n",
    "\\frac{1}{|\\Omega|}\\sum_{(i, j) \\in \\Omega} (A_{ij} - \\langle U_i, V_j\\rangle)^2 + \\lambda _r r(U, V) + \\lambda_g g(U, V)\n",
    "$$"
   ]
  },
  {
   "cell_type": "code",
   "execution_count": 50,
   "id": "d510c4e3",
   "metadata": {},
   "outputs": [],
   "source": [
    "\n",
    "def gravity(U, V):\n",
    "  return 1. / (U.shape[0].value*V.shape[0].value) * tf.reduce_sum(\n",
    "      tf.matmul(U, U, transpose_a=True) * tf.matmul(V, V, transpose_a=True))\n",
    "\n",
    "def build_regularized_model(\n",
    "    ratings, embedding_dim=3, regularization_coeff=.1, gravity_coeff=1.,\n",
    "    init_stddev=0.1):\n",
    "  # Split the ratings DataFrame into train and test.\n",
    "  train_ratings, test_ratings = split_dataframe(ratings)\n",
    "  # SparseTensor representation of the train and test datasets.\n",
    "  A_train = build_rating_sparse_tensor(train_ratings)\n",
    "  A_test = build_rating_sparse_tensor(test_ratings)\n",
    "  U = tf.Variable(tf.random_normal(\n",
    "      [A_train.dense_shape[0], embedding_dim], stddev=init_stddev))\n",
    "  V = tf.Variable(tf.random_normal(\n",
    "      [A_train.dense_shape[1], embedding_dim], stddev=init_stddev))\n",
    "\n",
    "  error_train = sparse_mean_square_error(A_train, U, V)\n",
    "  error_test = sparse_mean_square_error(A_test, U, V)\n",
    "  gravity_loss = gravity_coeff * gravity(U, V)\n",
    "  regularization_loss = regularization_coeff * (\n",
    "      tf.reduce_sum(U*U)/U.shape[0].value + tf.reduce_sum(V*V)/V.shape[0].value)\n",
    "  total_loss = error_train + regularization_loss + gravity_loss\n",
    "  losses = {\n",
    "      'train_error_observed': error_train,\n",
    "      'test_error_observed': error_test,\n",
    "  }\n",
    "  loss_components = {\n",
    "      'observed_loss': error_train,\n",
    "      'regularization_loss': regularization_loss,\n",
    "      'gravity_loss': gravity_loss,\n",
    "  }\n",
    "  embeddings = {\"userId\": U, \"artistID\": V}\n",
    "\n",
    "  return CFModel(embeddings, total_loss, [losses, loss_components])"
   ]
  },
  {
   "cell_type": "markdown",
   "id": "ec9d8f97",
   "metadata": {},
   "source": [
    "We build the regularised model and observe the results"
   ]
  },
  {
   "cell_type": "code",
   "execution_count": 51,
   "id": "8d3e08dd",
   "metadata": {},
   "outputs": [
    {
     "name": "stdout",
     "output_type": "stream",
     "text": [
      " iteration 2000: train_error_observed=0.000124, test_error_observed=0.000041, observed_loss=0.000124, regularization_loss=0.003518, gravity_loss=0.000000"
     ]
    },
    {
     "data": {
      "text/plain": [
       "[{'train_error_observed': 0.00012389044, 'test_error_observed': 4.1243988e-05},\n",
       " {'observed_loss': 0.00012389044,\n",
       "  'regularization_loss': 0.0035177122,\n",
       "  'gravity_loss': 2.569125e-08}]"
      ]
     },
     "execution_count": 51,
     "metadata": {},
     "output_type": "execute_result"
    },
    {
     "data": {
      "image/png": "[encoded data removed]",
      "text/plain": [
       "<Figure size 2160x576 with 2 Axes>"
      ]
     },
     "metadata": {
      "needs_background": "light"
     },
     "output_type": "display_data"
    }
   ],
   "source": [
    "reg_model = build_regularized_model(\n",
    "    user_artists_norm, regularization_coeff=0.1, gravity_coeff=1.0, embedding_dim=35,\n",
    "    init_stddev=.05)\n",
    "reg_model.train(num_iterations=2000, learning_rate=20.)"
   ]
  },
  {
   "cell_type": "markdown",
   "id": "6d627c12",
   "metadata": {},
   "source": [
    "### Testing"
   ]
  },
  {
   "cell_type": "code",
   "execution_count": 52,
   "id": "e06b6b7e",
   "metadata": {
    "scrolled": false
   },
   "outputs": [
    {
     "name": "stdout",
     "output_type": "stream",
     "text": [
      "Nearest neighbors of : Johnny Cash.\n",
      "[Found more than one matching artist. Other candidates: Johnny Cash & Willie Nelson]\n"
     ]
    },
    {
     "data": {
      "text/html": [
       "<div>\n",
       "<style scoped>\n",
       "    .dataframe tbody tr th:only-of-type {\n",
       "        vertical-align: middle;\n",
       "    }\n",
       "\n",
       "    .dataframe tbody tr th {\n",
       "        vertical-align: top;\n",
       "    }\n",
       "\n",
       "    .dataframe thead th {\n",
       "        text-align: right;\n",
       "    }\n",
       "</style>\n",
       "<table border=\"1\" class=\"dataframe\">\n",
       "  <thead>\n",
       "    <tr style=\"text-align: right;\">\n",
       "      <th></th>\n",
       "      <th>dot score</th>\n",
       "      <th>names</th>\n",
       "    </tr>\n",
       "  </thead>\n",
       "  <tbody>\n",
       "    <tr>\n",
       "      <th>712</th>\n",
       "      <td>0.049078</td>\n",
       "      <td>Johnny Cash</td>\n",
       "    </tr>\n",
       "    <tr>\n",
       "      <th>2560</th>\n",
       "      <td>0.046092</td>\n",
       "      <td>Biffy Clyro</td>\n",
       "    </tr>\n",
       "    <tr>\n",
       "      <th>13796</th>\n",
       "      <td>0.043852</td>\n",
       "      <td>Peppino di Capri</td>\n",
       "    </tr>\n",
       "    <tr>\n",
       "      <th>7122</th>\n",
       "      <td>0.038829</td>\n",
       "      <td>Ben Lee</td>\n",
       "    </tr>\n",
       "    <tr>\n",
       "      <th>5444</th>\n",
       "      <td>0.037943</td>\n",
       "      <td>w-inds.</td>\n",
       "    </tr>\n",
       "    <tr>\n",
       "      <th>15300</th>\n",
       "      <td>0.037257</td>\n",
       "      <td>Culture</td>\n",
       "    </tr>\n",
       "  </tbody>\n",
       "</table>\n",
       "</div>"
      ],
      "text/plain": [
       "       dot score             names\n",
       "712     0.049078       Johnny Cash\n",
       "2560    0.046092       Biffy Clyro\n",
       "13796   0.043852  Peppino di Capri\n",
       "7122    0.038829           Ben Lee\n",
       "5444    0.037943           w-inds.\n",
       "15300   0.037257           Culture"
      ]
     },
     "metadata": {},
     "output_type": "display_data"
    },
    {
     "name": "stdout",
     "output_type": "stream",
     "text": [
      "Nearest neighbors of : Johnny Cash.\n",
      "[Found more than one matching artist. Other candidates: Johnny Cash & Willie Nelson]\n"
     ]
    },
    {
     "data": {
      "text/html": [
       "<div>\n",
       "<style scoped>\n",
       "    .dataframe tbody tr th:only-of-type {\n",
       "        vertical-align: middle;\n",
       "    }\n",
       "\n",
       "    .dataframe tbody tr th {\n",
       "        vertical-align: top;\n",
       "    }\n",
       "\n",
       "    .dataframe thead th {\n",
       "        text-align: right;\n",
       "    }\n",
       "</style>\n",
       "<table border=\"1\" class=\"dataframe\">\n",
       "  <thead>\n",
       "    <tr style=\"text-align: right;\">\n",
       "      <th></th>\n",
       "      <th>cosine score</th>\n",
       "      <th>names</th>\n",
       "    </tr>\n",
       "  </thead>\n",
       "  <tbody>\n",
       "    <tr>\n",
       "      <th>712</th>\n",
       "      <td>1.000000</td>\n",
       "      <td>Johnny Cash</td>\n",
       "    </tr>\n",
       "    <tr>\n",
       "      <th>2560</th>\n",
       "      <td>0.716862</td>\n",
       "      <td>Biffy Clyro</td>\n",
       "    </tr>\n",
       "    <tr>\n",
       "      <th>188</th>\n",
       "      <td>0.595474</td>\n",
       "      <td>The Tiger Lillies</td>\n",
       "    </tr>\n",
       "    <tr>\n",
       "      <th>13796</th>\n",
       "      <td>0.595305</td>\n",
       "      <td>Peppino di Capri</td>\n",
       "    </tr>\n",
       "    <tr>\n",
       "      <th>9841</th>\n",
       "      <td>0.591366</td>\n",
       "      <td>Stockholm Monsters</td>\n",
       "    </tr>\n",
       "    <tr>\n",
       "      <th>2321</th>\n",
       "      <td>0.574845</td>\n",
       "      <td>Erkin Koray</td>\n",
       "    </tr>\n",
       "  </tbody>\n",
       "</table>\n",
       "</div>"
      ],
      "text/plain": [
       "       cosine score               names\n",
       "712        1.000000         Johnny Cash\n",
       "2560       0.716862         Biffy Clyro\n",
       "188        0.595474   The Tiger Lillies\n",
       "13796      0.595305    Peppino di Capri\n",
       "9841       0.591366  Stockholm Monsters\n",
       "2321       0.574845         Erkin Koray"
      ]
     },
     "metadata": {},
     "output_type": "display_data"
    }
   ],
   "source": [
    "artist_neighbors(model_lowinit, \"Johnny Cash\", DOT)\n",
    "artist_neighbors(model_lowinit, \"Johnny Cash\", COSINE)"
   ]
  },
  {
   "cell_type": "markdown",
   "id": "97b93670",
   "metadata": {},
   "source": [
    "## Results"
   ]
  },
  {
   "cell_type": "markdown",
   "id": "1be33a9f",
   "metadata": {},
   "source": [
    "Our recommender system is fully functional and outputs artists based on similarity metrics to whatever artist the user enters. The system appears to have some issues as there are often useful recommendations alongside other, not so useful recommendations. The inner workings of the systems need some work before this would be deemed acceptable however as a starting point it is a useful recommender system to be further fine tuned."
   ]
  },
  {
   "cell_type": "markdown",
   "id": "a31e2883",
   "metadata": {},
   "source": [
    "# Novel Lyrics Display\n",
    "\n",
    "This section details the novel lyrics aspect of this system. A user can input a favourite artist and song and will be returned some classic lyrics from that artist on screen."
   ]
  },
  {
   "cell_type": "code",
   "execution_count": 94,
   "id": "6eb350a4",
   "metadata": {
    "collapsed": true
   },
   "outputs": [
    {
     "name": "stdout",
     "output_type": "stream",
     "text": [
      "Requirement already satisfied: lyricsgenius in /Users/dockreg/anaconda3/lib/python3.7/site-packages (3.0.1)\n",
      "Requirement already satisfied: requests>=2.20.0 in /Users/dockreg/anaconda3/lib/python3.7/site-packages (from lyricsgenius) (2.26.0)\n",
      "Requirement already satisfied: beautifulsoup4>=4.6.0 in /Users/dockreg/anaconda3/lib/python3.7/site-packages (from lyricsgenius) (4.10.0)\n",
      "Requirement already satisfied: soupsieve>1.2 in /Users/dockreg/anaconda3/lib/python3.7/site-packages (from beautifulsoup4>=4.6.0->lyricsgenius) (2.2.1)\n",
      "Requirement already satisfied: urllib3<1.27,>=1.21.1 in /Users/dockreg/anaconda3/lib/python3.7/site-packages (from requests>=2.20.0->lyricsgenius) (1.26.6)\n",
      "Requirement already satisfied: idna<4,>=2.5 in /Users/dockreg/anaconda3/lib/python3.7/site-packages (from requests>=2.20.0->lyricsgenius) (3.2)\n",
      "Requirement already satisfied: charset-normalizer~=2.0.0 in /Users/dockreg/anaconda3/lib/python3.7/site-packages (from requests>=2.20.0->lyricsgenius) (2.0.4)\n",
      "Requirement already satisfied: certifi>=2017.4.17 in /Users/dockreg/anaconda3/lib/python3.7/site-packages (from requests>=2.20.0->lyricsgenius) (2021.10.8)\n",
      "Note: you may need to restart the kernel to use updated packages.\n"
     ]
    }
   ],
   "source": [
    "pip install lyricsgenius"
   ]
  },
  {
   "cell_type": "code",
   "execution_count": 96,
   "id": "b2603105",
   "metadata": {},
   "outputs": [],
   "source": [
    "import os\n",
    "import json\n",
    "import time"
   ]
  },
  {
   "cell_type": "markdown",
   "id": "a4d6652b",
   "metadata": {},
   "source": [
    "Token has been removed below after successfully running the API call"
   ]
  },
  {
   "cell_type": "code",
   "execution_count": 97,
   "id": "eb25d7db",
   "metadata": {},
   "outputs": [],
   "source": [
    "token = 'xxxxxxxxxxxxxxxxxxxxxxxxxxx'"
   ]
  },
  {
   "cell_type": "code",
   "execution_count": 98,
   "id": "251c061e",
   "metadata": {},
   "outputs": [],
   "source": [
    "import lyricsgenius as lg\n",
    "genius = lg.Genius(token)"
   ]
  },
  {
   "cell_type": "code",
   "execution_count": 99,
   "id": "fce9b10b",
   "metadata": {},
   "outputs": [],
   "source": [
    "song_title = \"Walk the line\"\n",
    "artist_name = \"Johnny Cash\""
   ]
  },
  {
   "cell_type": "code",
   "execution_count": 100,
   "id": "84ac4d15",
   "metadata": {
    "scrolled": true
   },
   "outputs": [
    {
     "name": "stdout",
     "output_type": "stream",
     "text": [
      "Searching for \"Walk the line\" by Johnny Cash...\n",
      "Done.\n"
     ]
    }
   ],
   "source": [
    "song = genius.search_song(title=song_title, artist=artist_name)"
   ]
  },
  {
   "cell_type": "code",
   "execution_count": 101,
   "id": "e167ddae",
   "metadata": {},
   "outputs": [],
   "source": [
    "lyrics = song.lyrics"
   ]
  },
  {
   "cell_type": "code",
   "execution_count": 105,
   "id": "40fcfcec",
   "metadata": {},
   "outputs": [],
   "source": [
    "l=lyrics.split('\\n')"
   ]
  },
  {
   "cell_type": "code",
   "execution_count": 106,
   "id": "722a5739",
   "metadata": {
    "scrolled": false
   },
   "outputs": [
    {
     "name": "stdout",
     "output_type": "stream",
     "text": [
      "[Verse 1]\n",
      "I keep a close watch on this heart of mine\n",
      "I keep my eyes wide open all the time\n",
      "I keep the ends out for the tie that binds\n",
      "Because you're mine, I walk the line\n",
      "\n",
      "[Verse 2]\n",
      "I find it very, very easy to be true\n",
      "I find myself alone when each day is through\n",
      "Yes, I'll admit that I'm a fool for you\n",
      "Because you're mine, I walk the line\n",
      "\n",
      "[Verse 3]\n",
      "As sure as night is dark and day is light\n",
      "I keep you on my mind both day and night\n",
      "And happiness I've known proves that it's right\n",
      "Because you're mine, I walk the line\n",
      "\n",
      "[Verse 4]\n",
      "You've got a way to keep me on your side\n",
      "You give me cause for love that I can't hide\n",
      "For you, I know I'd even try to turn the tide\n",
      "Because you're mine, I walk the line\n",
      "\n",
      "[Verse 1]\n",
      "I keep a close watch on this heart of mine\n",
      "I keep my eyes wide open all the time\n",
      "I keep the ends out for the tie that binds\n",
      "Because you're mine, I walk the line22EmbedShare URLCopyEmbedCopy\n"
     ]
    }
   ],
   "source": [
    "for line in l:\n",
    "    print(line)\n",
    "    time.sleep(2)"
   ]
  },
  {
   "cell_type": "markdown",
   "id": "7eb31086",
   "metadata": {},
   "source": [
    "<img src=\"https://www.billboard.com/wp-content/uploads/media/johnny-cash-bw-portrait-klm-billboard-1548.jpg\" width=750 height=750 />"
   ]
  }
 ],
 "metadata": {
  "kernelspec": {
   "display_name": "Python 3 (ipykernel)",
   "language": "python",
   "name": "python3"
  },
  "language_info": {
   "codemirror_mode": {
    "name": "ipython",
    "version": 3
   },
   "file_extension": ".py",
   "mimetype": "text/x-python",
   "name": "python",
   "nbconvert_exporter": "python",
   "pygments_lexer": "ipython3",
   "version": "3.7.3"
  }
 },
 "nbformat": 4,
 "nbformat_minor": 5
}
